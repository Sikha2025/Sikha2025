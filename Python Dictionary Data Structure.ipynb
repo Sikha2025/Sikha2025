{
 "cells": [
  {
   "cell_type": "markdown",
   "id": "d74dffb4-ffae-406f-b5a6-b32503e407a2",
   "metadata": {},
   "source": [
    "### Dictionary Data Structure"
   ]
  },
  {
   "cell_type": "markdown",
   "id": "d2aa9b05-d89a-4e60-8d68-fd575beabad0",
   "metadata": {},
   "source": [
    "- Rules and Guidelines of Dictionary Data Structure\n",
    "  - Dictionary is the combination of keys and values\n",
    "  - In Dictionary keys should be immutable where as values can be immutable or mutable\n",
    "  - Dictionary like JSON (Java Script Object Notation)\n",
    "  - Dictionary enclosed within the {}\n",
    "  - Dictionary can be created using {} and using dict function\n",
    "  "
   ]
  },
  {
   "cell_type": "code",
   "execution_count": 9,
   "id": "64f9968c-5ee4-42e0-80bd-43f9aff9d26f",
   "metadata": {},
   "outputs": [],
   "source": [
    "dct = dict()"
   ]
  },
  {
   "cell_type": "code",
   "execution_count": 11,
   "id": "87ff639e-4b91-4981-b633-d65b228a6a7e",
   "metadata": {},
   "outputs": [
    {
     "data": {
      "text/plain": [
       "{}"
      ]
     },
     "execution_count": 11,
     "metadata": {},
     "output_type": "execute_result"
    }
   ],
   "source": [
    "dct"
   ]
  },
  {
   "cell_type": "code",
   "execution_count": 15,
   "id": "432a44b2-4f51-452a-85aa-ba4cbf3bc6df",
   "metadata": {},
   "outputs": [
    {
     "data": {
      "text/plain": [
       "dict"
      ]
     },
     "execution_count": 15,
     "metadata": {},
     "output_type": "execute_result"
    }
   ],
   "source": [
    "d = {}\n",
    "type(d)"
   ]
  },
  {
   "cell_type": "code",
   "execution_count": 17,
   "id": "9645f076-884a-498f-9013-6472dbaefb4b",
   "metadata": {},
   "outputs": [
    {
     "name": "stdout",
     "output_type": "stream",
     "text": [
      "['clear', 'copy', 'fromkeys', 'get', 'items', 'keys', 'pop', 'popitem', 'setdefault', 'update', 'values']\n"
     ]
    }
   ],
   "source": [
    "print([i for i in dir(dict) if \"__\" not in i])"
   ]
  },
  {
   "cell_type": "code",
   "execution_count": 19,
   "id": "d5665873-4040-481c-9b32-b5a70af9243c",
   "metadata": {},
   "outputs": [],
   "source": [
    "# Every dictionary can be combination of key and its value."
   ]
  },
  {
   "cell_type": "code",
   "execution_count": 21,
   "id": "c84c1b47-b499-4634-94d8-974e6b40e0cc",
   "metadata": {},
   "outputs": [],
   "source": [
    "employeeDB = {\"EmployeeID\" : [101,102,103,104,105],\n",
    "              \"EmployeeName\" : ['Som','Vamsee','Anuj','Eric','Samar'],\n",
    "              'Grade' : [\"A\",'A','A','A','A'],\n",
    "              \"City\" : ['Chennai','Delhi','Noida','Sydney','GOA'],\n",
    "              \"Sales\" : [100,200,250,100,230]\n",
    "             }"
   ]
  },
  {
   "cell_type": "code",
   "execution_count": 23,
   "id": "ef1fafa3-24d8-4796-9370-f67be8ded7fc",
   "metadata": {},
   "outputs": [
    {
     "data": {
      "text/plain": [
       "{'EmployeeID': [101, 102, 103, 104, 105],\n",
       " 'EmployeeName': ['Som', 'Vamsee', 'Anuj', 'Eric', 'Samar'],\n",
       " 'Grade': ['A', 'A', 'A', 'A', 'A'],\n",
       " 'City': ['Chennai', 'Delhi', 'Noida', 'Sydney', 'GOA'],\n",
       " 'Sales': [100, 200, 250, 100, 230]}"
      ]
     },
     "execution_count": 23,
     "metadata": {},
     "output_type": "execute_result"
    }
   ],
   "source": [
    "employeeDB"
   ]
  },
  {
   "cell_type": "code",
   "execution_count": 25,
   "id": "3a93cd39-3cfe-40a0-a45d-e102c32f78b9",
   "metadata": {},
   "outputs": [],
   "source": [
    "# Access the keys of dictionary"
   ]
  },
  {
   "cell_type": "code",
   "execution_count": 27,
   "id": "d21db573-1aa9-4649-9f30-92ce03cbecce",
   "metadata": {},
   "outputs": [
    {
     "data": {
      "text/plain": [
       "dict_keys(['EmployeeID', 'EmployeeName', 'Grade', 'City', 'Sales'])"
      ]
     },
     "execution_count": 27,
     "metadata": {},
     "output_type": "execute_result"
    }
   ],
   "source": [
    "employeeDB.keys()"
   ]
  },
  {
   "cell_type": "code",
   "execution_count": 29,
   "id": "91eab0c9-d44a-4dec-8fdb-e6d5b5820573",
   "metadata": {},
   "outputs": [
    {
     "data": {
      "text/plain": [
       "dict_values([[101, 102, 103, 104, 105], ['Som', 'Vamsee', 'Anuj', 'Eric', 'Samar'], ['A', 'A', 'A', 'A', 'A'], ['Chennai', 'Delhi', 'Noida', 'Sydney', 'GOA'], [100, 200, 250, 100, 230]])"
      ]
     },
     "execution_count": 29,
     "metadata": {},
     "output_type": "execute_result"
    }
   ],
   "source": [
    "employeeDB.values()"
   ]
  },
  {
   "cell_type": "code",
   "execution_count": 31,
   "id": "5cde439f-6454-4d97-abc8-d095887cc069",
   "metadata": {},
   "outputs": [
    {
     "data": {
      "text/plain": [
       "dict_items([('EmployeeID', [101, 102, 103, 104, 105]), ('EmployeeName', ['Som', 'Vamsee', 'Anuj', 'Eric', 'Samar']), ('Grade', ['A', 'A', 'A', 'A', 'A']), ('City', ['Chennai', 'Delhi', 'Noida', 'Sydney', 'GOA']), ('Sales', [100, 200, 250, 100, 230])])"
      ]
     },
     "execution_count": 31,
     "metadata": {},
     "output_type": "execute_result"
    }
   ],
   "source": [
    "# keys with items\n",
    "employeeDB.items()"
   ]
  },
  {
   "cell_type": "code",
   "execution_count": 33,
   "id": "967f8982-85b3-499f-928b-a6b7f106ba09",
   "metadata": {},
   "outputs": [],
   "source": [
    "import pandas as pd"
   ]
  },
  {
   "cell_type": "code",
   "execution_count": 35,
   "id": "f0181687-5c1c-429d-8c39-f297a2d70c8f",
   "metadata": {},
   "outputs": [],
   "source": [
    "data = pd.DataFrame(employeeDB)"
   ]
  },
  {
   "cell_type": "code",
   "execution_count": 37,
   "id": "6ba8e89e-887f-4069-9551-d28ca2d20c66",
   "metadata": {},
   "outputs": [
    {
     "data": {
      "text/html": [
       "<div>\n",
       "<style scoped>\n",
       "    .dataframe tbody tr th:only-of-type {\n",
       "        vertical-align: middle;\n",
       "    }\n",
       "\n",
       "    .dataframe tbody tr th {\n",
       "        vertical-align: top;\n",
       "    }\n",
       "\n",
       "    .dataframe thead th {\n",
       "        text-align: right;\n",
       "    }\n",
       "</style>\n",
       "<table border=\"1\" class=\"dataframe\">\n",
       "  <thead>\n",
       "    <tr style=\"text-align: right;\">\n",
       "      <th></th>\n",
       "      <th>EmployeeID</th>\n",
       "      <th>EmployeeName</th>\n",
       "      <th>Grade</th>\n",
       "      <th>City</th>\n",
       "      <th>Sales</th>\n",
       "    </tr>\n",
       "  </thead>\n",
       "  <tbody>\n",
       "    <tr>\n",
       "      <th>0</th>\n",
       "      <td>101</td>\n",
       "      <td>Som</td>\n",
       "      <td>A</td>\n",
       "      <td>Chennai</td>\n",
       "      <td>100</td>\n",
       "    </tr>\n",
       "    <tr>\n",
       "      <th>1</th>\n",
       "      <td>102</td>\n",
       "      <td>Vamsee</td>\n",
       "      <td>A</td>\n",
       "      <td>Delhi</td>\n",
       "      <td>200</td>\n",
       "    </tr>\n",
       "    <tr>\n",
       "      <th>2</th>\n",
       "      <td>103</td>\n",
       "      <td>Anuj</td>\n",
       "      <td>A</td>\n",
       "      <td>Noida</td>\n",
       "      <td>250</td>\n",
       "    </tr>\n",
       "    <tr>\n",
       "      <th>3</th>\n",
       "      <td>104</td>\n",
       "      <td>Eric</td>\n",
       "      <td>A</td>\n",
       "      <td>Sydney</td>\n",
       "      <td>100</td>\n",
       "    </tr>\n",
       "    <tr>\n",
       "      <th>4</th>\n",
       "      <td>105</td>\n",
       "      <td>Samar</td>\n",
       "      <td>A</td>\n",
       "      <td>GOA</td>\n",
       "      <td>230</td>\n",
       "    </tr>\n",
       "  </tbody>\n",
       "</table>\n",
       "</div>"
      ],
      "text/plain": [
       "   EmployeeID EmployeeName Grade     City  Sales\n",
       "0         101          Som     A  Chennai    100\n",
       "1         102       Vamsee     A    Delhi    200\n",
       "2         103         Anuj     A    Noida    250\n",
       "3         104         Eric     A   Sydney    100\n",
       "4         105        Samar     A      GOA    230"
      ]
     },
     "execution_count": 37,
     "metadata": {},
     "output_type": "execute_result"
    }
   ],
   "source": [
    "data"
   ]
  },
  {
   "cell_type": "code",
   "execution_count": 39,
   "id": "87571d65-7010-49e6-b5ad-df1bce5481b2",
   "metadata": {},
   "outputs": [
    {
     "data": {
      "text/plain": [
       "{'EmployeeID': [101, 102, 103, 104, 105],\n",
       " 'EmployeeName': ['Som', 'Vamsee', 'Anuj', 'Eric', 'Samar'],\n",
       " 'Grade': ['A', 'A', 'A', 'A', 'A'],\n",
       " 'City': ['Chennai', 'Delhi', 'Noida', 'Sydney', 'GOA'],\n",
       " 'Sales': [100, 200, 250, 100, 230]}"
      ]
     },
     "execution_count": 39,
     "metadata": {},
     "output_type": "execute_result"
    }
   ],
   "source": [
    "employeeDB"
   ]
  },
  {
   "cell_type": "code",
   "execution_count": 41,
   "id": "5ef4e6ac-6394-4bab-9b86-0cabfb234b35",
   "metadata": {},
   "outputs": [
    {
     "data": {
      "text/plain": [
       "['Chennai', 'Delhi', 'Noida', 'Sydney', 'GOA']"
      ]
     },
     "execution_count": 41,
     "metadata": {},
     "output_type": "execute_result"
    }
   ],
   "source": [
    "employeeDB.get(\"City\")"
   ]
  },
  {
   "cell_type": "code",
   "execution_count": 43,
   "id": "cf77e0d7-a5cb-4f33-baac-62844a76a35d",
   "metadata": {},
   "outputs": [],
   "source": [
    "employeeDB.get(\"Salary\")"
   ]
  },
  {
   "cell_type": "code",
   "execution_count": 45,
   "id": "a7da4c4a-4de5-4fbc-8144-4a9728ce0341",
   "metadata": {},
   "outputs": [
    {
     "data": {
      "text/plain": [
       "['Chennai', 'Delhi', 'Noida', 'Sydney', 'GOA']"
      ]
     },
     "execution_count": 45,
     "metadata": {},
     "output_type": "execute_result"
    }
   ],
   "source": [
    "employeeDB['City']"
   ]
  },
  {
   "cell_type": "code",
   "execution_count": 47,
   "id": "982e19b9-d712-4ced-b69e-1beae1adcca4",
   "metadata": {},
   "outputs": [
    {
     "data": {
      "text/plain": [
       "[100, 200, 250, 100, 230]"
      ]
     },
     "execution_count": 47,
     "metadata": {},
     "output_type": "execute_result"
    }
   ],
   "source": [
    "employeeDB['Sales']"
   ]
  },
  {
   "cell_type": "code",
   "execution_count": 49,
   "id": "d60becd6-52fa-4dce-8766-c01749ce70d5",
   "metadata": {},
   "outputs": [
    {
     "ename": "KeyError",
     "evalue": "'Salary'",
     "output_type": "error",
     "traceback": [
      "\u001b[0;31m---------------------------------------------------------------------------\u001b[0m",
      "\u001b[0;31mKeyError\u001b[0m                                  Traceback (most recent call last)",
      "Cell \u001b[0;32mIn[49], line 1\u001b[0m\n\u001b[0;32m----> 1\u001b[0m employeeDB[\u001b[38;5;124m'\u001b[39m\u001b[38;5;124mSalary\u001b[39m\u001b[38;5;124m'\u001b[39m]\n",
      "\u001b[0;31mKeyError\u001b[0m: 'Salary'"
     ]
    }
   ],
   "source": [
    "employeeDB['Salary']"
   ]
  },
  {
   "cell_type": "code",
   "execution_count": 53,
   "id": "8679839f-1aa5-4cd9-8794-538cb2cf50c9",
   "metadata": {},
   "outputs": [
    {
     "data": {
      "text/plain": [
       "{'EmployeeID': [101, 102, 103, 104, 105],\n",
       " 'EmployeeName': ['Som', 'Vamsee', 'Anuj', 'Eric', 'Samar'],\n",
       " 'Grade': ['A', 'A', 'A', 'A', 'A'],\n",
       " 'City': ['Chennai', 'Delhi', 'Noida', 'Sydney', 'GOA'],\n",
       " 'Sales': [100, 200, 250, 100, 230]}"
      ]
     },
     "execution_count": 53,
     "metadata": {},
     "output_type": "execute_result"
    }
   ],
   "source": [
    "employeeDB"
   ]
  },
  {
   "cell_type": "code",
   "execution_count": 57,
   "id": "ce7475b4-0b46-40a1-a33a-2cae2559718a",
   "metadata": {},
   "outputs": [],
   "source": [
    "employeeDB.update({\"Sales\" : [200,200]})"
   ]
  },
  {
   "cell_type": "code",
   "execution_count": 59,
   "id": "b2a36397-3efd-4b88-8efa-69ca2d8cd320",
   "metadata": {},
   "outputs": [
    {
     "data": {
      "text/plain": [
       "{'EmployeeID': [101, 102, 103, 104, 105],\n",
       " 'EmployeeName': ['Som', 'Vamsee', 'Anuj', 'Eric', 'Samar'],\n",
       " 'Grade': ['A', 'A', 'A', 'A', 'A'],\n",
       " 'City': ['Chennai', 'Delhi', 'Noida', 'Sydney', 'GOA'],\n",
       " 'Sales': [200, 200]}"
      ]
     },
     "execution_count": 59,
     "metadata": {},
     "output_type": "execute_result"
    }
   ],
   "source": [
    "employeeDB"
   ]
  },
  {
   "cell_type": "code",
   "execution_count": 61,
   "id": "a241753b-0bb4-4c60-a325-ef6aabc26767",
   "metadata": {},
   "outputs": [],
   "source": [
    "# popitem"
   ]
  },
  {
   "cell_type": "code",
   "execution_count": 63,
   "id": "dd749ac6-0e5f-485d-a51e-8b925791b81f",
   "metadata": {},
   "outputs": [
    {
     "data": {
      "text/plain": [
       "\u001b[0;31mSignature:\u001b[0m \u001b[0memployeeDB\u001b[0m\u001b[0;34m.\u001b[0m\u001b[0mpopitem\u001b[0m\u001b[0;34m(\u001b[0m\u001b[0;34m)\u001b[0m\u001b[0;34m\u001b[0m\u001b[0;34m\u001b[0m\u001b[0m\n",
       "\u001b[0;31mDocstring:\u001b[0m\n",
       "Remove and return a (key, value) pair as a 2-tuple.\n",
       "\n",
       "Pairs are returned in LIFO (last-in, first-out) order.\n",
       "Raises KeyError if the dict is empty.\n",
       "\u001b[0;31mType:\u001b[0m      builtin_function_or_method"
      ]
     },
     "metadata": {},
     "output_type": "display_data"
    }
   ],
   "source": [
    "employeeDB.popitem?"
   ]
  },
  {
   "cell_type": "code",
   "execution_count": 65,
   "id": "8caf3513-7da0-497e-b0d9-ec27782d4620",
   "metadata": {},
   "outputs": [],
   "source": [
    "dct = {1:10,\"A\" : 100, 1:111,\"X\" : 100}"
   ]
  },
  {
   "cell_type": "code",
   "execution_count": 67,
   "id": "3042821c-7449-4760-8502-ed16fcfb8b4e",
   "metadata": {},
   "outputs": [
    {
     "data": {
      "text/plain": [
       "{1: 111, 'A': 100, 'X': 100}"
      ]
     },
     "execution_count": 67,
     "metadata": {},
     "output_type": "execute_result"
    }
   ],
   "source": [
    "dct"
   ]
  },
  {
   "cell_type": "code",
   "execution_count": 69,
   "id": "bfce89de-58e6-4924-b2e5-38d1c12bce3d",
   "metadata": {},
   "outputs": [
    {
     "data": {
      "text/plain": [
       "('X', 100)"
      ]
     },
     "execution_count": 69,
     "metadata": {},
     "output_type": "execute_result"
    }
   ],
   "source": [
    "dct.popitem()"
   ]
  },
  {
   "cell_type": "code",
   "execution_count": 71,
   "id": "2e96a6fd-f06c-457e-894d-b4e8f234b35f",
   "metadata": {},
   "outputs": [
    {
     "data": {
      "text/plain": [
       "{1: 111, 'A': 100}"
      ]
     },
     "execution_count": 71,
     "metadata": {},
     "output_type": "execute_result"
    }
   ],
   "source": [
    "dct"
   ]
  },
  {
   "cell_type": "code",
   "execution_count": 73,
   "id": "1a335bed-54b2-4d65-9d09-55a732d2895b",
   "metadata": {},
   "outputs": [
    {
     "data": {
      "text/plain": [
       "('A', 100)"
      ]
     },
     "execution_count": 73,
     "metadata": {},
     "output_type": "execute_result"
    }
   ],
   "source": [
    "dct.popitem()"
   ]
  },
  {
   "cell_type": "code",
   "execution_count": 75,
   "id": "6f4d935f-a2a2-4c4c-81f6-3dabf09ac605",
   "metadata": {},
   "outputs": [
    {
     "data": {
      "text/plain": [
       "{1: 111}"
      ]
     },
     "execution_count": 75,
     "metadata": {},
     "output_type": "execute_result"
    }
   ],
   "source": [
    "dct"
   ]
  },
  {
   "cell_type": "code",
   "execution_count": 77,
   "id": "0ac5d950-0385-403e-82fc-e2c3e5951133",
   "metadata": {},
   "outputs": [
    {
     "data": {
      "text/plain": [
       "(1, 111)"
      ]
     },
     "execution_count": 77,
     "metadata": {},
     "output_type": "execute_result"
    }
   ],
   "source": [
    "dct.popitem()"
   ]
  },
  {
   "cell_type": "code",
   "execution_count": 79,
   "id": "82aa61b2-5248-4409-9817-d04fbcb11abf",
   "metadata": {},
   "outputs": [
    {
     "data": {
      "text/plain": [
       "{}"
      ]
     },
     "execution_count": 79,
     "metadata": {},
     "output_type": "execute_result"
    }
   ],
   "source": [
    "dct"
   ]
  },
  {
   "cell_type": "code",
   "execution_count": 81,
   "id": "51299a10-dec4-49f1-bde8-12ba1649e35c",
   "metadata": {},
   "outputs": [
    {
     "ename": "KeyError",
     "evalue": "'popitem(): dictionary is empty'",
     "output_type": "error",
     "traceback": [
      "\u001b[0;31m---------------------------------------------------------------------------\u001b[0m",
      "\u001b[0;31mKeyError\u001b[0m                                  Traceback (most recent call last)",
      "Cell \u001b[0;32mIn[81], line 1\u001b[0m\n\u001b[0;32m----> 1\u001b[0m dct\u001b[38;5;241m.\u001b[39mpopitem()\n",
      "\u001b[0;31mKeyError\u001b[0m: 'popitem(): dictionary is empty'"
     ]
    }
   ],
   "source": [
    "dct.popitem()"
   ]
  },
  {
   "cell_type": "code",
   "execution_count": 83,
   "id": "692be4bf-fce1-4e3c-984c-c188783f025a",
   "metadata": {},
   "outputs": [],
   "source": [
    "dct = {1:10,\"A\" : 100, 1:111,\"X\" : 100, \"100\" : [1.2,3,4,5]}"
   ]
  },
  {
   "cell_type": "code",
   "execution_count": 85,
   "id": "e2d87ae2-9a72-4349-9f08-eb99b368a8db",
   "metadata": {},
   "outputs": [
    {
     "data": {
      "text/plain": [
       "{1: 111, 'A': 100, 'X': 100, '100': [1.2, 3, 4, 5]}"
      ]
     },
     "execution_count": 85,
     "metadata": {},
     "output_type": "execute_result"
    }
   ],
   "source": [
    "dct"
   ]
  },
  {
   "cell_type": "code",
   "execution_count": 89,
   "id": "1707e698-4e2c-4d09-8656-285d544c7a57",
   "metadata": {},
   "outputs": [
    {
     "data": {
      "text/plain": [
       "100"
      ]
     },
     "execution_count": 89,
     "metadata": {},
     "output_type": "execute_result"
    }
   ],
   "source": [
    "dct.pop(\"X\")"
   ]
  },
  {
   "cell_type": "code",
   "execution_count": 91,
   "id": "7ed1676a-5b6e-42af-95fb-a373f64b81b2",
   "metadata": {},
   "outputs": [
    {
     "data": {
      "text/plain": [
       "{1: 111, 'A': 100, '100': [1.2, 3, 4, 5]}"
      ]
     },
     "execution_count": 91,
     "metadata": {},
     "output_type": "execute_result"
    }
   ],
   "source": [
    "dct"
   ]
  },
  {
   "cell_type": "code",
   "execution_count": 93,
   "id": "b0a79c73-8bad-43b1-b80e-80582c9a68fe",
   "metadata": {},
   "outputs": [
    {
     "data": {
      "text/plain": [
       "[1.2, 3, 4, 5]"
      ]
     },
     "execution_count": 93,
     "metadata": {},
     "output_type": "execute_result"
    }
   ],
   "source": [
    "dct.pop('100')"
   ]
  },
  {
   "cell_type": "code",
   "execution_count": 95,
   "id": "51eb6a74-fb6a-44c4-b3f8-83ee0dda2166",
   "metadata": {},
   "outputs": [
    {
     "data": {
      "text/plain": [
       "{1: 111, 'A': 100}"
      ]
     },
     "execution_count": 95,
     "metadata": {},
     "output_type": "execute_result"
    }
   ],
   "source": [
    "dct"
   ]
  },
  {
   "cell_type": "markdown",
   "id": "44883b7c-a762-40cd-9df6-406405abdb8f",
   "metadata": {},
   "source": [
    "# setDefault\n",
    "\n",
    "Using this function we can set the default value of your dictionary key."
   ]
  },
  {
   "cell_type": "code",
   "execution_count": 100,
   "id": "b0446933-d896-4a33-9e9d-4f1fd51a73f9",
   "metadata": {},
   "outputs": [
    {
     "data": {
      "text/plain": [
       "{'EmployeeID': [101, 102, 103, 104, 105],\n",
       " 'EmployeeName': ['Som', 'Vamsee', 'Anuj', 'Eric', 'Samar'],\n",
       " 'Grade': ['A', 'A', 'A', 'A', 'A'],\n",
       " 'City': ['Chennai', 'Delhi', 'Noida', 'Sydney', 'GOA'],\n",
       " 'Sales': [200, 200]}"
      ]
     },
     "execution_count": 100,
     "metadata": {},
     "output_type": "execute_result"
    }
   ],
   "source": [
    "employeeDB"
   ]
  },
  {
   "cell_type": "code",
   "execution_count": 102,
   "id": "7cf8e879-ab7e-40ea-a170-377dea8ef2c6",
   "metadata": {},
   "outputs": [
    {
     "data": {
      "text/plain": [
       "'AAAAA-DDDD-A'"
      ]
     },
     "execution_count": 102,
     "metadata": {},
     "output_type": "execute_result"
    }
   ],
   "source": [
    "employeeDB.setdefault('PAN','AAAAA-DDDD-A')"
   ]
  },
  {
   "cell_type": "code",
   "execution_count": 104,
   "id": "9c60eb12-179c-4cce-a3ac-a97a7c50e5d2",
   "metadata": {},
   "outputs": [
    {
     "data": {
      "text/plain": [
       "{'EmployeeID': [101, 102, 103, 104, 105],\n",
       " 'EmployeeName': ['Som', 'Vamsee', 'Anuj', 'Eric', 'Samar'],\n",
       " 'Grade': ['A', 'A', 'A', 'A', 'A'],\n",
       " 'City': ['Chennai', 'Delhi', 'Noida', 'Sydney', 'GOA'],\n",
       " 'Sales': [200, 200],\n",
       " 'PAN': 'AAAAA-DDDD-A'}"
      ]
     },
     "execution_count": 104,
     "metadata": {},
     "output_type": "execute_result"
    }
   ],
   "source": [
    "employeeDB"
   ]
  },
  {
   "cell_type": "markdown",
   "id": "0b381640-2a1f-4de5-a90a-be5485dc03bd",
   "metadata": {},
   "source": [
    "### Fromkeys\n",
    "\n",
    "Using this function we can define the dictionary very quickly. This function will assign a key and value."
   ]
  },
  {
   "cell_type": "code",
   "execution_count": 137,
   "id": "465d1921-af7a-458e-904a-3dcddeed2ba0",
   "metadata": {},
   "outputs": [
    {
     "data": {
      "text/plain": [
       "{10: None, 20: None, 40: None, 50: None, 60: None}"
      ]
     },
     "execution_count": 137,
     "metadata": {},
     "output_type": "execute_result"
    }
   ],
   "source": [
    "dict.fromkeys([10,20,40,50,60,10,10,10]) # fromkeys assign the value None : by default"
   ]
  },
  {
   "cell_type": "code",
   "execution_count": 109,
   "id": "f72516ce-39a0-4b15-a391-7540ba3129bc",
   "metadata": {},
   "outputs": [
    {
     "data": {
      "text/plain": [
       "{10: 10, 20: 10, 40: 10, 50: 10, 60: 10}"
      ]
     },
     "execution_count": 109,
     "metadata": {},
     "output_type": "execute_result"
    }
   ],
   "source": [
    "dict.fromkeys([10,20,40,50,60],10)"
   ]
  },
  {
   "cell_type": "code",
   "execution_count": 111,
   "id": "31c31a10-9100-4e2f-9d52-5c95a035e789",
   "metadata": {},
   "outputs": [
    {
     "data": {
      "text/plain": [
       "{10: [10, 4, 5],\n",
       " 20: [10, 4, 5],\n",
       " 40: [10, 4, 5],\n",
       " 50: [10, 4, 5],\n",
       " 60: [10, 4, 5]}"
      ]
     },
     "execution_count": 111,
     "metadata": {},
     "output_type": "execute_result"
    }
   ],
   "source": [
    "dict.fromkeys([10,20,40,50,60],[10,4,5])"
   ]
  },
  {
   "cell_type": "markdown",
   "id": "80bb42d0-7007-48db-94c7-ccc8c25d8d4c",
   "metadata": {},
   "source": [
    "### Interview Query"
   ]
  },
  {
   "cell_type": "code",
   "execution_count": 114,
   "id": "97021bdc-34b7-489b-9b48-cbd136c57a0e",
   "metadata": {},
   "outputs": [],
   "source": [
    "lstOfNumbers = [10,20,40,30,20,40,50,10,20,50,60,70,55]"
   ]
  },
  {
   "cell_type": "code",
   "execution_count": 116,
   "id": "54714a06-9620-4faf-a486-a3343971abd7",
   "metadata": {},
   "outputs": [
    {
     "data": {
      "text/plain": [
       "[70, 40, 10, 50, 20, 55, 60, 30]"
      ]
     },
     "execution_count": 116,
     "metadata": {},
     "output_type": "execute_result"
    }
   ],
   "source": [
    "list(set(lstOfNumbers))"
   ]
  },
  {
   "cell_type": "code",
   "execution_count": 118,
   "id": "a91d2b97-6ab7-4057-8847-722ebc85226f",
   "metadata": {},
   "outputs": [],
   "source": [
    "# We can not store the duplicate key in the dictionary"
   ]
  },
  {
   "cell_type": "code",
   "execution_count": 122,
   "id": "9741d44a-68f5-46bc-9d4a-fde56fe6422d",
   "metadata": {},
   "outputs": [
    {
     "data": {
      "text/plain": [
       "[10, 20, 40, 30, 20, 40, 50, 10, 20, 50, 60, 70, 55]"
      ]
     },
     "execution_count": 122,
     "metadata": {},
     "output_type": "execute_result"
    }
   ],
   "source": [
    "lstOfNumbers"
   ]
  },
  {
   "cell_type": "code",
   "execution_count": 126,
   "id": "9e5f6d4f-3e8a-45ef-b74f-9d48adb1a37a",
   "metadata": {},
   "outputs": [
    {
     "data": {
      "text/plain": [
       "[10, 20, 40, 30, 50, 60, 70, 55]"
      ]
     },
     "execution_count": 126,
     "metadata": {},
     "output_type": "execute_result"
    }
   ],
   "source": [
    "list(dict.fromkeys(lstOfNumbers).keys())"
   ]
  },
  {
   "cell_type": "code",
   "execution_count": 128,
   "id": "ce6cc0e5-d6d2-40cf-abaf-403023650e72",
   "metadata": {},
   "outputs": [
    {
     "data": {
      "text/plain": [
       "{'EmployeeID': [101, 102, 103, 104, 105],\n",
       " 'EmployeeName': ['Som', 'Vamsee', 'Anuj', 'Eric', 'Samar'],\n",
       " 'Grade': ['A', 'A', 'A', 'A', 'A'],\n",
       " 'City': ['Chennai', 'Delhi', 'Noida', 'Sydney', 'GOA'],\n",
       " 'Sales': [200, 200],\n",
       " 'PAN': 'AAAAA-DDDD-A'}"
      ]
     },
     "execution_count": 128,
     "metadata": {},
     "output_type": "execute_result"
    }
   ],
   "source": [
    "employeeDB"
   ]
  },
  {
   "cell_type": "code",
   "execution_count": 132,
   "id": "cd5d9a91-395e-40cd-82bc-0dd180e649b7",
   "metadata": {},
   "outputs": [],
   "source": [
    "employeeDB['Grade'] = ['B','B','B','B','B','B','B','B']"
   ]
  },
  {
   "cell_type": "code",
   "execution_count": 134,
   "id": "18a7725a-c946-4d17-9cd7-c0d1fb544f3b",
   "metadata": {},
   "outputs": [
    {
     "data": {
      "text/plain": [
       "{'EmployeeID': [101, 102, 103, 104, 105],\n",
       " 'EmployeeName': ['Som', 'Vamsee', 'Anuj', 'Eric', 'Samar'],\n",
       " 'Grade': ['B', 'B', 'B', 'B', 'B', 'B', 'B', 'B'],\n",
       " 'City': ['Chennai', 'Delhi', 'Noida', 'Sydney', 'GOA'],\n",
       " 'Sales': [200, 200],\n",
       " 'PAN': 'AAAAA-DDDD-A'}"
      ]
     },
     "execution_count": 134,
     "metadata": {},
     "output_type": "execute_result"
    }
   ],
   "source": [
    "employeeDB"
   ]
  },
  {
   "cell_type": "markdown",
   "id": "069040a1-3165-4bca-93bc-c0d6877c5bcb",
   "metadata": {},
   "source": [
    "### Note:\n",
    "\n",
    "Python dictionary can hold structure or un-structure dataset efficiently."
   ]
  },
  {
   "cell_type": "code",
   "execution_count": null,
   "id": "4c29e1c6-b891-499f-8a32-d34910315f67",
   "metadata": {},
   "outputs": [],
   "source": []
  },
  {
   "cell_type": "code",
   "execution_count": null,
   "id": "bd5b7e0e-cde3-4be7-819e-27525cc95f20",
   "metadata": {},
   "outputs": [],
   "source": []
  },
  {
   "cell_type": "code",
   "execution_count": null,
   "id": "dec0ffe9-7d12-45b7-927e-98ead5199b26",
   "metadata": {},
   "outputs": [],
   "source": []
  },
  {
   "cell_type": "code",
   "execution_count": null,
   "id": "855023f9-ad56-48e7-938f-f034f6f50a9e",
   "metadata": {},
   "outputs": [],
   "source": []
  },
  {
   "cell_type": "code",
   "execution_count": null,
   "id": "82a13810-6f20-404e-ba48-c973b22e710a",
   "metadata": {},
   "outputs": [],
   "source": []
  },
  {
   "cell_type": "code",
   "execution_count": null,
   "id": "57cc4620-e7ea-45b0-84b1-385d73b50514",
   "metadata": {},
   "outputs": [],
   "source": []
  },
  {
   "cell_type": "code",
   "execution_count": null,
   "id": "4bfd33e5-f4f6-4d45-9131-3e96fff9c87e",
   "metadata": {},
   "outputs": [],
   "source": []
  },
  {
   "cell_type": "code",
   "execution_count": null,
   "id": "a0417efc-3d79-4ee9-aeb3-caefcbaa9bad",
   "metadata": {},
   "outputs": [],
   "source": []
  },
  {
   "cell_type": "code",
   "execution_count": null,
   "id": "34214373-64b9-4603-9b02-643e41851cc9",
   "metadata": {},
   "outputs": [],
   "source": []
  },
  {
   "cell_type": "code",
   "execution_count": null,
   "id": "6a2690be-4df1-4073-aeba-d2ab561eea29",
   "metadata": {},
   "outputs": [],
   "source": []
  },
  {
   "cell_type": "code",
   "execution_count": null,
   "id": "219439fc-fb91-4f07-952c-dc581ff8649d",
   "metadata": {},
   "outputs": [],
   "source": []
  },
  {
   "cell_type": "code",
   "execution_count": null,
   "id": "62097dce-c798-4333-96ca-54b4cfd7b07c",
   "metadata": {},
   "outputs": [],
   "source": []
  },
  {
   "cell_type": "code",
   "execution_count": null,
   "id": "479be18e-9da6-41bd-9208-4d3f689e856d",
   "metadata": {},
   "outputs": [],
   "source": []
  },
  {
   "cell_type": "code",
   "execution_count": null,
   "id": "67f43166-062d-4c00-aa13-8846aa5f21ef",
   "metadata": {},
   "outputs": [],
   "source": []
  },
  {
   "cell_type": "code",
   "execution_count": null,
   "id": "48ee2739-2836-4707-a024-e1ed13aedd21",
   "metadata": {},
   "outputs": [],
   "source": []
  },
  {
   "cell_type": "code",
   "execution_count": null,
   "id": "d1d1fa4a-a9cb-45bc-b733-daea61248d23",
   "metadata": {},
   "outputs": [],
   "source": []
  },
  {
   "cell_type": "code",
   "execution_count": null,
   "id": "f5063a80-d225-4095-b6f7-ffcc9a935b8b",
   "metadata": {},
   "outputs": [],
   "source": []
  },
  {
   "cell_type": "code",
   "execution_count": null,
   "id": "4257e42a-9a2b-43f5-bfa1-aec9c441666f",
   "metadata": {},
   "outputs": [],
   "source": []
  },
  {
   "cell_type": "code",
   "execution_count": null,
   "id": "b81134d7-7d5e-41d8-9ad8-1a971f6f9ec0",
   "metadata": {},
   "outputs": [],
   "source": []
  },
  {
   "cell_type": "code",
   "execution_count": null,
   "id": "b436e63e-7289-48cd-88b7-cd89a4e86ae2",
   "metadata": {},
   "outputs": [],
   "source": []
  },
  {
   "cell_type": "code",
   "execution_count": null,
   "id": "40c96dba-2d32-4d33-800e-9b2c5271f010",
   "metadata": {},
   "outputs": [],
   "source": []
  },
  {
   "cell_type": "code",
   "execution_count": null,
   "id": "300fc1cd-d2cd-4cf5-968f-62869f3854c7",
   "metadata": {},
   "outputs": [],
   "source": []
  },
  {
   "cell_type": "code",
   "execution_count": null,
   "id": "83d8bf4c-77f2-4a7c-8be1-5dfaba6f4238",
   "metadata": {},
   "outputs": [],
   "source": []
  },
  {
   "cell_type": "code",
   "execution_count": null,
   "id": "412c6856-20fc-4cd4-b148-5f3672920d49",
   "metadata": {},
   "outputs": [],
   "source": []
  },
  {
   "cell_type": "code",
   "execution_count": null,
   "id": "77dbdeab-12c6-484f-8b43-34f700eba494",
   "metadata": {},
   "outputs": [],
   "source": []
  },
  {
   "cell_type": "code",
   "execution_count": null,
   "id": "9dd938df-f4f9-426b-b60c-73000eb73d78",
   "metadata": {},
   "outputs": [],
   "source": []
  },
  {
   "cell_type": "code",
   "execution_count": null,
   "id": "ac2175db-7051-4042-af06-8142df16218b",
   "metadata": {},
   "outputs": [],
   "source": []
  },
  {
   "cell_type": "code",
   "execution_count": null,
   "id": "be0986c6-868e-4517-9298-53d90f8660bd",
   "metadata": {},
   "outputs": [],
   "source": []
  },
  {
   "cell_type": "code",
   "execution_count": null,
   "id": "e024fdeb-5c3f-4be3-baac-a6810455a4ef",
   "metadata": {},
   "outputs": [],
   "source": []
  },
  {
   "cell_type": "code",
   "execution_count": null,
   "id": "6a3f1d74-e1fc-4af9-8792-8f44cba69d41",
   "metadata": {},
   "outputs": [],
   "source": []
  },
  {
   "cell_type": "code",
   "execution_count": null,
   "id": "849fa0bb-9d57-411e-862c-2022f41b6aa8",
   "metadata": {},
   "outputs": [],
   "source": []
  },
  {
   "cell_type": "code",
   "execution_count": null,
   "id": "d6e4b326-d5ca-468f-b97c-b6ee2952dad0",
   "metadata": {},
   "outputs": [],
   "source": []
  },
  {
   "cell_type": "code",
   "execution_count": null,
   "id": "71971fc4-2124-43b4-8f93-3dadec188ed4",
   "metadata": {},
   "outputs": [],
   "source": []
  },
  {
   "cell_type": "code",
   "execution_count": null,
   "id": "9762d702-12d7-496a-ab82-1d588a3eb05c",
   "metadata": {},
   "outputs": [],
   "source": []
  }
 ],
 "metadata": {
  "kernelspec": {
   "display_name": "Python [conda env:base] *",
   "language": "python",
   "name": "conda-base-py"
  },
  "language_info": {
   "codemirror_mode": {
    "name": "ipython",
    "version": 3
   },
   "file_extension": ".py",
   "mimetype": "text/x-python",
   "name": "python",
   "nbconvert_exporter": "python",
   "pygments_lexer": "ipython3",
   "version": "3.12.7"
  }
 },
 "nbformat": 4,
 "nbformat_minor": 5
}
