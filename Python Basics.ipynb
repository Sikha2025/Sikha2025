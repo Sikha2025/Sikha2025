{
 "cells": [
  {
   "cell_type": "code",
   "execution_count": 2,
   "id": "4eb9a2db-6b68-42fc-bea4-6646ddde496d",
   "metadata": {},
   "outputs": [
    {
     "name": "stdout",
     "output_type": "stream",
     "text": [
      "Welcome to Python Programming\n"
     ]
    }
   ],
   "source": [
    "print(\"Welcome to Python Programming\")"
   ]
  },
  {
   "cell_type": "code",
   "execution_count": 6,
   "id": "88d7c8cd-e5f9-41ad-bcb3-548d1bff4c5a",
   "metadata": {},
   "outputs": [
    {
     "name": "stdout",
     "output_type": "stream",
     "text": [
      "Hello Programmers\n"
     ]
    }
   ],
   "source": [
    "print('Hello Programmers')"
   ]
  },
  {
   "cell_type": "code",
   "execution_count": 8,
   "id": "0a4eda62-a619-48e4-87db-ea9b34d51a0b",
   "metadata": {},
   "outputs": [
    {
     "data": {
      "text/plain": [
       "30"
      ]
     },
     "execution_count": 8,
     "metadata": {},
     "output_type": "execute_result"
    }
   ],
   "source": [
    "10 + 20"
   ]
  },
  {
   "cell_type": "code",
   "execution_count": 10,
   "id": "c801e277-8957-4fdb-aea8-1091a9ce6464",
   "metadata": {},
   "outputs": [
    {
     "data": {
      "text/plain": [
       "'Abhisheak Saraswat'"
      ]
     },
     "execution_count": 10,
     "metadata": {},
     "output_type": "execute_result"
    }
   ],
   "source": [
    "'Abhisheak Saraswat'"
   ]
  },
  {
   "cell_type": "markdown",
   "id": "3ede5466-2547-4885-9d6e-3106d3ba4345",
   "metadata": {},
   "source": [
    "## Note:\n",
    "\n",
    "In Python programming, we can enclosed the string either in single or double quotes."
   ]
  },
  {
   "cell_type": "code",
   "execution_count": 13,
   "id": "b1038fdc-3e32-4c43-b671-b3f0b8a26658",
   "metadata": {},
   "outputs": [
    {
     "data": {
      "text/plain": [
       "True"
      ]
     },
     "execution_count": 13,
     "metadata": {},
     "output_type": "execute_result"
    }
   ],
   "source": [
    "'a' == \"a\""
   ]
  },
  {
   "cell_type": "markdown",
   "id": "83af46bf-1e0b-475e-8e65-b5ba017c2e96",
   "metadata": {},
   "source": [
    "### Note:\n",
    "\n",
    "Python programming is a case-sensitive programming language.\n"
   ]
  },
  {
   "cell_type": "code",
   "execution_count": 16,
   "id": "ffb3b468-aee8-477e-be36-e3d4a21e9cdd",
   "metadata": {},
   "outputs": [
    {
     "data": {
      "text/plain": [
       "False"
      ]
     },
     "execution_count": 16,
     "metadata": {},
     "output_type": "execute_result"
    }
   ],
   "source": [
    "'A' == 'a'"
   ]
  },
  {
   "cell_type": "code",
   "execution_count": 18,
   "id": "c1b2f9c2-1465-48fc-b4f0-9ff7ea7e9f9f",
   "metadata": {},
   "outputs": [
    {
     "data": {
      "text/plain": [
       "True"
      ]
     },
     "execution_count": 18,
     "metadata": {},
     "output_type": "execute_result"
    }
   ],
   "source": [
    "10 == 10"
   ]
  },
  {
   "cell_type": "code",
   "execution_count": 24,
   "id": "0da735a1-fd75-494d-b058-c29f66b084f9",
   "metadata": {},
   "outputs": [
    {
     "data": {
      "text/plain": [
       "False"
      ]
     },
     "execution_count": 24,
     "metadata": {},
     "output_type": "execute_result"
    }
   ],
   "source": [
    "'Ojha' == 'ojha' # to compare the two thing which are equal or not."
   ]
  },
  {
   "cell_type": "code",
   "execution_count": null,
   "id": "46a56331-840f-4c92-b844-413f2cb5ef09",
   "metadata": {},
   "outputs": [],
   "source": [
    "# esc m : Markdown and esc y : code env"
   ]
  },
  {
   "cell_type": "markdown",
   "id": "e2df8135-90e5-499c-8d8a-4ec799e20a67",
   "metadata": {},
   "source": [
    "### Python Keywords\n",
    "\n",
    "Keywords are reserve words in Python for specific use.\n",
    "\n",
    "**Note:** We can recognize the keywords in jupyter notebook in <b> green color with bold </b>."
   ]
  },
  {
   "cell_type": "code",
   "execution_count": 32,
   "id": "a07c52c2-2b40-4257-ad0e-25b2b44036f8",
   "metadata": {},
   "outputs": [],
   "source": [
    "import keyword"
   ]
  },
  {
   "cell_type": "code",
   "execution_count": 34,
   "id": "a4f4e327-4259-41f3-8187-297d7cb193f8",
   "metadata": {},
   "outputs": [
    {
     "name": "stdout",
     "output_type": "stream",
     "text": [
      "['False', 'None', 'True', 'and', 'as', 'assert', 'async', 'await', 'break', 'class', 'continue', 'def', 'del', 'elif', 'else', 'except', 'finally', 'for', 'from', 'global', 'if', 'import', 'in', 'is', 'lambda', 'nonlocal', 'not', 'or', 'pass', 'raise', 'return', 'try', 'while', 'with', 'yield']\n"
     ]
    }
   ],
   "source": [
    "print(keyword.kwlist)"
   ]
  },
  {
   "cell_type": "code",
   "execution_count": 38,
   "id": "4216f15d-c419-49e1-90f3-0c976bdd37a7",
   "metadata": {},
   "outputs": [
    {
     "name": "stdout",
     "output_type": "stream",
     "text": [
      "['ArithmeticError', 'AssertionError', 'AttributeError', 'BaseException', 'BaseExceptionGroup', 'BlockingIOError', 'BrokenPipeError', 'BufferError', 'BytesWarning', 'ChildProcessError', 'ConnectionAbortedError', 'ConnectionError', 'ConnectionRefusedError', 'ConnectionResetError', 'DeprecationWarning', 'EOFError', 'Ellipsis', 'EncodingWarning', 'EnvironmentError', 'Exception', 'ExceptionGroup', 'False', 'FileExistsError', 'FileNotFoundError', 'FloatingPointError', 'FutureWarning', 'GeneratorExit', 'IOError', 'ImportError', 'ImportWarning', 'IndentationError', 'IndexError', 'InterruptedError', 'IsADirectoryError', 'KeyError', 'KeyboardInterrupt', 'LookupError', 'MemoryError', 'ModuleNotFoundError', 'NameError', 'None', 'NotADirectoryError', 'NotImplemented', 'NotImplementedError', 'OSError', 'OverflowError', 'PendingDeprecationWarning', 'PermissionError', 'ProcessLookupError', 'RecursionError', 'ReferenceError', 'ResourceWarning', 'RuntimeError', 'RuntimeWarning', 'StopAsyncIteration', 'StopIteration', 'SyntaxError', 'SyntaxWarning', 'SystemError', 'SystemExit', 'TabError', 'TimeoutError', 'True', 'TypeError', 'UnboundLocalError', 'UnicodeDecodeError', 'UnicodeEncodeError', 'UnicodeError', 'UnicodeTranslateError', 'UnicodeWarning', 'UserWarning', 'ValueError', 'Warning', 'ZeroDivisionError', '__IPYTHON__', '__build_class__', '__debug__', '__doc__', '__import__', '__loader__', '__name__', '__package__', '__spec__', 'abs', 'aiter', 'all', 'anext', 'any', 'ascii', 'bin', 'bool', 'breakpoint', 'bytearray', 'bytes', 'callable', 'chr', 'classmethod', 'compile', 'complex', 'copyright', 'credits', 'delattr', 'dict', 'dir', 'display', 'divmod', 'enumerate', 'eval', 'exec', 'execfile', 'filter', 'float', 'format', 'frozenset', 'get_ipython', 'getattr', 'globals', 'hasattr', 'hash', 'help', 'hex', 'id', 'input', 'int', 'isinstance', 'issubclass', 'iter', 'len', 'license', 'list', 'locals', 'map', 'max', 'memoryview', 'min', 'next', 'object', 'oct', 'open', 'ord', 'pow', 'print', 'property', 'range', 'repr', 'reversed', 'round', 'runfile', 'set', 'setattr', 'slice', 'sorted', 'staticmethod', 'str', 'sum', 'super', 'tuple', 'type', 'vars', 'zip']\n"
     ]
    }
   ],
   "source": [
    "print(dir(__builtins__))"
   ]
  },
  {
   "cell_type": "markdown",
   "id": "51ab66cd-65d0-4eb1-8981-607f2895749b",
   "metadata": {},
   "source": [
    "### Python Variables:\n",
    "\n",
    "Variables are containers which can hold **some piece of information**. In Python programming variables types determined based on the nature of the data thats why we are calling Python is a **dynamic semantic programming language** as well."
   ]
  },
  {
   "cell_type": "code",
   "execution_count": 43,
   "id": "4b1859ec-6361-4859-91c7-20d8f3cd6e90",
   "metadata": {},
   "outputs": [],
   "source": [
    "i = 32767"
   ]
  },
  {
   "cell_type": "code",
   "execution_count": 45,
   "id": "9b21e9c1-a960-48b2-82d5-a8072ecc12ab",
   "metadata": {},
   "outputs": [
    {
     "data": {
      "text/plain": [
       "int"
      ]
     },
     "execution_count": 45,
     "metadata": {},
     "output_type": "execute_result"
    }
   ],
   "source": [
    "type(i)"
   ]
  },
  {
   "cell_type": "code",
   "execution_count": 47,
   "id": "5cd6ff92-33e9-4753-8098-60b5eae8461c",
   "metadata": {},
   "outputs": [],
   "source": [
    "i = 8279457238945729347529837452937459202710025289734952734"
   ]
  },
  {
   "cell_type": "code",
   "execution_count": 49,
   "id": "c24d4aa9-bf6a-4902-b153-b4f3b2d4e78d",
   "metadata": {},
   "outputs": [
    {
     "data": {
      "text/plain": [
       "int"
      ]
     },
     "execution_count": 49,
     "metadata": {},
     "output_type": "execute_result"
    }
   ],
   "source": [
    "type(i)"
   ]
  },
  {
   "cell_type": "code",
   "execution_count": 51,
   "id": "0f87c459-c26a-4777-8586-cf9a583f58b5",
   "metadata": {},
   "outputs": [],
   "source": [
    "i = 'Abhisheak'"
   ]
  },
  {
   "cell_type": "code",
   "execution_count": 53,
   "id": "2948bbce-3947-4ce9-82d7-f9a027a9ba2b",
   "metadata": {},
   "outputs": [
    {
     "data": {
      "text/plain": [
       "str"
      ]
     },
     "execution_count": 53,
     "metadata": {},
     "output_type": "execute_result"
    }
   ],
   "source": [
    "type(i)"
   ]
  },
  {
   "cell_type": "code",
   "execution_count": 55,
   "id": "6ddb998e-a3e1-4407-ba25-75e4665d693a",
   "metadata": {},
   "outputs": [
    {
     "data": {
      "text/plain": [
       "float"
      ]
     },
     "execution_count": 55,
     "metadata": {},
     "output_type": "execute_result"
    }
   ],
   "source": [
    "i = 12.24938502934850293485902385092829438945\n",
    "type(i)"
   ]
  },
  {
   "cell_type": "code",
   "execution_count": 57,
   "id": "c0422330-72e2-406c-bf12-aceffbdf368e",
   "metadata": {},
   "outputs": [
    {
     "data": {
      "text/plain": [
       "bool"
      ]
     },
     "execution_count": 57,
     "metadata": {},
     "output_type": "execute_result"
    }
   ],
   "source": [
    "i = True\n",
    "type(i)"
   ]
  },
  {
   "cell_type": "code",
   "execution_count": 59,
   "id": "9cf03e41-98f0-42d6-9a8d-8ce618394263",
   "metadata": {},
   "outputs": [
    {
     "data": {
      "text/plain": [
       "complex"
      ]
     },
     "execution_count": 59,
     "metadata": {},
     "output_type": "execute_result"
    }
   ],
   "source": [
    "i = 3 + 4j\n",
    "type(i)"
   ]
  },
  {
   "cell_type": "code",
   "execution_count": null,
   "id": "d7e5f339-44e9-4a74-8ada-2d981c7c4899",
   "metadata": {},
   "outputs": [],
   "source": [
    "# 10 whole number\n",
    "# 10.50 Float"
   ]
  },
  {
   "cell_type": "markdown",
   "id": "7a319fe9-1f3a-44a8-9796-027ad8106494",
   "metadata": {},
   "source": [
    "### Python Operators:\n",
    "\n",
    "* Types of operators:\n",
    "  * Airthmetic Operator\n",
    "  * Logical Operator\n",
    "  * Comparision Operator\n",
    "  * Identity Operator\n",
    "  * Membership Operator\n",
    "  * BitWise Operator"
   ]
  },
  {
   "cell_type": "markdown",
   "id": "0e24c441-4430-4a0e-b68b-69e7da30a824",
   "metadata": {},
   "source": [
    "## Airthmetic Operator:\n",
    "\n",
    "+,-,*,/,**,//,%"
   ]
  },
  {
   "cell_type": "code",
   "execution_count": 73,
   "id": "650093d6-6c08-446f-b446-a920e06809df",
   "metadata": {},
   "outputs": [],
   "source": [
    "a = 10\n",
    "b = 20"
   ]
  },
  {
   "cell_type": "code",
   "execution_count": 75,
   "id": "7a4f6054-1648-4c99-bfc2-cc244a7c417a",
   "metadata": {},
   "outputs": [
    {
     "data": {
      "text/plain": [
       "30"
      ]
     },
     "execution_count": 75,
     "metadata": {},
     "output_type": "execute_result"
    }
   ],
   "source": [
    "a + b"
   ]
  },
  {
   "cell_type": "code",
   "execution_count": 77,
   "id": "de40bc59-2c47-4b56-9f8b-a4311efd3c4d",
   "metadata": {},
   "outputs": [
    {
     "data": {
      "text/plain": [
       "-10"
      ]
     },
     "execution_count": 77,
     "metadata": {},
     "output_type": "execute_result"
    }
   ],
   "source": [
    "a - b"
   ]
  },
  {
   "cell_type": "code",
   "execution_count": 79,
   "id": "602bf56e-6b9e-4c3f-9f65-de5b52f226c6",
   "metadata": {},
   "outputs": [
    {
     "data": {
      "text/plain": [
       "200"
      ]
     },
     "execution_count": 79,
     "metadata": {},
     "output_type": "execute_result"
    }
   ],
   "source": [
    "a * b"
   ]
  },
  {
   "cell_type": "code",
   "execution_count": 81,
   "id": "d5a3e09d-e5c8-4fbd-b2c6-5c51ec2e47af",
   "metadata": {},
   "outputs": [
    {
     "data": {
      "text/plain": [
       "2.0"
      ]
     },
     "execution_count": 81,
     "metadata": {},
     "output_type": "execute_result"
    }
   ],
   "source": [
    "b / a"
   ]
  },
  {
   "cell_type": "code",
   "execution_count": 84,
   "id": "87dfe259-f7ca-42ec-a128-2a134deeb09b",
   "metadata": {},
   "outputs": [
    {
     "data": {
      "text/plain": [
       "25"
      ]
     },
     "execution_count": 84,
     "metadata": {},
     "output_type": "execute_result"
    }
   ],
   "source": [
    "5 ** 2"
   ]
  },
  {
   "cell_type": "code",
   "execution_count": 88,
   "id": "d4dbabab-5475-4a36-8fd4-9637f878a33d",
   "metadata": {},
   "outputs": [
    {
     "data": {
      "text/plain": [
       "25"
      ]
     },
     "execution_count": 88,
     "metadata": {},
     "output_type": "execute_result"
    }
   ],
   "source": [
    "pow(5,2)"
   ]
  },
  {
   "cell_type": "code",
   "execution_count": 90,
   "id": "a1cc0c36-139c-4702-823d-3b9f8abee30d",
   "metadata": {},
   "outputs": [],
   "source": [
    "# floor division\n"
   ]
  },
  {
   "cell_type": "code",
   "execution_count": 92,
   "id": "c65079f9-bd25-4ab3-8fab-b85e2b8f2a0f",
   "metadata": {},
   "outputs": [
    {
     "data": {
      "text/plain": [
       "4"
      ]
     },
     "execution_count": 92,
     "metadata": {},
     "output_type": "execute_result"
    }
   ],
   "source": [
    "17 // 4"
   ]
  },
  {
   "cell_type": "code",
   "execution_count": 94,
   "id": "d89ce104-f3c2-4452-86e2-66ac93155ea3",
   "metadata": {},
   "outputs": [
    {
     "data": {
      "text/plain": [
       "9"
      ]
     },
     "execution_count": 94,
     "metadata": {},
     "output_type": "execute_result"
    }
   ],
   "source": [
    "351 // 39"
   ]
  },
  {
   "cell_type": "code",
   "execution_count": 96,
   "id": "85acf399-7d90-4fa2-84a1-7ce9d66011e4",
   "metadata": {},
   "outputs": [
    {
     "data": {
      "text/plain": [
       "6"
      ]
     },
     "execution_count": 96,
     "metadata": {},
     "output_type": "execute_result"
    }
   ],
   "source": [
    "19 // 3"
   ]
  },
  {
   "cell_type": "markdown",
   "id": "5a5b8f82-4a64-44fd-b19b-41929d7a0a10",
   "metadata": {},
   "source": [
    "### Modulus :\n",
    "Gives remainder."
   ]
  },
  {
   "cell_type": "code",
   "execution_count": 99,
   "id": "1c021886-9c5a-4faf-bd9c-7c0a3b453767",
   "metadata": {},
   "outputs": [
    {
     "data": {
      "text/plain": [
       "3"
      ]
     },
     "execution_count": 99,
     "metadata": {},
     "output_type": "execute_result"
    }
   ],
   "source": [
    "19 % 4"
   ]
  },
  {
   "cell_type": "code",
   "execution_count": 101,
   "id": "2242c4c7-ef5b-4187-99d9-cbefa31619dc",
   "metadata": {},
   "outputs": [
    {
     "data": {
      "text/plain": [
       "0"
      ]
     },
     "execution_count": 101,
     "metadata": {},
     "output_type": "execute_result"
    }
   ],
   "source": [
    "16 % 2 "
   ]
  },
  {
   "cell_type": "markdown",
   "id": "abf50f5c-33d5-43d3-bacc-4934d7c4ffe2",
   "metadata": {},
   "source": [
    "### Note:\n",
    "\n",
    "Jupyter notebook will give you by default last statement result."
   ]
  },
  {
   "cell_type": "code",
   "execution_count": 108,
   "id": "ef214ac7-5c2a-4276-960c-201b03f354c6",
   "metadata": {},
   "outputs": [
    {
     "name": "stdout",
     "output_type": "stream",
     "text": [
      "2\n",
      "4\n",
      "15\n"
     ]
    }
   ],
   "source": [
    "print(17 % 3)\n",
    "print(19 % 5)\n",
    "print(10 + 5)"
   ]
  },
  {
   "cell_type": "code",
   "execution_count": 110,
   "id": "81c08018-c93d-4e79-92ab-e8dbe03b546a",
   "metadata": {},
   "outputs": [
    {
     "name": "stdout",
     "output_type": "stream",
     "text": [
      "We are learning Python Programming at upGrad!!!\n",
      "We are learning Python Programming at upGrad!!!\n"
     ]
    }
   ],
   "source": [
    "print(\"We are learning Python Programming at upGrad!!!\")\n",
    "\n",
    "print(\"We are learning Python Programming at upGrad!!!\")"
   ]
  },
  {
   "cell_type": "markdown",
   "id": "36f84c2c-2c1d-410e-8392-a36a094e811e",
   "metadata": {},
   "source": [
    "### Comparision Operator and Assignment Operator\n",
    "\n",
    ">,<,>=,<=,=,==,!="
   ]
  },
  {
   "cell_type": "code",
   "execution_count": 113,
   "id": "0f7a5ce8-c415-4d2c-abf3-bb850af38239",
   "metadata": {},
   "outputs": [
    {
     "data": {
      "text/plain": [
       "True"
      ]
     },
     "execution_count": 113,
     "metadata": {},
     "output_type": "execute_result"
    }
   ],
   "source": [
    "5 >= 3"
   ]
  },
  {
   "cell_type": "code",
   "execution_count": 115,
   "id": "70fa4f10-84ba-498c-83ba-729e00df0494",
   "metadata": {},
   "outputs": [
    {
     "data": {
      "text/plain": [
       "False"
      ]
     },
     "execution_count": 115,
     "metadata": {},
     "output_type": "execute_result"
    }
   ],
   "source": [
    "5 == 7"
   ]
  },
  {
   "cell_type": "code",
   "execution_count": 117,
   "id": "f12ec1e9-a702-4f0a-98ff-135a418e843f",
   "metadata": {},
   "outputs": [
    {
     "data": {
      "text/plain": [
       "False"
      ]
     },
     "execution_count": 117,
     "metadata": {},
     "output_type": "execute_result"
    }
   ],
   "source": [
    "7 != 7"
   ]
  },
  {
   "cell_type": "code",
   "execution_count": 119,
   "id": "c46f6c54-8065-42e0-be3b-f4be83e42c40",
   "metadata": {},
   "outputs": [
    {
     "data": {
      "text/plain": [
       "False"
      ]
     },
     "execution_count": 119,
     "metadata": {},
     "output_type": "execute_result"
    }
   ],
   "source": [
    "10 <= 5"
   ]
  },
  {
   "cell_type": "code",
   "execution_count": 121,
   "id": "2fdb4499-652e-4918-b2f9-ca413d3b9144",
   "metadata": {},
   "outputs": [
    {
     "data": {
      "text/plain": [
       "True"
      ]
     },
     "execution_count": 121,
     "metadata": {},
     "output_type": "execute_result"
    }
   ],
   "source": [
    "10 >= -20"
   ]
  },
  {
   "cell_type": "code",
   "execution_count": null,
   "id": "6bb2d731-40fc-4270-9063-fa17dc410a87",
   "metadata": {},
   "outputs": [],
   "source": [
    "a = 100"
   ]
  },
  {
   "attachments": {
    "bed5b866-7daf-4cb7-9a94-ef11ba0f90be.png": {
     "image/png": "[encoded data removed]"
    }
   },
   "cell_type": "markdown",
   "id": "63fc790b-d87f-4d25-8c42-c0cec7d804e2",
   "metadata": {},
   "source": [
    "### Logical Operators\n",
    "\n",
    "* and : All the conditions must be statisfy as True then result will be True\n",
    "* or  : Any conditions evaluted as True then result will be True\n",
    "* not : True result evaluated as False and vice-versa.\n",
    "\n",
    "![image.png](attachment:bed5b866-7daf-4cb7-9a94-ef11ba0f90be.png)"
   ]
  },
  {
   "cell_type": "code",
   "execution_count": 127,
   "id": "0f0f61a7-2483-4671-ac07-e7c35f640c05",
   "metadata": {},
   "outputs": [
    {
     "data": {
      "text/plain": [
       "True"
      ]
     },
     "execution_count": 127,
     "metadata": {},
     "output_type": "execute_result"
    }
   ],
   "source": [
    "(5 >= 1) and (10 <= 50)"
   ]
  },
  {
   "cell_type": "code",
   "execution_count": 129,
   "id": "d6d3805f-0cd9-4fc0-ac03-c60915e0bb33",
   "metadata": {},
   "outputs": [
    {
     "data": {
      "text/plain": [
       "True"
      ]
     },
     "execution_count": 129,
     "metadata": {},
     "output_type": "execute_result"
    }
   ],
   "source": [
    "(10 == 10) and (\"A\" == \"A\") or (5 >= 5) and (6 >= 10)"
   ]
  },
  {
   "cell_type": "code",
   "execution_count": 131,
   "id": "71b860f7-4039-478e-9407-b38cc2569805",
   "metadata": {},
   "outputs": [
    {
     "data": {
      "text/plain": [
       "True"
      ]
     },
     "execution_count": 131,
     "metadata": {},
     "output_type": "execute_result"
    }
   ],
   "source": [
    "5 >= 3"
   ]
  },
  {
   "cell_type": "code",
   "execution_count": 133,
   "id": "4d2261d7-fecd-4153-bd04-9f7a93a70b61",
   "metadata": {},
   "outputs": [
    {
     "data": {
      "text/plain": [
       "False"
      ]
     },
     "execution_count": 133,
     "metadata": {},
     "output_type": "execute_result"
    }
   ],
   "source": [
    "not(5>=3)"
   ]
  },
  {
   "cell_type": "code",
   "execution_count": 137,
   "id": "96b467f5-b165-4802-b42d-3e8dc98e89bc",
   "metadata": {},
   "outputs": [
    {
     "data": {
      "text/plain": [
       "True"
      ]
     },
     "execution_count": 137,
     "metadata": {},
     "output_type": "execute_result"
    }
   ],
   "source": [
    "not(5 == 9)"
   ]
  },
  {
   "cell_type": "code",
   "execution_count": null,
   "id": "0c08d792-be2e-4852-bbba-669411dcf2c0",
   "metadata": {},
   "outputs": [],
   "source": [
    "((10 == 10) and (\"A\" == \"A\")) or ((5 >= 5) and (6 >= 10))"
   ]
  },
  {
   "cell_type": "code",
   "execution_count": 139,
   "id": "55ed0b34-583a-4354-8a48-9058c2c22709",
   "metadata": {},
   "outputs": [
    {
     "data": {
      "text/plain": [
       "True"
      ]
     },
     "execution_count": 139,
     "metadata": {},
     "output_type": "execute_result"
    }
   ],
   "source": [
    "(10 == 10) and ((\"A\" == \"A\") or ((5 >= 5) and (6 >= 10)))"
   ]
  },
  {
   "cell_type": "markdown",
   "id": "61738f05-3ab5-4816-a982-d5a057b41f60",
   "metadata": {},
   "source": [
    "### Membership Operator:(in)\n",
    "Using this operation we can check the item existence in the dataset."
   ]
  },
  {
   "cell_type": "code",
   "execution_count": 142,
   "id": "8d257577-5aab-4e06-adcc-eff590229275",
   "metadata": {},
   "outputs": [],
   "source": [
    "st = \"We are learning Python Programming\""
   ]
  },
  {
   "cell_type": "code",
   "execution_count": 145,
   "id": "96afbe60-a51e-4ddf-b894-8a832c5ef269",
   "metadata": {},
   "outputs": [
    {
     "data": {
      "text/plain": [
       "True"
      ]
     },
     "execution_count": 145,
     "metadata": {},
     "output_type": "execute_result"
    }
   ],
   "source": [
    "'thon' in st"
   ]
  },
  {
   "cell_type": "code",
   "execution_count": 147,
   "id": "46290da6-bf2d-4199-8f0e-3d9ca829a9c7",
   "metadata": {},
   "outputs": [
    {
     "data": {
      "text/plain": [
       "False"
      ]
     },
     "execution_count": 147,
     "metadata": {},
     "output_type": "execute_result"
    }
   ],
   "source": [
    "'Are' in st"
   ]
  },
  {
   "cell_type": "code",
   "execution_count": 149,
   "id": "9a1465b4-3bbc-4665-a169-3d481f6fb60d",
   "metadata": {},
   "outputs": [
    {
     "data": {
      "text/plain": [
       "False"
      ]
     },
     "execution_count": 149,
     "metadata": {},
     "output_type": "execute_result"
    }
   ],
   "source": [
    "'Modi' in st"
   ]
  },
  {
   "cell_type": "code",
   "execution_count": 151,
   "id": "42a26934-ca16-4457-bb79-1e1024ead62e",
   "metadata": {},
   "outputs": [
    {
     "data": {
      "text/plain": [
       "True"
      ]
     },
     "execution_count": 151,
     "metadata": {},
     "output_type": "execute_result"
    }
   ],
   "source": [
    "'Modi' not in st"
   ]
  },
  {
   "cell_type": "code",
   "execution_count": 153,
   "id": "58157aa9-7a8a-4ae6-9155-56045661fdf2",
   "metadata": {},
   "outputs": [
    {
     "data": {
      "text/plain": [
       "True"
      ]
     },
     "execution_count": 153,
     "metadata": {},
     "output_type": "execute_result"
    }
   ],
   "source": [
    "'Python' in st"
   ]
  },
  {
   "cell_type": "markdown",
   "id": "970a9ba5-e423-4472-aeb2-b2914acd19ad",
   "metadata": {},
   "source": [
    "### Identity Operator : 'is'"
   ]
  },
  {
   "cell_type": "code",
   "execution_count": 156,
   "id": "e9f2517b-37e7-43b9-9660-ffa468728175",
   "metadata": {},
   "outputs": [],
   "source": [
    "a = 20"
   ]
  },
  {
   "cell_type": "code",
   "execution_count": 158,
   "id": "22a8e0ea-ecd7-4f7c-b5ed-bee8c06207b6",
   "metadata": {},
   "outputs": [
    {
     "name": "stderr",
     "output_type": "stream",
     "text": [
      "<>:1: SyntaxWarning: \"is\" with 'int' literal. Did you mean \"==\"?\n",
      "<>:1: SyntaxWarning: \"is\" with 'int' literal. Did you mean \"==\"?\n",
      "/var/folders/h5/j3frnfpd1fs286377v2dh3n80000gn/T/ipykernel_28145/2440579968.py:1: SyntaxWarning: \"is\" with 'int' literal. Did you mean \"==\"?\n",
      "  a is 20\n"
     ]
    },
    {
     "data": {
      "text/plain": [
       "True"
      ]
     },
     "execution_count": 158,
     "metadata": {},
     "output_type": "execute_result"
    }
   ],
   "source": [
    "a is 20"
   ]
  },
  {
   "cell_type": "code",
   "execution_count": 160,
   "id": "6add983b-9e2b-4fa3-b9ed-f8a5065b168a",
   "metadata": {},
   "outputs": [
    {
     "data": {
      "text/plain": [
       "True"
      ]
     },
     "execution_count": 160,
     "metadata": {},
     "output_type": "execute_result"
    }
   ],
   "source": [
    "a == 20"
   ]
  },
  {
   "cell_type": "code",
   "execution_count": 162,
   "id": "06331387-f954-422a-8043-a0e972824b60",
   "metadata": {},
   "outputs": [
    {
     "name": "stderr",
     "output_type": "stream",
     "text": [
      "<>:1: SyntaxWarning: \"is\" with 'int' literal. Did you mean \"==\"?\n",
      "<>:1: SyntaxWarning: \"is\" with 'int' literal. Did you mean \"==\"?\n",
      "/var/folders/h5/j3frnfpd1fs286377v2dh3n80000gn/T/ipykernel_28145/3938569512.py:1: SyntaxWarning: \"is\" with 'int' literal. Did you mean \"==\"?\n",
      "  10 is 10\n"
     ]
    },
    {
     "data": {
      "text/plain": [
       "True"
      ]
     },
     "execution_count": 162,
     "metadata": {},
     "output_type": "execute_result"
    }
   ],
   "source": [
    "10 is 10"
   ]
  },
  {
   "cell_type": "code",
   "execution_count": 164,
   "id": "0e19811e-5364-46f1-a3bc-8720bd12b043",
   "metadata": {},
   "outputs": [
    {
     "name": "stderr",
     "output_type": "stream",
     "text": [
      "<>:1: SyntaxWarning: \"is\" with 'str' literal. Did you mean \"==\"?\n",
      "<>:1: SyntaxWarning: \"is\" with 'str' literal. Did you mean \"==\"?\n",
      "/var/folders/h5/j3frnfpd1fs286377v2dh3n80000gn/T/ipykernel_28145/1918403173.py:1: SyntaxWarning: \"is\" with 'str' literal. Did you mean \"==\"?\n",
      "  'A' is 'a'\n"
     ]
    },
    {
     "data": {
      "text/plain": [
       "False"
      ]
     },
     "execution_count": 164,
     "metadata": {},
     "output_type": "execute_result"
    }
   ],
   "source": [
    "'A' is 'a'"
   ]
  },
  {
   "cell_type": "markdown",
   "id": "94155d67-0dde-4ba6-bfa4-29548f8fdc09",
   "metadata": {},
   "source": [
    "### BitWise Operator\n",
    "\n",
    "* & (bitwise and)\n",
    "* | (bitwise or)"
   ]
  },
  {
   "cell_type": "code",
   "execution_count": 167,
   "id": "9928528b-7420-4c3e-aa8f-0766d30eee27",
   "metadata": {},
   "outputs": [
    {
     "data": {
      "text/plain": [
       "5"
      ]
     },
     "execution_count": 167,
     "metadata": {},
     "output_type": "execute_result"
    }
   ],
   "source": [
    "7 & 5"
   ]
  },
  {
   "cell_type": "code",
   "execution_count": 169,
   "id": "7780ec0c-ded5-4c16-8217-037933b00d14",
   "metadata": {},
   "outputs": [
    {
     "data": {
      "text/plain": [
       "5"
      ]
     },
     "execution_count": 169,
     "metadata": {},
     "output_type": "execute_result"
    }
   ],
   "source": [
    "5 & 7"
   ]
  },
  {
   "cell_type": "code",
   "execution_count": 171,
   "id": "92b62b86-609f-4980-98db-8f16b848a643",
   "metadata": {},
   "outputs": [
    {
     "data": {
      "text/plain": [
       "0"
      ]
     },
     "execution_count": 171,
     "metadata": {},
     "output_type": "execute_result"
    }
   ],
   "source": [
    "10 & 5"
   ]
  },
  {
   "cell_type": "code",
   "execution_count": 173,
   "id": "8f53db89-4df3-4437-a09f-507bb56f761f",
   "metadata": {},
   "outputs": [
    {
     "data": {
      "text/plain": [
       "15"
      ]
     },
     "execution_count": 173,
     "metadata": {},
     "output_type": "execute_result"
    }
   ],
   "source": [
    "10 | 5"
   ]
  },
  {
   "cell_type": "code",
   "execution_count": 175,
   "id": "76ed5982-33a3-45d7-a47b-e63c6cfc0211",
   "metadata": {},
   "outputs": [
    {
     "data": {
      "text/plain": [
       "5"
      ]
     },
     "execution_count": 175,
     "metadata": {},
     "output_type": "execute_result"
    }
   ],
   "source": [
    "# 7 & 5\n",
    "7 & 5"
   ]
  },
  {
   "cell_type": "code",
   "execution_count": 177,
   "id": "afc673ee-6605-416a-84b0-49d8d5c53627",
   "metadata": {},
   "outputs": [],
   "source": [
    "# what is the binary of 7 and 5 : \n",
    "# In Binary: 1 -> True and 0 -> False"
   ]
  },
  {
   "cell_type": "code",
   "execution_count": 179,
   "id": "14ede395-40c2-4ae5-b3ea-a75f3968b8d2",
   "metadata": {},
   "outputs": [
    {
     "data": {
      "text/plain": [
       "'0b111'"
      ]
     },
     "execution_count": 179,
     "metadata": {},
     "output_type": "execute_result"
    }
   ],
   "source": [
    "bin(7)"
   ]
  },
  {
   "cell_type": "code",
   "execution_count": 181,
   "id": "4ca0c502-391b-4a7b-9254-9d7c3fb287ae",
   "metadata": {},
   "outputs": [
    {
     "data": {
      "text/plain": [
       "'0b101'"
      ]
     },
     "execution_count": 181,
     "metadata": {},
     "output_type": "execute_result"
    }
   ],
   "source": [
    "bin(5)"
   ]
  },
  {
   "cell_type": "code",
   "execution_count": null,
   "id": "0c8f2ead-3619-4af0-b37a-1a8781167a17",
   "metadata": {},
   "outputs": [],
   "source": [
    "1 1 1\n",
    "1 0 1 &\n",
    "______\n",
    "1 0 1"
   ]
  },
  {
   "cell_type": "code",
   "execution_count": 183,
   "id": "26844c7f-e05f-4cd3-85f3-90c571a1da06",
   "metadata": {},
   "outputs": [
    {
     "name": "stdout",
     "output_type": "stream",
     "text": [
      "5\n"
     ]
    }
   ],
   "source": [
    "print(0b101)"
   ]
  },
  {
   "cell_type": "code",
   "execution_count": 185,
   "id": "e4454d44-3ff1-45da-8b44-0b19eebdd34c",
   "metadata": {},
   "outputs": [
    {
     "data": {
      "text/plain": [
       "'0b1010'"
      ]
     },
     "execution_count": 185,
     "metadata": {},
     "output_type": "execute_result"
    }
   ],
   "source": [
    "bin(10)"
   ]
  },
  {
   "cell_type": "code",
   "execution_count": 187,
   "id": "d168305b-4b67-48cd-8f8e-8f1241968da2",
   "metadata": {},
   "outputs": [
    {
     "data": {
      "text/plain": [
       "'0b101'"
      ]
     },
     "execution_count": 187,
     "metadata": {},
     "output_type": "execute_result"
    }
   ],
   "source": [
    "bin(5)"
   ]
  },
  {
   "cell_type": "code",
   "execution_count": null,
   "id": "6e954632-7082-4355-bf93-8f4bf998df4b",
   "metadata": {},
   "outputs": [],
   "source": [
    "1 0 1 0\n",
    "0 1 0 1 |\n",
    "_________\n",
    "1 1 1 1    "
   ]
  },
  {
   "cell_type": "code",
   "execution_count": 189,
   "id": "51e598d2-6775-4793-a1c4-d0a7a29129da",
   "metadata": {},
   "outputs": [
    {
     "name": "stdout",
     "output_type": "stream",
     "text": [
      "15\n"
     ]
    }
   ],
   "source": [
    "print(0b1111)"
   ]
  },
  {
   "cell_type": "code",
   "execution_count": 191,
   "id": "83f7cb87-a102-4b33-924c-68296cdc4415",
   "metadata": {},
   "outputs": [
    {
     "data": {
      "text/plain": [
       "15"
      ]
     },
     "execution_count": 191,
     "metadata": {},
     "output_type": "execute_result"
    }
   ],
   "source": [
    "10 | 5"
   ]
  },
  {
   "cell_type": "code",
   "execution_count": null,
   "id": "4d4f0969-cd25-4361-8d23-c6292ff7ae7c",
   "metadata": {},
   "outputs": [],
   "source": [
    "1 0 1 0\n",
    "0 1 0 1 &\n",
    "_________\n",
    "0 0 0 0  "
   ]
  },
  {
   "cell_type": "code",
   "execution_count": 193,
   "id": "91232612-15f9-4908-a805-5173a9d9c61a",
   "metadata": {},
   "outputs": [
    {
     "data": {
      "text/plain": [
       "0"
      ]
     },
     "execution_count": 193,
     "metadata": {},
     "output_type": "execute_result"
    }
   ],
   "source": [
    "10 & 5"
   ]
  },
  {
   "cell_type": "code",
   "execution_count": 195,
   "id": "6ba274ac-9883-4c25-ad30-7f00347a1f52",
   "metadata": {},
   "outputs": [
    {
     "data": {
      "text/plain": [
       "3"
      ]
     },
     "execution_count": 195,
     "metadata": {},
     "output_type": "execute_result"
    }
   ],
   "source": [
    "7 & 3"
   ]
  },
  {
   "cell_type": "code",
   "execution_count": null,
   "id": "41908ca1-908d-49f5-bbbc-8f5948133147",
   "metadata": {},
   "outputs": [],
   "source": [
    "1 1 1\n",
    "0 1 1\n",
    "______\n",
    "0 1 1"
   ]
  },
  {
   "cell_type": "code",
   "execution_count": 197,
   "id": "c1b68f87-66e8-405b-af0a-b05073b83927",
   "metadata": {},
   "outputs": [
    {
     "name": "stdout",
     "output_type": "stream",
     "text": [
      "3\n"
     ]
    }
   ],
   "source": [
    "print(0b011)"
   ]
  },
  {
   "cell_type": "code",
   "execution_count": null,
   "id": "c7396e33-a93c-4bc2-8485-c72856d8f585",
   "metadata": {},
   "outputs": [],
   "source": [
    "# Number to Binary\n",
    "# Binary to Number"
   ]
  },
  {
   "cell_type": "code",
   "execution_count": 199,
   "id": "2c0f63f0-c80d-4eaf-9655-4bb7e53b3e67",
   "metadata": {},
   "outputs": [],
   "source": [
    "name = \"Pallavi shree\""
   ]
  },
  {
   "cell_type": "code",
   "execution_count": 201,
   "id": "f1c84b64-1118-4e08-8942-91cfea18e34a",
   "metadata": {},
   "outputs": [
    {
     "data": {
      "text/plain": [
       "True"
      ]
     },
     "execution_count": 201,
     "metadata": {},
     "output_type": "execute_result"
    }
   ],
   "source": [
    "'sh' in name"
   ]
  },
  {
   "cell_type": "code",
   "execution_count": 203,
   "id": "9c5d8d7c-7222-412e-8180-02c0b6e306ba",
   "metadata": {},
   "outputs": [],
   "source": [
    "lst = ['Modi','Biden','Trump','Jocinda']"
   ]
  },
  {
   "cell_type": "code",
   "execution_count": 205,
   "id": "dc552925-6361-4489-a11d-d3e68bece094",
   "metadata": {},
   "outputs": [
    {
     "data": {
      "text/plain": [
       "True"
      ]
     },
     "execution_count": 205,
     "metadata": {},
     "output_type": "execute_result"
    }
   ],
   "source": [
    "'Trump' in lst"
   ]
  },
  {
   "cell_type": "code",
   "execution_count": 207,
   "id": "67765675-a75e-41cb-95a4-dff9294dd9ac",
   "metadata": {},
   "outputs": [],
   "source": [
    "lst = [12,56,78,9,0,2,3,4,5,6,7,8,9100,100]"
   ]
  },
  {
   "cell_type": "code",
   "execution_count": 209,
   "id": "dcf733ea-3967-402f-a9f5-b9a62094cb15",
   "metadata": {},
   "outputs": [
    {
     "data": {
      "text/plain": [
       "True"
      ]
     },
     "execution_count": 209,
     "metadata": {},
     "output_type": "execute_result"
    }
   ],
   "source": [
    "100 in lst"
   ]
  },
  {
   "cell_type": "code",
   "execution_count": 211,
   "id": "0f8be212-656f-4c06-bf48-0753858cd7d6",
   "metadata": {},
   "outputs": [
    {
     "data": {
      "text/plain": [
       "False"
      ]
     },
     "execution_count": 211,
     "metadata": {},
     "output_type": "execute_result"
    }
   ],
   "source": [
    "99 in lst"
   ]
  },
  {
   "cell_type": "markdown",
   "id": "6ea7419e-7923-4715-a4bd-8cb2ee9a7ddf",
   "metadata": {},
   "source": [
    "### F-String | Formatted String\n"
   ]
  },
  {
   "cell_type": "code",
   "execution_count": 214,
   "id": "d5c97e93-b708-4c7d-9157-b2d14c1a4e72",
   "metadata": {},
   "outputs": [],
   "source": [
    "a = 10; b = 20"
   ]
  },
  {
   "cell_type": "code",
   "execution_count": 222,
   "id": "c02ff931-afde-49cf-a08a-f19ed0955475",
   "metadata": {},
   "outputs": [
    {
     "name": "stdout",
     "output_type": "stream",
     "text": [
      "The value of a is 10 and b is 20.\n"
     ]
    }
   ],
   "source": [
    "print(f\"The value of a is {a} and b is {b}.\")"
   ]
  },
  {
   "cell_type": "code",
   "execution_count": 226,
   "id": "94a38593-cfbb-42af-82de-9d0b635d5ecb",
   "metadata": {},
   "outputs": [
    {
     "name": "stdout",
     "output_type": "stream",
     "text": [
      "The value of a is 10 and b is 20.\n"
     ]
    }
   ],
   "source": [
    "print(\"The value of a is {0} and b is {1}.\".format(a,b))"
   ]
  },
  {
   "cell_type": "code",
   "execution_count": 228,
   "id": "186e126a-a791-4242-b71b-39770d4c987a",
   "metadata": {},
   "outputs": [
    {
     "name": "stdout",
     "output_type": "stream",
     "text": [
      "Ankit\n",
      "Kumar\n"
     ]
    }
   ],
   "source": [
    "print(\"Ankit\")\n",
    "print(\"Kumar\")"
   ]
  },
  {
   "cell_type": "code",
   "execution_count": 232,
   "id": "8238bdf9-51ca-4acd-869a-443401d5f415",
   "metadata": {},
   "outputs": [
    {
     "name": "stdout",
     "output_type": "stream",
     "text": [
      "Ankit\n",
      "Kumar\n"
     ]
    }
   ],
   "source": [
    "print(\"Ankit\",end = \"\\n\") # shift + tab \n",
    "# \\n -> new line\n",
    "print(\"Kumar\")"
   ]
  },
  {
   "cell_type": "code",
   "execution_count": 234,
   "id": "e9e091c1-5c14-4d7e-8d83-f291da093c4a",
   "metadata": {},
   "outputs": [
    {
     "name": "stdout",
     "output_type": "stream",
     "text": [
      "Ankit Kumar\n"
     ]
    }
   ],
   "source": [
    "print(\"Ankit\", end = \" \")\n",
    "print(\"Kumar\")"
   ]
  },
  {
   "cell_type": "code",
   "execution_count": 238,
   "id": "6b64c3a9-f379-4c90-a7ba-ad2ce3991c41",
   "metadata": {},
   "outputs": [
    {
     "name": "stdout",
     "output_type": "stream",
     "text": [
      "Ankit\n",
      "Kumar\n"
     ]
    }
   ],
   "source": [
    "print(\"Ankit\\nKumar\")"
   ]
  },
  {
   "cell_type": "code",
   "execution_count": 240,
   "id": "2af7d08c-e532-4281-ac6e-98c8a88ccfa8",
   "metadata": {},
   "outputs": [
    {
     "name": "stdout",
     "output_type": "stream",
     "text": [
      "Som\n",
      "Singh\n"
     ]
    }
   ],
   "source": [
    "print(\"Som\")\n",
    "print(\"Singh\")"
   ]
  },
  {
   "cell_type": "code",
   "execution_count": 242,
   "id": "31ecc4b9-c31d-48a3-82d4-73ba76279df0",
   "metadata": {},
   "outputs": [
    {
     "name": "stdout",
     "output_type": "stream",
     "text": [
      "Som | Singh\n"
     ]
    }
   ],
   "source": [
    "print(\"Som\", end = \" | \")\n",
    "print(\"Singh\")"
   ]
  },
  {
   "cell_type": "code",
   "execution_count": 244,
   "id": "4fe8c632-2eef-49ef-bee2-b8a080dfba26",
   "metadata": {},
   "outputs": [
    {
     "name": "stdout",
     "output_type": "stream",
     "text": [
      "Som | Singh"
     ]
    }
   ],
   "source": [
    "print(\"Som\", end = \" | Singh\")"
   ]
  },
  {
   "cell_type": "markdown",
   "id": "736309ec-140b-468f-bc37-1511dccebb5d",
   "metadata": {},
   "source": [
    "### Printing Quotation marks:"
   ]
  },
  {
   "cell_type": "code",
   "execution_count": 248,
   "id": "86e1b332-202f-4553-ad38-290164acd9de",
   "metadata": {},
   "outputs": [
    {
     "data": {
      "text/plain": [
       "\"It's raining outside.\""
      ]
     },
     "execution_count": 248,
     "metadata": {},
     "output_type": "execute_result"
    }
   ],
   "source": [
    "\"It's raining outside.\""
   ]
  },
  {
   "cell_type": "code",
   "execution_count": 250,
   "id": "9ab29389-03c0-450b-8474-0bc4121b51c5",
   "metadata": {},
   "outputs": [
    {
     "ename": "SyntaxError",
     "evalue": "unterminated string literal (detected at line 1) (1045247745.py, line 1)",
     "output_type": "error",
     "traceback": [
      "\u001b[0;36m  Cell \u001b[0;32mIn[250], line 1\u001b[0;36m\u001b[0m\n\u001b[0;31m    \"He said, \"Python is awesome!\"\u001b[0m\n\u001b[0m                                 ^\u001b[0m\n\u001b[0;31mSyntaxError\u001b[0m\u001b[0;31m:\u001b[0m unterminated string literal (detected at line 1)\n"
     ]
    }
   ],
   "source": [
    "\"He said, \"Python is awesome!\""
   ]
  },
  {
   "cell_type": "code",
   "execution_count": 252,
   "id": "dddad238-eab6-4320-b188-6b1d3b24bdd7",
   "metadata": {},
   "outputs": [
    {
     "data": {
      "text/plain": [
       "\"He said, 'Python is awesome'\""
      ]
     },
     "execution_count": 252,
     "metadata": {},
     "output_type": "execute_result"
    }
   ],
   "source": [
    "\"He said, 'Python is awesome'\""
   ]
  },
  {
   "cell_type": "code",
   "execution_count": 254,
   "id": "8c5d6337-d5ab-4021-8f46-40f91ab93291",
   "metadata": {},
   "outputs": [
    {
     "data": {
      "text/plain": [
       "'He said,\"Python is awesome\".'"
      ]
     },
     "execution_count": 254,
     "metadata": {},
     "output_type": "execute_result"
    }
   ],
   "source": [
    "'He said,\"Python is awesome\".'"
   ]
  },
  {
   "cell_type": "code",
   "execution_count": 262,
   "id": "306abbb8-bf2e-4e87-a5b1-525ae886e90f",
   "metadata": {},
   "outputs": [
    {
     "data": {
      "text/plain": [
       "\"He said, 'Python is awesome'\""
      ]
     },
     "execution_count": 262,
     "metadata": {},
     "output_type": "execute_result"
    }
   ],
   "source": [
    "'He said, \\'Python is awesome\\''"
   ]
  },
  {
   "cell_type": "code",
   "execution_count": 269,
   "id": "44a3b7eb-d569-4748-9d22-e8300fbf74f1",
   "metadata": {},
   "outputs": [
    {
     "data": {
      "text/plain": [
       "11"
      ]
     },
     "execution_count": 269,
     "metadata": {},
     "output_type": "execute_result"
    }
   ],
   "source": [
    "10+5\n",
    "6+5"
   ]
  },
  {
   "cell_type": "code",
   "execution_count": 271,
   "id": "f5d48531-5824-4ce9-b4b9-eea0fbab3584",
   "metadata": {},
   "outputs": [
    {
     "data": {
      "text/plain": [
       "'We are learning Python Programming'"
      ]
     },
     "execution_count": 271,
     "metadata": {},
     "output_type": "execute_result"
    }
   ],
   "source": [
    "st"
   ]
  },
  {
   "cell_type": "code",
   "execution_count": 273,
   "id": "b782bea1-b824-4f3a-bedf-5d7043fc3139",
   "metadata": {},
   "outputs": [
    {
     "data": {
      "text/plain": [
       "True"
      ]
     },
     "execution_count": 273,
     "metadata": {},
     "output_type": "execute_result"
    }
   ],
   "source": [
    "\"thon Pro\" in st"
   ]
  },
  {
   "cell_type": "code",
   "execution_count": 275,
   "id": "23c8e199-114f-46b3-804d-7c31e2e4e71c",
   "metadata": {},
   "outputs": [
    {
     "data": {
      "text/plain": [
       "False"
      ]
     },
     "execution_count": 275,
     "metadata": {},
     "output_type": "execute_result"
    }
   ],
   "source": [
    "\"ning thon\" in st"
   ]
  },
  {
   "cell_type": "code",
   "execution_count": null,
   "id": "440b8f15-87b2-4305-893d-dab638ada117",
   "metadata": {},
   "outputs": [],
   "source": []
  },
  {
   "cell_type": "markdown",
   "id": "6349a0f6-0714-4306-9834-9b86e2cf915f",
   "metadata": {},
   "source": [
    "### Upcoming Sessions:\n",
    "* Python String\n",
    "* Python List\n",
    "* Python Tuple\n",
    "* Python Set\n",
    "* Python Dict\n",
    "* Python Control Structure"
   ]
  },
  {
   "cell_type": "code",
   "execution_count": null,
   "id": "9330bb3b-1e92-462f-bcd1-7dd82b9505a3",
   "metadata": {},
   "outputs": [],
   "source": []
  },
  {
   "cell_type": "code",
   "execution_count": null,
   "id": "0837ec58-193a-4dcc-92c6-12bcf9bc480a",
   "metadata": {},
   "outputs": [],
   "source": []
  },
  {
   "cell_type": "code",
   "execution_count": null,
   "id": "0828e898-a4e9-4ffd-b734-f4102afdc1d7",
   "metadata": {},
   "outputs": [],
   "source": []
  },
  {
   "cell_type": "code",
   "execution_count": null,
   "id": "1a3fbaca-a835-45b6-a7ec-644f2328476e",
   "metadata": {},
   "outputs": [],
   "source": []
  },
  {
   "cell_type": "code",
   "execution_count": null,
   "id": "0def4f6d-0352-478d-a8b6-24459a54b707",
   "metadata": {},
   "outputs": [],
   "source": []
  },
  {
   "cell_type": "code",
   "execution_count": null,
   "id": "7d01db64-fed8-4767-a14f-1ba573308a22",
   "metadata": {},
   "outputs": [],
   "source": []
  },
  {
   "cell_type": "code",
   "execution_count": null,
   "id": "cd305041-5874-4287-8869-f9be31288a98",
   "metadata": {},
   "outputs": [],
   "source": []
  },
  {
   "cell_type": "code",
   "execution_count": null,
   "id": "f46b2df0-eb86-430d-aea9-c56d935bc86b",
   "metadata": {},
   "outputs": [],
   "source": []
  },
  {
   "cell_type": "code",
   "execution_count": null,
   "id": "aa1bb553-932d-4d4a-8dc8-b372a94a6511",
   "metadata": {},
   "outputs": [],
   "source": []
  },
  {
   "cell_type": "code",
   "execution_count": null,
   "id": "97ed656e-5bc0-44bd-b6dc-aafdd662cedb",
   "metadata": {},
   "outputs": [],
   "source": []
  },
  {
   "cell_type": "code",
   "execution_count": null,
   "id": "03561ce9-e18e-43f5-80e0-ad1cfc44754a",
   "metadata": {},
   "outputs": [],
   "source": []
  },
  {
   "cell_type": "code",
   "execution_count": null,
   "id": "c548e7f9-5763-4c4e-bbe0-57769a8954e8",
   "metadata": {},
   "outputs": [],
   "source": []
  },
  {
   "cell_type": "code",
   "execution_count": null,
   "id": "ab828528-599e-4c3e-84b8-c4214e5b1432",
   "metadata": {},
   "outputs": [],
   "source": []
  },
  {
   "cell_type": "code",
   "execution_count": null,
   "id": "1ca1222f-499d-48ae-9a6d-137108860ab3",
   "metadata": {},
   "outputs": [],
   "source": []
  },
  {
   "cell_type": "markdown",
   "id": "4bc5affe-1f1e-46c0-ac35-36dedc4b88d1",
   "metadata": {},
   "source": [
    "### Conclusion:\n",
    "\n",
    "In today session, we discussed about basics of Python, more specifically we discussed follows:\n",
    "\n",
    "* Python Variables\n",
    "* Python Data Type\n",
    "* Python Operators\n",
    "* Python F-String\n",
    "  "
   ]
  },
  {
   "cell_type": "markdown",
   "id": "ee29fb8b-69c7-43c7-b0e2-6e3c29d88d1d",
   "metadata": {},
   "source": [
    "**Rushi**"
   ]
  },
  {
   "cell_type": "markdown",
   "id": "aab96518-5a11-4ab2-ab33-28f59b5dfad1",
   "metadata": {},
   "source": [
    "## Rushi"
   ]
  },
  {
   "cell_type": "markdown",
   "id": "dc3199f9-e3fa-480c-9a07-d8d194e05d64",
   "metadata": {},
   "source": [
    "<b> Rushi </b>"
   ]
  },
  {
   "cell_type": "code",
   "execution_count": null,
   "id": "59d921b8-7c71-417b-9d54-686187ddf17c",
   "metadata": {},
   "outputs": [],
   "source": []
  },
  {
   "cell_type": "code",
   "execution_count": null,
   "id": "acb8158c-e44a-46a3-8899-9f39f6853472",
   "metadata": {},
   "outputs": [],
   "source": []
  },
  {
   "cell_type": "code",
   "execution_count": null,
   "id": "fe208c75-1f29-4ae2-a319-97e5c3176fa8",
   "metadata": {},
   "outputs": [],
   "source": []
  },
  {
   "cell_type": "code",
   "execution_count": null,
   "id": "2a5fcf04-aeae-4662-8dfc-349f5e35c21b",
   "metadata": {},
   "outputs": [],
   "source": []
  },
  {
   "cell_type": "code",
   "execution_count": null,
   "id": "0f335aa1-53f5-45b4-a368-46919ad0da73",
   "metadata": {},
   "outputs": [],
   "source": []
  },
  {
   "cell_type": "code",
   "execution_count": null,
   "id": "962112ae-0619-46ed-b911-520733bc1c36",
   "metadata": {},
   "outputs": [],
   "source": []
  },
  {
   "cell_type": "code",
   "execution_count": null,
   "id": "7b7cec0c-8191-484b-bfe6-9306a489e3fa",
   "metadata": {},
   "outputs": [],
   "source": []
  },
  {
   "cell_type": "code",
   "execution_count": null,
   "id": "3c63a28a-b7ec-44b7-b2a4-fd3e4f9b707d",
   "metadata": {},
   "outputs": [],
   "source": []
  },
  {
   "cell_type": "code",
   "execution_count": null,
   "id": "09cdb322-ed15-4f3e-959d-22d639a87a55",
   "metadata": {},
   "outputs": [],
   "source": []
  },
  {
   "cell_type": "code",
   "execution_count": null,
   "id": "1b7d10c7-eca2-45ac-8239-a1b091255b7a",
   "metadata": {},
   "outputs": [],
   "source": []
  },
  {
   "cell_type": "code",
   "execution_count": null,
   "id": "916e1028-3068-4e0a-a3db-5233406e0ccf",
   "metadata": {},
   "outputs": [],
   "source": []
  },
  {
   "cell_type": "code",
   "execution_count": null,
   "id": "f87ee7b5-3873-4b66-b193-61b8d43ef7f3",
   "metadata": {},
   "outputs": [],
   "source": []
  },
  {
   "cell_type": "code",
   "execution_count": null,
   "id": "3beddeb2-33f0-4116-9cce-8d60229afa56",
   "metadata": {},
   "outputs": [],
   "source": []
  },
  {
   "cell_type": "code",
   "execution_count": null,
   "id": "923f8789-3ca1-4ab2-add7-afb9d4fdc048",
   "metadata": {},
   "outputs": [],
   "source": []
  },
  {
   "cell_type": "code",
   "execution_count": null,
   "id": "087d475a-0070-4486-a85a-1a5b4ef17d7d",
   "metadata": {},
   "outputs": [],
   "source": []
  },
  {
   "cell_type": "code",
   "execution_count": null,
   "id": "d3bfa701-c18d-41c0-8ffc-1abe24a8d180",
   "metadata": {},
   "outputs": [],
   "source": []
  },
  {
   "cell_type": "code",
   "execution_count": null,
   "id": "7a5688ae-46f0-43a8-977b-bf493e196030",
   "metadata": {},
   "outputs": [],
   "source": []
  },
  {
   "cell_type": "code",
   "execution_count": null,
   "id": "b0dc1a51-a112-47c1-bee3-aebc96a650de",
   "metadata": {},
   "outputs": [],
   "source": []
  },
  {
   "cell_type": "code",
   "execution_count": null,
   "id": "c7da250c-438e-459c-90fb-791f2a81bfbf",
   "metadata": {},
   "outputs": [],
   "source": []
  },
  {
   "cell_type": "code",
   "execution_count": null,
   "id": "a6a56f74-7bec-49ff-93de-a5f92ea18866",
   "metadata": {},
   "outputs": [],
   "source": []
  },
  {
   "cell_type": "code",
   "execution_count": null,
   "id": "fd43555e-49b9-4a1b-9516-9d3dd997c5c9",
   "metadata": {},
   "outputs": [],
   "source": []
  },
  {
   "cell_type": "code",
   "execution_count": null,
   "id": "6743fd3e-5bb1-4c27-a4b3-fe10deae8399",
   "metadata": {},
   "outputs": [],
   "source": []
  },
  {
   "cell_type": "code",
   "execution_count": null,
   "id": "de6b5877-9b14-4386-a95a-a9f865002c52",
   "metadata": {},
   "outputs": [],
   "source": []
  },
  {
   "cell_type": "code",
   "execution_count": null,
   "id": "14a87a27-8b34-4236-9b94-4228f7cdd821",
   "metadata": {},
   "outputs": [],
   "source": []
  },
  {
   "cell_type": "code",
   "execution_count": null,
   "id": "514b3453-48b3-434c-9ac2-639a3632a17f",
   "metadata": {},
   "outputs": [],
   "source": []
  },
  {
   "cell_type": "code",
   "execution_count": null,
   "id": "b347f885-3feb-4675-8678-cc2750f34e8f",
   "metadata": {},
   "outputs": [],
   "source": []
  },
  {
   "cell_type": "code",
   "execution_count": null,
   "id": "5efd6c62-4d5b-4ea8-a25c-67878156ea65",
   "metadata": {},
   "outputs": [],
   "source": []
  },
  {
   "cell_type": "code",
   "execution_count": null,
   "id": "982db40b-406b-44c9-97f2-3d1258059459",
   "metadata": {},
   "outputs": [],
   "source": []
  },
  {
   "cell_type": "code",
   "execution_count": null,
   "id": "4ca393ac-c643-492a-a826-b3eff88afb1f",
   "metadata": {},
   "outputs": [],
   "source": []
  },
  {
   "cell_type": "code",
   "execution_count": null,
   "id": "fefe5a57-261f-4ac9-a34e-9b0855516dee",
   "metadata": {},
   "outputs": [],
   "source": []
  },
  {
   "cell_type": "code",
   "execution_count": null,
   "id": "9e6522bd-a250-43f3-af79-3ffff07a47e8",
   "metadata": {},
   "outputs": [],
   "source": []
  },
  {
   "cell_type": "code",
   "execution_count": null,
   "id": "c78e04f2-a185-46c3-b31a-ec8b7d5c68be",
   "metadata": {},
   "outputs": [],
   "source": []
  },
  {
   "cell_type": "code",
   "execution_count": null,
   "id": "73dd2718-88b4-4c37-b670-a9a47445f40e",
   "metadata": {},
   "outputs": [],
   "source": []
  },
  {
   "cell_type": "code",
   "execution_count": null,
   "id": "585f39c2-da9d-43aa-8b86-0522c6d81b6c",
   "metadata": {},
   "outputs": [],
   "source": []
  },
  {
   "cell_type": "code",
   "execution_count": null,
   "id": "31185cb5-1def-4c3a-b231-3f1270ef8de1",
   "metadata": {},
   "outputs": [],
   "source": []
  },
  {
   "cell_type": "code",
   "execution_count": null,
   "id": "647fadb9-3600-4665-9718-1f5ce4a53da8",
   "metadata": {},
   "outputs": [],
   "source": []
  },
  {
   "cell_type": "code",
   "execution_count": null,
   "id": "1940dae4-9819-4eb0-88bf-e9868571eb7b",
   "metadata": {},
   "outputs": [],
   "source": []
  },
  {
   "cell_type": "code",
   "execution_count": null,
   "id": "95824712-c2fc-497d-9105-69408dde34a4",
   "metadata": {},
   "outputs": [],
   "source": []
  },
  {
   "cell_type": "code",
   "execution_count": null,
   "id": "cfaf5e33-12ec-4421-8bbc-4dc252a734e6",
   "metadata": {},
   "outputs": [],
   "source": []
  },
  {
   "cell_type": "code",
   "execution_count": null,
   "id": "a4a6cbdd-bcff-459c-8d75-b528f09ce7b1",
   "metadata": {},
   "outputs": [],
   "source": []
  },
  {
   "cell_type": "code",
   "execution_count": null,
   "id": "020a1c8b-3e04-43f0-b999-25f055d6abc8",
   "metadata": {},
   "outputs": [],
   "source": []
  },
  {
   "cell_type": "code",
   "execution_count": null,
   "id": "9a674dd2-4435-4f92-a489-f124bc612fa4",
   "metadata": {},
   "outputs": [],
   "source": []
  },
  {
   "cell_type": "code",
   "execution_count": null,
   "id": "f49fbb2a-96eb-4920-9cd5-90bb1d05ebce",
   "metadata": {},
   "outputs": [],
   "source": []
  },
  {
   "cell_type": "code",
   "execution_count": null,
   "id": "3b4f204f-6991-4724-8eba-06a1a4b36c00",
   "metadata": {},
   "outputs": [],
   "source": []
  },
  {
   "cell_type": "code",
   "execution_count": null,
   "id": "084a1587-6090-4470-9228-e8dcd408c85f",
   "metadata": {},
   "outputs": [],
   "source": []
  },
  {
   "cell_type": "code",
   "execution_count": null,
   "id": "a8f16d32-310c-4537-ba8d-396076cc9863",
   "metadata": {},
   "outputs": [],
   "source": []
  }
 ],
 "metadata": {
  "kernelspec": {
   "display_name": "Python [conda env:base] *",
   "language": "python",
   "name": "conda-base-py"
  },
  "language_info": {
   "codemirror_mode": {
    "name": "ipython",
    "version": 3
   },
   "file_extension": ".py",
   "mimetype": "text/x-python",
   "name": "python",
   "nbconvert_exporter": "python",
   "pygments_lexer": "ipython3",
   "version": "3.12.7"
  }
 },
 "nbformat": 4,
 "nbformat_minor": 5
}
