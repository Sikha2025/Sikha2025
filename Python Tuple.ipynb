{
 "cells": [
  {
   "cell_type": "markdown",
   "id": "ffffc47b-656a-49d7-9d3d-63143b70a206",
   "metadata": {},
   "source": [
    "### Python Tuple:\n",
    "\n",
    "- Rules and Guidelines of Tuple\n",
    "  - Tuple ds is a immutable data structure\n",
    "  - Tuple is represented by () and can be created using tuple()\n",
    "  - Tuple is also a indexable data structure like list."
   ]
  },
  {
   "cell_type": "code",
   "execution_count": 3,
   "id": "46a94bab-7f86-4c86-bc55-0ef2ed5dff9f",
   "metadata": {},
   "outputs": [],
   "source": [
    "tp = ()"
   ]
  },
  {
   "cell_type": "code",
   "execution_count": 5,
   "id": "3957d48f-48ab-47e4-935d-e8f39c7c67f3",
   "metadata": {},
   "outputs": [
    {
     "data": {
      "text/plain": [
       "tuple"
      ]
     },
     "execution_count": 5,
     "metadata": {},
     "output_type": "execute_result"
    }
   ],
   "source": [
    "type(tp)"
   ]
  },
  {
   "cell_type": "code",
   "execution_count": 7,
   "id": "c614d975-b919-4cab-a625-f06121820e71",
   "metadata": {},
   "outputs": [
    {
     "data": {
      "text/plain": [
       "()"
      ]
     },
     "execution_count": 7,
     "metadata": {},
     "output_type": "execute_result"
    }
   ],
   "source": [
    "t = tuple()\n",
    "t"
   ]
  },
  {
   "cell_type": "code",
   "execution_count": 9,
   "id": "609e7eaa-6e01-4060-a1a7-028d9e00ab4c",
   "metadata": {},
   "outputs": [
    {
     "data": {
      "text/plain": [
       "tuple"
      ]
     },
     "execution_count": 9,
     "metadata": {},
     "output_type": "execute_result"
    }
   ],
   "source": [
    "type(t)"
   ]
  },
  {
   "cell_type": "code",
   "execution_count": 11,
   "id": "c82daffd-8ad3-4409-b542-c66456dd764e",
   "metadata": {},
   "outputs": [
    {
     "data": {
      "text/plain": [
       "(1, 2, 3, 4)"
      ]
     },
     "execution_count": 11,
     "metadata": {},
     "output_type": "execute_result"
    }
   ],
   "source": [
    "tp = 1,2,3,4\n",
    "tp"
   ]
  },
  {
   "cell_type": "code",
   "execution_count": 13,
   "id": "6b68f20e-5438-4ca5-bf4c-bc9bd6c31b2a",
   "metadata": {},
   "outputs": [],
   "source": [
    "tp = (11,2,3,4,5,\"A\",'a',10.30,34,56)"
   ]
  },
  {
   "cell_type": "markdown",
   "id": "a84e7f9c-35bb-46a4-a899-f034c5f1907c",
   "metadata": {},
   "source": [
    "### Tuple\n",
    "* Count\n",
    "* Index"
   ]
  },
  {
   "cell_type": "code",
   "execution_count": 16,
   "id": "463e6307-f7fb-4222-9c5f-9388a8b6e391",
   "metadata": {},
   "outputs": [
    {
     "data": {
      "text/plain": [
       "5"
      ]
     },
     "execution_count": 16,
     "metadata": {},
     "output_type": "execute_result"
    }
   ],
   "source": [
    "tp.index(\"A\")"
   ]
  },
  {
   "cell_type": "code",
   "execution_count": 18,
   "id": "6831e54c-68e9-491f-93d6-c3f128d567a6",
   "metadata": {},
   "outputs": [
    {
     "data": {
      "text/plain": [
       "'A'"
      ]
     },
     "execution_count": 18,
     "metadata": {},
     "output_type": "execute_result"
    }
   ],
   "source": [
    "tp[5]"
   ]
  },
  {
   "cell_type": "code",
   "execution_count": 20,
   "id": "11a578eb-6ac4-4283-97e2-c6ea8eb94d71",
   "metadata": {},
   "outputs": [
    {
     "data": {
      "text/plain": [
       "1"
      ]
     },
     "execution_count": 20,
     "metadata": {},
     "output_type": "execute_result"
    }
   ],
   "source": [
    "tp.count(\"A\")"
   ]
  },
  {
   "cell_type": "code",
   "execution_count": 22,
   "id": "977aaff8-9803-49d2-9174-660135d30012",
   "metadata": {},
   "outputs": [
    {
     "data": {
      "text/plain": [
       "(11, 2, 3, 4, 5, 'A', 'a', 10.3, 34, 56)"
      ]
     },
     "execution_count": 22,
     "metadata": {},
     "output_type": "execute_result"
    }
   ],
   "source": [
    "tp"
   ]
  },
  {
   "cell_type": "code",
   "execution_count": 24,
   "id": "1d2c06c5-c692-4b00-94d6-6066774e7c8b",
   "metadata": {},
   "outputs": [
    {
     "data": {
      "text/plain": [
       "11"
      ]
     },
     "execution_count": 24,
     "metadata": {},
     "output_type": "execute_result"
    }
   ],
   "source": [
    "tp[0]"
   ]
  },
  {
   "cell_type": "code",
   "execution_count": 26,
   "id": "c8348fc8-7c7e-4387-ae34-c8d127f5e9bb",
   "metadata": {},
   "outputs": [
    {
     "ename": "TypeError",
     "evalue": "'tuple' object does not support item assignment",
     "output_type": "error",
     "traceback": [
      "\u001b[0;31m---------------------------------------------------------------------------\u001b[0m",
      "\u001b[0;31mTypeError\u001b[0m                                 Traceback (most recent call last)",
      "Cell \u001b[0;32mIn[26], line 2\u001b[0m\n\u001b[1;32m      1\u001b[0m \u001b[38;5;66;03m# Tuple is a immutable data type\u001b[39;00m\n\u001b[0;32m----> 2\u001b[0m tp[\u001b[38;5;241m0\u001b[39m] \u001b[38;5;241m=\u001b[39m \u001b[38;5;124m'\u001b[39m\u001b[38;5;124mx\u001b[39m\u001b[38;5;124m'\u001b[39m\n",
      "\u001b[0;31mTypeError\u001b[0m: 'tuple' object does not support item assignment"
     ]
    }
   ],
   "source": [
    "# Tuple is a immutable data type\n",
    "tp[0] = 'x'"
   ]
  },
  {
   "cell_type": "code",
   "execution_count": 36,
   "id": "5b84d3f4-2ff7-4cd6-934c-4c34d641779c",
   "metadata": {},
   "outputs": [],
   "source": [
    "tp = (1,2,20,[12,34,5,6],3,4,5,True,None,6,[1,2,3],45,6,7,8,9)"
   ]
  },
  {
   "cell_type": "code",
   "execution_count": 38,
   "id": "a324144a-bba5-4ac4-8821-3cc273ac7569",
   "metadata": {},
   "outputs": [
    {
     "data": {
      "text/plain": [
       "(1, 2, 20, [12, 34, 5, 6], 3, 4, 5, True, None, 6, [1, 2, 3], 45, 6, 7, 8, 9)"
      ]
     },
     "execution_count": 38,
     "metadata": {},
     "output_type": "execute_result"
    }
   ],
   "source": [
    "tp"
   ]
  },
  {
   "cell_type": "code",
   "execution_count": null,
   "id": "0f296055-dc9b-403a-b6a7-03eac6f4b65d",
   "metadata": {},
   "outputs": [],
   "source": [
    "# Tuple element is immutable where as list element is mutable."
   ]
  },
  {
   "cell_type": "code",
   "execution_count": 40,
   "id": "7079a98c-e476-4f47-a378-4d31c150ab15",
   "metadata": {},
   "outputs": [
    {
     "data": {
      "text/plain": [
       "0"
      ]
     },
     "execution_count": 40,
     "metadata": {},
     "output_type": "execute_result"
    }
   ],
   "source": [
    "tp.count(\"Modi\")"
   ]
  },
  {
   "cell_type": "code",
   "execution_count": 42,
   "id": "dbf5927b-225a-4be3-8230-4df017cb0b27",
   "metadata": {},
   "outputs": [
    {
     "data": {
      "text/plain": [
       "(1, 2, 20, [12, 34, 5, 6], 3, 4, 5, True, None, 6, [1, 2, 3], 45, 6, 7, 8, 9)"
      ]
     },
     "execution_count": 42,
     "metadata": {},
     "output_type": "execute_result"
    }
   ],
   "source": [
    "tp"
   ]
  },
  {
   "cell_type": "code",
   "execution_count": 44,
   "id": "4366782c-2bf6-4a5e-9887-d8b945250690",
   "metadata": {},
   "outputs": [
    {
     "data": {
      "text/plain": [
       "16"
      ]
     },
     "execution_count": 44,
     "metadata": {},
     "output_type": "execute_result"
    }
   ],
   "source": [
    "len(tp)"
   ]
  },
  {
   "cell_type": "code",
   "execution_count": 46,
   "id": "f5487797-c9b0-4547-bc20-50cb3673cf10",
   "metadata": {},
   "outputs": [
    {
     "data": {
      "text/plain": [
       "20"
      ]
     },
     "execution_count": 46,
     "metadata": {},
     "output_type": "execute_result"
    }
   ],
   "source": [
    "tp[2]"
   ]
  },
  {
   "cell_type": "code",
   "execution_count": 48,
   "id": "90c2de84-0d48-430c-9758-11abd22fa681",
   "metadata": {},
   "outputs": [
    {
     "data": {
      "text/plain": [
       "[12, 34, 5, 6]"
      ]
     },
     "execution_count": 48,
     "metadata": {},
     "output_type": "execute_result"
    }
   ],
   "source": [
    "tp[3] # output of tp[3] is a list data structure"
   ]
  },
  {
   "cell_type": "code",
   "execution_count": 50,
   "id": "873b6630-f5c8-4067-8ba2-1e8efb2339c1",
   "metadata": {},
   "outputs": [],
   "source": [
    "tp[3].append('Abhisheak')"
   ]
  },
  {
   "cell_type": "code",
   "execution_count": 52,
   "id": "ce58f7cb-855e-44c4-a63a-bbff8b157760",
   "metadata": {},
   "outputs": [
    {
     "name": "stdout",
     "output_type": "stream",
     "text": [
      "(1, 2, 20, [12, 34, 5, 6, 'Abhisheak'], 3, 4, 5, True, None, 6, [1, 2, 3], 45, 6, 7, 8, 9)\n"
     ]
    }
   ],
   "source": [
    "print(tp)"
   ]
  },
  {
   "cell_type": "code",
   "execution_count": 54,
   "id": "50f46b7b-519a-49da-ba6a-a7c45c637220",
   "metadata": {},
   "outputs": [],
   "source": [
    "lst = [1,2,3,(2,3,4),5,6,8]"
   ]
  },
  {
   "cell_type": "code",
   "execution_count": 62,
   "id": "693f3922-f8a0-4830-a8d6-22569b341b75",
   "metadata": {},
   "outputs": [
    {
     "data": {
      "text/plain": [
       "(2, 3, 4)"
      ]
     },
     "execution_count": 62,
     "metadata": {},
     "output_type": "execute_result"
    }
   ],
   "source": [
    "lst[3]"
   ]
  },
  {
   "cell_type": "code",
   "execution_count": 64,
   "id": "77a43910-1804-418d-999f-43a7c4e0277c",
   "metadata": {},
   "outputs": [
    {
     "data": {
      "text/plain": [
       "tuple"
      ]
     },
     "execution_count": 64,
     "metadata": {},
     "output_type": "execute_result"
    }
   ],
   "source": [
    "type(lst[3])"
   ]
  },
  {
   "cell_type": "code",
   "execution_count": 58,
   "id": "fde5953d-3015-41d3-adb8-34e6826eab25",
   "metadata": {},
   "outputs": [
    {
     "ename": "AttributeError",
     "evalue": "'tuple' object has no attribute 'append'",
     "output_type": "error",
     "traceback": [
      "\u001b[0;31m---------------------------------------------------------------------------\u001b[0m",
      "\u001b[0;31mAttributeError\u001b[0m                            Traceback (most recent call last)",
      "Cell \u001b[0;32mIn[58], line 1\u001b[0m\n\u001b[0;32m----> 1\u001b[0m lst[\u001b[38;5;241m3\u001b[39m]\u001b[38;5;241m.\u001b[39mappend(\u001b[38;5;124m\"\u001b[39m\u001b[38;5;124ma\u001b[39m\u001b[38;5;124m\"\u001b[39m)\n",
      "\u001b[0;31mAttributeError\u001b[0m: 'tuple' object has no attribute 'append'"
     ]
    }
   ],
   "source": [
    "lst[3].append(\"a\")"
   ]
  },
  {
   "cell_type": "code",
   "execution_count": null,
   "id": "77536a84-93bc-4711-a53c-0903c99f4f5a",
   "metadata": {},
   "outputs": [],
   "source": []
  },
  {
   "cell_type": "code",
   "execution_count": null,
   "id": "484e7825-022c-475a-9b4f-f68e6457ce2d",
   "metadata": {},
   "outputs": [],
   "source": []
  },
  {
   "cell_type": "code",
   "execution_count": null,
   "id": "261e87af-d051-48cd-baa1-b700a0f84435",
   "metadata": {},
   "outputs": [],
   "source": []
  },
  {
   "cell_type": "code",
   "execution_count": null,
   "id": "73aca909-2dcc-4d8c-a44d-fe1b6a04ea31",
   "metadata": {},
   "outputs": [],
   "source": []
  },
  {
   "cell_type": "code",
   "execution_count": null,
   "id": "814d2404-e296-42d9-87c2-a60f7a2fcd3a",
   "metadata": {},
   "outputs": [],
   "source": []
  },
  {
   "cell_type": "code",
   "execution_count": null,
   "id": "254848e1-dcfa-492b-9cb9-ee49cfae4c88",
   "metadata": {},
   "outputs": [],
   "source": []
  },
  {
   "cell_type": "code",
   "execution_count": null,
   "id": "481a26a8-3c7e-4799-8346-dddbdefa43b5",
   "metadata": {},
   "outputs": [],
   "source": []
  },
  {
   "cell_type": "code",
   "execution_count": null,
   "id": "dfc1ffee-cc37-4030-89ef-0fe51b519a71",
   "metadata": {},
   "outputs": [],
   "source": []
  },
  {
   "cell_type": "code",
   "execution_count": null,
   "id": "dac79b04-ea95-4786-88f4-766d80dcaa80",
   "metadata": {},
   "outputs": [],
   "source": []
  },
  {
   "cell_type": "code",
   "execution_count": null,
   "id": "15d0469c-363b-4b51-b395-c9b582688fac",
   "metadata": {},
   "outputs": [],
   "source": []
  },
  {
   "cell_type": "code",
   "execution_count": null,
   "id": "f538822c-4224-46e9-93e1-f3bef3728188",
   "metadata": {},
   "outputs": [],
   "source": []
  },
  {
   "cell_type": "code",
   "execution_count": null,
   "id": "ae72a254-db4c-47b2-8bb0-833ff29f3062",
   "metadata": {},
   "outputs": [],
   "source": []
  },
  {
   "cell_type": "code",
   "execution_count": null,
   "id": "e3c1e8fa-147f-4fb8-b2dd-ea6895f6a0f4",
   "metadata": {},
   "outputs": [],
   "source": []
  },
  {
   "cell_type": "code",
   "execution_count": null,
   "id": "5ee0f32e-e417-4a39-a0d4-b0c34d92b0c0",
   "metadata": {},
   "outputs": [],
   "source": []
  },
  {
   "cell_type": "code",
   "execution_count": null,
   "id": "3bf77d5d-5cd7-41e4-8153-9039d6ae35e0",
   "metadata": {},
   "outputs": [],
   "source": []
  }
 ],
 "metadata": {
  "kernelspec": {
   "display_name": "Python [conda env:base] *",
   "language": "python",
   "name": "conda-base-py"
  },
  "language_info": {
   "codemirror_mode": {
    "name": "ipython",
    "version": 3
   },
   "file_extension": ".py",
   "mimetype": "text/x-python",
   "name": "python",
   "nbconvert_exporter": "python",
   "pygments_lexer": "ipython3",
   "version": "3.12.7"
  }
 },
 "nbformat": 4,
 "nbformat_minor": 5
}
