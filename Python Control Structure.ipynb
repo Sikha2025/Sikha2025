{
 "cells": [
  {
   "cell_type": "markdown",
   "id": "c962054b-eafd-472c-9eac-e3dc9fc7737f",
   "metadata": {},
   "source": [
    "### `Doubt`"
   ]
  },
  {
   "cell_type": "code",
   "execution_count": 8,
   "id": "31bbb79a-0a85-4246-ad29-636092c6ce96",
   "metadata": {},
   "outputs": [],
   "source": [
    "et1={4,5,5,(2,3,3),\"Monika\",True,'A',(2,3,3)}"
   ]
  },
  {
   "cell_type": "code",
   "execution_count": 9,
   "id": "b9009262-d458-4499-be2a-453f3584de5d",
   "metadata": {},
   "outputs": [
    {
     "data": {
      "text/plain": [
       "6"
      ]
     },
     "execution_count": 9,
     "metadata": {},
     "output_type": "execute_result"
    }
   ],
   "source": [
    "len(et1)"
   ]
  },
  {
   "cell_type": "code",
   "execution_count": 10,
   "id": "7fcb245b-1204-4acc-99bb-1ea25da2cf1a",
   "metadata": {},
   "outputs": [
    {
     "data": {
      "text/plain": [
       "{(2, 3, 3), 4, 5, 'A', 'Monika', True}"
      ]
     },
     "execution_count": 10,
     "metadata": {},
     "output_type": "execute_result"
    }
   ],
   "source": [
    "et1"
   ]
  },
  {
   "cell_type": "code",
   "execution_count": 11,
   "id": "89205ffd-c233-46a9-a95f-6aaa4f9081cd",
   "metadata": {},
   "outputs": [],
   "source": [
    "lst = [10, 20, 5, 30, 40, 15]"
   ]
  },
  {
   "cell_type": "code",
   "execution_count": 16,
   "id": "dac86e8b-a4e6-4743-8606-60424f21208a",
   "metadata": {},
   "outputs": [
    {
     "name": "stdout",
     "output_type": "stream",
     "text": [
      "5\n",
      "15\n"
     ]
    },
    {
     "data": {
      "text/plain": [
       "20"
      ]
     },
     "execution_count": 16,
     "metadata": {},
     "output_type": "execute_result"
    }
   ],
   "source": [
    "a = 0\n",
    "for i in lst:\n",
    "    if i % 2 != 0:\n",
    "        print(i)\n",
    "        a = a + i\n",
    "a"
   ]
  },
  {
   "cell_type": "code",
   "execution_count": 17,
   "id": "66a19a26-9bef-4d75-8403-2bece3ec7d8a",
   "metadata": {},
   "outputs": [
    {
     "data": {
      "text/plain": [
       "65"
      ]
     },
     "execution_count": 17,
     "metadata": {},
     "output_type": "execute_result"
    }
   ],
   "source": [
    "ord(\"A\")"
   ]
  },
  {
   "cell_type": "code",
   "execution_count": 18,
   "id": "fa669926-87e7-4253-ad18-a1b83f251dc7",
   "metadata": {},
   "outputs": [
    {
     "data": {
      "text/plain": [
       "97"
      ]
     },
     "execution_count": 18,
     "metadata": {},
     "output_type": "execute_result"
    }
   ],
   "source": [
    "ord(\"a\")"
   ]
  },
  {
   "cell_type": "code",
   "execution_count": 20,
   "id": "7c3d975d-5cd7-4b57-9db6-a5e472e8da10",
   "metadata": {},
   "outputs": [
    {
     "data": {
      "text/plain": [
       "48"
      ]
     },
     "execution_count": 20,
     "metadata": {},
     "output_type": "execute_result"
    }
   ],
   "source": [
    "ord(\"0\")"
   ]
  },
  {
   "cell_type": "code",
   "execution_count": 21,
   "id": "7eff0cee-c9ab-43e7-8189-9d610c05ace4",
   "metadata": {},
   "outputs": [
    {
     "data": {
      "text/plain": [
       "False"
      ]
     },
     "execution_count": 21,
     "metadata": {},
     "output_type": "execute_result"
    }
   ],
   "source": [
    "\"hello\" > \"world\""
   ]
  },
  {
   "cell_type": "code",
   "execution_count": 23,
   "id": "0ed27cdb-dde6-4d98-9972-12a76fc2ffe3",
   "metadata": {},
   "outputs": [
    {
     "data": {
      "text/plain": [
       "104"
      ]
     },
     "execution_count": 23,
     "metadata": {},
     "output_type": "execute_result"
    }
   ],
   "source": [
    "ord(\"h\")"
   ]
  },
  {
   "cell_type": "code",
   "execution_count": 24,
   "id": "65b991dc-3271-444c-8d78-42d4e6c2a366",
   "metadata": {},
   "outputs": [
    {
     "data": {
      "text/plain": [
       "119"
      ]
     },
     "execution_count": 24,
     "metadata": {},
     "output_type": "execute_result"
    }
   ],
   "source": [
    "ord(\"w\")"
   ]
  },
  {
   "cell_type": "code",
   "execution_count": 25,
   "id": "0f7c2a14-1159-4fcd-adac-809370215e64",
   "metadata": {},
   "outputs": [
    {
     "data": {
      "text/plain": [
       "False"
      ]
     },
     "execution_count": 25,
     "metadata": {},
     "output_type": "execute_result"
    }
   ],
   "source": [
    "\"Abhisheak\" > \"Shyamkumar\""
   ]
  },
  {
   "cell_type": "code",
   "execution_count": 26,
   "id": "7b3cae2b-a004-431f-8e5f-8625e74ecbd7",
   "metadata": {},
   "outputs": [
    {
     "data": {
      "text/plain": [
       "65"
      ]
     },
     "execution_count": 26,
     "metadata": {},
     "output_type": "execute_result"
    }
   ],
   "source": [
    "ord(\"A\")"
   ]
  },
  {
   "cell_type": "code",
   "execution_count": 27,
   "id": "03a53257-6680-4e3f-bdcc-a308672f2190",
   "metadata": {},
   "outputs": [
    {
     "data": {
      "text/plain": [
       "83"
      ]
     },
     "execution_count": 27,
     "metadata": {},
     "output_type": "execute_result"
    }
   ],
   "source": [
    "ord(\"S\")"
   ]
  },
  {
   "cell_type": "code",
   "execution_count": 28,
   "id": "f69e4cce-0a9d-4dac-922d-b9db3ba5c916",
   "metadata": {},
   "outputs": [],
   "source": [
    "lst = list(\"Programming\")"
   ]
  },
  {
   "cell_type": "code",
   "execution_count": 29,
   "id": "afbb8189-3503-418d-8bf0-1b51328a4807",
   "metadata": {},
   "outputs": [
    {
     "data": {
      "text/plain": [
       "['P', 'r', 'o', 'g', 'r', 'a', 'm', 'm', 'i', 'n', 'g']"
      ]
     },
     "execution_count": 29,
     "metadata": {},
     "output_type": "execute_result"
    }
   ],
   "source": [
    "lst"
   ]
  },
  {
   "cell_type": "code",
   "execution_count": 31,
   "id": "3a14ee59-5080-463b-bcbe-f2f99144342b",
   "metadata": {},
   "outputs": [
    {
     "data": {
      "text/plain": [
       "['a', 'm', 'm', 'i']"
      ]
     },
     "execution_count": 31,
     "metadata": {},
     "output_type": "execute_result"
    }
   ],
   "source": [
    "lst[5:-2] # n here -2 which is exclusive\n",
    "\n",
    "# starting: 5, end: -2 (exclusvie), step_size: 1"
   ]
  },
  {
   "cell_type": "code",
   "execution_count": 32,
   "id": "b5bde0f8-8caa-4fd3-99a0-891b87953651",
   "metadata": {},
   "outputs": [
    {
     "data": {
      "text/plain": [
       "['m', 'm', 'i', 'n', 'g']"
      ]
     },
     "execution_count": 32,
     "metadata": {},
     "output_type": "execute_result"
    }
   ],
   "source": [
    "lst[-5:]"
   ]
  },
  {
   "cell_type": "code",
   "execution_count": 33,
   "id": "ba993dd3-1aba-4d77-8d1e-3f26946fbe8c",
   "metadata": {},
   "outputs": [
    {
     "data": {
      "text/plain": [
       "['m', 'm', 'i', 'n']"
      ]
     },
     "execution_count": 33,
     "metadata": {},
     "output_type": "execute_result"
    }
   ],
   "source": [
    "lst[-5:-1]"
   ]
  },
  {
   "cell_type": "code",
   "execution_count": 34,
   "id": "ea59bfe4-05af-4653-989c-0df9561286f2",
   "metadata": {},
   "outputs": [
    {
     "data": {
      "text/plain": [
       "['P', 'r', 'o', 'g', 'r', 'a', 'm', 'm', 'i', 'n', 'g']"
      ]
     },
     "execution_count": 34,
     "metadata": {},
     "output_type": "execute_result"
    }
   ],
   "source": [
    "lst"
   ]
  },
  {
   "cell_type": "code",
   "execution_count": 38,
   "id": "ae69c403-9266-40d1-8756-fa6c544004e5",
   "metadata": {},
   "outputs": [
    {
     "data": {
      "text/plain": [
       "['g', 'n', 'i', 'm', 'm', 'a', 'r', 'g', 'o', 'r', 'P']"
      ]
     },
     "execution_count": 38,
     "metadata": {},
     "output_type": "execute_result"
    }
   ],
   "source": [
    "lst[::-1] # start : 0, end: n-1, stepsize : -1"
   ]
  },
  {
   "cell_type": "code",
   "execution_count": 39,
   "id": "4a39993f-c67c-4f9e-ab58-366456dfaa3a",
   "metadata": {},
   "outputs": [
    {
     "data": {
      "text/plain": [
       "[0, 1, 2, 3, 4, 5, 6, 7, 8, 9]"
      ]
     },
     "execution_count": 39,
     "metadata": {},
     "output_type": "execute_result"
    }
   ],
   "source": [
    "list(range(0,10))"
   ]
  },
  {
   "cell_type": "code",
   "execution_count": 40,
   "id": "5164720c-79a1-4419-9e8b-8185f524606e",
   "metadata": {},
   "outputs": [
    {
     "data": {
      "text/plain": [
       "[0, 1, 2, 3, 4, 5, 6, 7, 8, 9]"
      ]
     },
     "execution_count": 40,
     "metadata": {},
     "output_type": "execute_result"
    }
   ],
   "source": [
    "list(range(0,10,1))"
   ]
  },
  {
   "cell_type": "code",
   "execution_count": 42,
   "id": "cfe2b846-8f71-40fa-a877-a970aabaeffb",
   "metadata": {},
   "outputs": [
    {
     "data": {
      "text/plain": [
       "[0, 2, 4, 6, 8]"
      ]
     },
     "execution_count": 42,
     "metadata": {},
     "output_type": "execute_result"
    }
   ],
   "source": [
    "list(range(0,10,2))"
   ]
  },
  {
   "cell_type": "code",
   "execution_count": 43,
   "id": "22e6ead2-26c9-4df4-940b-cb2c0e045568",
   "metadata": {},
   "outputs": [
    {
     "data": {
      "text/plain": [
       "[0, 7, 14, 21, 28, 35, 42, 49]"
      ]
     },
     "execution_count": 43,
     "metadata": {},
     "output_type": "execute_result"
    }
   ],
   "source": [
    "list(range(0,50,7))"
   ]
  },
  {
   "cell_type": "code",
   "execution_count": 46,
   "id": "ee2c5c6a-f604-4df2-954a-39dac645792f",
   "metadata": {},
   "outputs": [
    {
     "data": {
      "text/plain": [
       "[49, 42, 35, 28, 21, 14, 7, 0]"
      ]
     },
     "execution_count": 46,
     "metadata": {},
     "output_type": "execute_result"
    }
   ],
   "source": [
    "list(range(49,-1,-7))"
   ]
  },
  {
   "cell_type": "markdown",
   "id": "3a66130c-56f0-4791-9753-07ddb851bd92",
   "metadata": {},
   "source": [
    "### Control Structure\n",
    "* if\n",
    "* elif\n",
    "* else"
   ]
  },
  {
   "cell_type": "code",
   "execution_count": null,
   "id": "77d96146-d49e-4b95-b73c-e9305c235fdf",
   "metadata": {},
   "outputs": [],
   "source": [
    "if logical_condition:\n",
    "    yourstatement\n",
    "elif logical_condition:\n",
    "    yourstatement\n",
    "elif logical_condition:\n",
    "    yourstatement\n",
    "else:\n",
    "    yourstatement"
   ]
  },
  {
   "cell_type": "code",
   "execution_count": null,
   "id": "d3de7f55-98b9-4a75-9170-e48aead8000a",
   "metadata": {},
   "outputs": [],
   "source": [
    "if logical_condition:\n",
    "    yourstatement\n",
    "else:\n",
    "    yourstatement"
   ]
  },
  {
   "cell_type": "markdown",
   "id": "fbce14d5-da7b-4471-b151-cc1e9bec2a3d",
   "metadata": {},
   "source": [
    "### am I eligible for Vote or note?"
   ]
  },
  {
   "cell_type": "code",
   "execution_count": 47,
   "id": "15e04568-85f7-4e0a-93d7-83ee53f16436",
   "metadata": {},
   "outputs": [
    {
     "name": "stdin",
     "output_type": "stream",
     "text": [
      "Enter your age:  19\n"
     ]
    },
    {
     "name": "stdout",
     "output_type": "stream",
     "text": [
      "Eligible for Vote\n"
     ]
    }
   ],
   "source": [
    "age = int(input(\"Enter your age: \"))\n",
    "\n",
    "if age >= 18:\n",
    "    print(\"Eligible for Vote\")\n",
    "else:\n",
    "    print(\"NA\")"
   ]
  },
  {
   "cell_type": "code",
   "execution_count": 48,
   "id": "505a7626-d3fe-41f0-acc2-5460cadd493f",
   "metadata": {},
   "outputs": [
    {
     "name": "stdin",
     "output_type": "stream",
     "text": [
      "Enter your age:  17\n"
     ]
    },
    {
     "name": "stdout",
     "output_type": "stream",
     "text": [
      "NA\n"
     ]
    }
   ],
   "source": [
    "age = int(input(\"Enter your age: \"))\n",
    "\n",
    "if age >= 18:\n",
    "    print(\"Eligible for Vote\")\n",
    "else:\n",
    "    print(\"NA\")"
   ]
  },
  {
   "cell_type": "markdown",
   "id": "e3900252-b67c-4615-9e61-f23c6d7ae696",
   "metadata": {},
   "source": [
    "# please check entered number is positive, negative or zero"
   ]
  },
  {
   "cell_type": "code",
   "execution_count": 51,
   "id": "b39df9bb-53b0-4857-8bad-e6728e474e1c",
   "metadata": {},
   "outputs": [
    {
     "name": "stdin",
     "output_type": "stream",
     "text": [
      "Enter a number:  -19\n"
     ]
    },
    {
     "name": "stdout",
     "output_type": "stream",
     "text": [
      "-19 is negative.\n"
     ]
    }
   ],
   "source": [
    "number = int(input(\"Enter a number: \"))\n",
    "if number > 0:\n",
    "    print(f\"{number} is positive.\")\n",
    "elif number == 0:\n",
    "    print(f\"{number} is zero.\")\n",
    "else:\n",
    "    print(f\"{number} is negative.\")"
   ]
  },
  {
   "cell_type": "code",
   "execution_count": 56,
   "id": "82fa0249-4588-4b5d-b842-a17c16750524",
   "metadata": {},
   "outputs": [
    {
     "name": "stdin",
     "output_type": "stream",
     "text": [
      "Enter a number:  10\n"
     ]
    },
    {
     "name": "stdout",
     "output_type": "stream",
     "text": [
      "Positive\n"
     ]
    }
   ],
   "source": [
    "number = int(input(\"Enter a number: \"))\n",
    "if number >= 0:\n",
    "    if number == 0:\n",
    "        print(\"Zero\")\n",
    "    else:\n",
    "        print(\"Positive\")\n",
    "else:\n",
    "    print(\"Negative\")"
   ]
  },
  {
   "cell_type": "code",
   "execution_count": 58,
   "id": "b971e973-e156-4182-8488-9b2b23c575da",
   "metadata": {},
   "outputs": [
    {
     "name": "stdin",
     "output_type": "stream",
     "text": [
      "Enter a number:  10.40\n"
     ]
    },
    {
     "name": "stdout",
     "output_type": "stream",
     "text": [
      "Positive\n"
     ]
    }
   ],
   "source": [
    "number = float(input(\"Enter a number: \"))\n",
    "if number >= 0:\n",
    "    if number == 0:\n",
    "        print(\"Zero\")\n",
    "    else:\n",
    "        print(\"Positive\")\n",
    "else:\n",
    "    print(\"Negative\")"
   ]
  },
  {
   "cell_type": "code",
   "execution_count": 59,
   "id": "45974dcb-81bf-4161-98a4-37850a18f232",
   "metadata": {},
   "outputs": [],
   "source": [
    "a = ['a','b']\n",
    "b = 10\n",
    "c = 10.0\n",
    "d = True\n",
    "e = 'upGrad'"
   ]
  },
  {
   "cell_type": "code",
   "execution_count": 60,
   "id": "691eca79-1760-433c-811c-a3f484716103",
   "metadata": {},
   "outputs": [
    {
     "data": {
      "text/plain": [
       "True"
      ]
     },
     "execution_count": 60,
     "metadata": {},
     "output_type": "execute_result"
    }
   ],
   "source": [
    "type(a) == list"
   ]
  },
  {
   "cell_type": "code",
   "execution_count": 61,
   "id": "c075e9b3-0384-46e3-ba3c-0d1970eacec0",
   "metadata": {},
   "outputs": [
    {
     "data": {
      "text/plain": [
       "True"
      ]
     },
     "execution_count": 61,
     "metadata": {},
     "output_type": "execute_result"
    }
   ],
   "source": [
    "type(e) == str"
   ]
  },
  {
   "cell_type": "code",
   "execution_count": 62,
   "id": "332567ba-2cae-4986-9119-3acf10bfa0d0",
   "metadata": {},
   "outputs": [
    {
     "data": {
      "text/plain": [
       "True"
      ]
     },
     "execution_count": 62,
     "metadata": {},
     "output_type": "execute_result"
    }
   ],
   "source": [
    "isinstance(a,list)"
   ]
  },
  {
   "cell_type": "code",
   "execution_count": 68,
   "id": "dbfab0cb-c6ac-4e3f-a3ca-7e17ad419dbf",
   "metadata": {},
   "outputs": [
    {
     "name": "stdout",
     "output_type": "stream",
     "text": [
      "neg\n"
     ]
    }
   ],
   "source": [
    "if int(-1) > 0:\n",
    "    print(\"pos\")\n",
    "else:\n",
    "    print(\"neg\")"
   ]
  },
  {
   "cell_type": "code",
   "execution_count": 64,
   "id": "b003fa97-7987-4aaf-bf4a-1af557e56986",
   "metadata": {},
   "outputs": [
    {
     "data": {
      "text/plain": [
       "10.2"
      ]
     },
     "execution_count": 64,
     "metadata": {},
     "output_type": "execute_result"
    }
   ],
   "source": [
    "float(10.20)"
   ]
  },
  {
   "cell_type": "markdown",
   "id": "8991f34d-8722-4492-9e1b-83ee49fadbd1",
   "metadata": {},
   "source": [
    "### Question:\n",
    "\n",
    "Can write a program that performs as a calc?\n",
    "\n",
    "1. Take a input for 2 numbers. example : x and y\n",
    "2. Take a input for arithmetic operations : [+,-,*,%]\n",
    "3. Based on the operator please perform the calc"
   ]
  },
  {
   "cell_type": "code",
   "execution_count": 72,
   "id": "ed51fb16-1fa2-484d-8050-e021fd91fc09",
   "metadata": {},
   "outputs": [
    {
     "name": "stdin",
     "output_type": "stream",
     "text": [
      "Enter Value for x :  10\n",
      "Enter Value for y : 8\n",
      "Please choose the operation : [+,-,*,%] :  _\n"
     ]
    },
    {
     "name": "stdout",
     "output_type": "stream",
     "text": [
      "Please choose the operator from given list\n"
     ]
    }
   ],
   "source": [
    "x = int(input(\"Enter Value for x : \"))\n",
    "y = int(input(\"Enter Value for y :\"))\n",
    "operator = input(\"Please choose the operation : [+,-,*,%] : \")\n",
    "if operator == '+':\n",
    "    val = x+y \n",
    "    print(f\"Addition of x and y is {val}\")\n",
    "elif operator == '-':\n",
    "    val = x-y \n",
    "    print(f\"Subtraction of x and y is {val}\")\n",
    "elif operator == '*':\n",
    "    val = x*y \n",
    "    print(f\"Multiplication of x and y is {val}\")\n",
    "elif operator == '%':\n",
    "    val = x%y \n",
    "    print(f\"Remainder of x and y is {val}\")\n",
    "else : print(\"Please choose the operator from given list\")"
   ]
  },
  {
   "cell_type": "markdown",
   "id": "d7323837-69d3-4aa3-b3f2-13d8ef4ec46c",
   "metadata": {},
   "source": [
    "### Query:2\n",
    "\n",
    "Write nested if statements for the following set of rules on two variables called Python_Skill and Math_Skill: \n",
    "\n",
    "* If skill in Python is 'good' and skill in math is 'good', then print 'recommend advanced data structures topics'\n",
    "* If skill in Python is 'good' and skill in math is not 'good', then print 'recommend application development topics'\n",
    "* If skill in Python is not 'good' and skill in math is 'good', then print 'recommend data analytics tools topics'\n",
    "* If skill in Python is not 'good' and skill in math is not 'good', then print 'recommend other topics'"
   ]
  },
  {
   "cell_type": "code",
   "execution_count": 75,
   "id": "950caa4c-07bd-42b7-9e64-7997a3d523fe",
   "metadata": {},
   "outputs": [
    {
     "name": "stdin",
     "output_type": "stream",
     "text": [
      "Enter Python Skill: not good\n",
      "Enter Math Skill: good\n"
     ]
    },
    {
     "name": "stdout",
     "output_type": "stream",
     "text": [
      "recommend data analytics tools topics\n"
     ]
    }
   ],
   "source": [
    "Python_Skill = input(\"Enter Python Skill:\")\n",
    "Math_Skill = input(\"Enter Math Skill:\")\n",
    "if Python_Skill == 'good':\n",
    "    if Math_Skill == 'good':\n",
    "        print('recommend advanced data structures topics')\n",
    "    else:\n",
    "        print('recommend application development topics')\n",
    "else:\n",
    "    if Math_Skill == 'good':\n",
    "        print('recommend data analytics tools topics')\n",
    "    else:\n",
    "        print('recommend other topics')"
   ]
  },
  {
   "cell_type": "markdown",
   "id": "acb987ce-d324-4222-bcb4-d502e97a2d1d",
   "metadata": {},
   "source": [
    "### Match-Case Statement : Python 3.10"
   ]
  },
  {
   "cell_type": "code",
   "execution_count": 80,
   "id": "d32bbb30-4304-4919-a7ad-406ffb436f7b",
   "metadata": {},
   "outputs": [
    {
     "data": {
      "text/plain": [
       "'3.13.2 (v3.13.2:4f8bb3947cf, Feb  4 2025, 11:51:10) [Clang 15.0.0 (clang-1500.3.9.4)]'"
      ]
     },
     "execution_count": 80,
     "metadata": {},
     "output_type": "execute_result"
    }
   ],
   "source": [
    "import sys\n",
    "sys.version"
   ]
  },
  {
   "cell_type": "code",
   "execution_count": 84,
   "id": "ca9a0ea2-6bf5-4297-802c-37bac61243a1",
   "metadata": {},
   "outputs": [
    {
     "name": "stdin",
     "output_type": "stream",
     "text": [
      "Enter your order type:  in-store\n"
     ]
    },
    {
     "name": "stdout",
     "output_type": "stream",
     "text": [
      "Proccess in store\n"
     ]
    }
   ],
   "source": [
    "order_type = input(\"Enter your order type: \")\n",
    "match order_type:\n",
    "    case 'online':\n",
    "        print(\"Process in online order\")\n",
    "    case 'in-store':\n",
    "        print(\"Proccess in store\")\n",
    "    case 'phone':\n",
    "        print(\"Process phone order.\")\n",
    "    case _:\n",
    "        print(\"Invalid Order type\")"
   ]
  },
  {
   "cell_type": "code",
   "execution_count": 85,
   "id": "36f64dfa-4218-48ca-b770-9d38d9cceb7e",
   "metadata": {},
   "outputs": [
    {
     "name": "stdin",
     "output_type": "stream",
     "text": [
      "Enter your items:  Groceries\n"
     ]
    },
    {
     "name": "stdout",
     "output_type": "stream",
     "text": [
      "Essential Expense\n"
     ]
    }
   ],
   "source": [
    "category = input(\"Enter your items: \")\n",
    "match category:\n",
    "    case 'Groceries' | 'Utilities' : print(\"Essential Expense\")\n",
    "    case 'Dining out' | 'Entertertainment' : print(\"Non-Essential expense\")\n",
    "    case _:\n",
    "        print(\"Other Expenses\")"
   ]
  },
  {
   "cell_type": "code",
   "execution_count": null,
   "id": "f1ffd660-46b7-4e3b-ae14-673e66b9d67a",
   "metadata": {},
   "outputs": [],
   "source": []
  }
 ],
 "metadata": {
  "kernelspec": {
   "display_name": "Python 3 (ipykernel)",
   "language": "python",
   "name": "python3"
  },
  "language_info": {
   "codemirror_mode": {
    "name": "ipython",
    "version": 3
   },
   "file_extension": ".py",
   "mimetype": "text/x-python",
   "name": "python",
   "nbconvert_exporter": "python",
   "pygments_lexer": "ipython3",
   "version": "3.13.2"
  }
 },
 "nbformat": 4,
 "nbformat_minor": 5
}
