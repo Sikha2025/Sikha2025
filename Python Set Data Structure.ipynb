{
 "cells": [
  {
   "cell_type": "markdown",
   "id": "227bb64b-967c-43b4-aefb-54ca1ed5206c",
   "metadata": {},
   "source": [
    "### LinkedIn:\n",
    "\n",
    "https://www.linkedin.com/in/abhisheak-saraswat/"
   ]
  },
  {
   "cell_type": "markdown",
   "id": "8ff55268-4ea0-4a80-ac9c-b9fa7037678b",
   "metadata": {},
   "source": [
    "## Set Data Structure\n",
    "\n",
    "- **Rules and Guidelines of Set Data Structure**\n",
    "  - Set is an unordered collection of items (Which means can not be indexed)\n",
    "  - Set does not allow duplicates elements\n",
    "  - Set is created by set function only and represented by {}\n",
    "  - Set allows to apply multiple mathematical operations like union, intersection, symmetrical etc\n",
    "  - Set elements are mutable data object."
   ]
  },
  {
   "cell_type": "code",
   "execution_count": 2,
   "id": "4412aa8b-d0c8-4d54-ae7b-f3cf73c58fdd",
   "metadata": {},
   "outputs": [],
   "source": [
    "set1 = set() # creating a blank set"
   ]
  },
  {
   "cell_type": "code",
   "execution_count": 4,
   "id": "0a04daee-124f-4c09-b057-c5b7976a32a8",
   "metadata": {},
   "outputs": [
    {
     "data": {
      "text/plain": [
       "set()"
      ]
     },
     "execution_count": 4,
     "metadata": {},
     "output_type": "execute_result"
    }
   ],
   "source": [
    "set1"
   ]
  },
  {
   "cell_type": "code",
   "execution_count": 10,
   "id": "ea36bbb1-7982-4384-8107-75c22220bf3f",
   "metadata": {},
   "outputs": [],
   "source": [
    "set1 = {3,3,3,3,3,\"A\",100,True, None, 12.40,\"a\",10,34,\"X\",10}"
   ]
  },
  {
   "cell_type": "code",
   "execution_count": 12,
   "id": "074514bb-1737-4e1f-9f96-3ef3f4dae91e",
   "metadata": {},
   "outputs": [
    {
     "data": {
      "text/plain": [
       "{10, 100, 12.4, 3, 34, 'A', None, True, 'X', 'a'}"
      ]
     },
     "execution_count": 12,
     "metadata": {},
     "output_type": "execute_result"
    }
   ],
   "source": [
    "set1"
   ]
  },
  {
   "cell_type": "markdown",
   "id": "c246d12a-8d5f-4aad-a828-61aa971206b5",
   "metadata": {},
   "source": [
    "### All the functions from set"
   ]
  },
  {
   "cell_type": "code",
   "execution_count": 15,
   "id": "734b2d67-ff8a-4581-b9d0-d56272cda4b6",
   "metadata": {},
   "outputs": [
    {
     "name": "stdout",
     "output_type": "stream",
     "text": [
      "['add', 'clear', 'copy', 'difference', 'difference_update', 'discard', 'intersection', 'intersection_update', 'isdisjoint', 'issubset', 'issuperset', 'pop', 'remove', 'symmetric_difference', 'symmetric_difference_update', 'union', 'update']\n"
     ]
    }
   ],
   "source": [
    "print([i for i in dir(set) if \"__\" not in i])"
   ]
  },
  {
   "cell_type": "code",
   "execution_count": 19,
   "id": "fcc0623f-9dd9-433f-ab96-21b71317ba4c",
   "metadata": {},
   "outputs": [],
   "source": [
    "set1 = {1,3,0,-10,False}"
   ]
  },
  {
   "cell_type": "code",
   "execution_count": 21,
   "id": "dbe055fe-1dd8-405f-86c8-d2a2b2872db9",
   "metadata": {},
   "outputs": [
    {
     "data": {
      "text/plain": [
       "{-10, 0, 1, 3}"
      ]
     },
     "execution_count": 21,
     "metadata": {},
     "output_type": "execute_result"
    }
   ],
   "source": [
    "set1"
   ]
  },
  {
   "cell_type": "code",
   "execution_count": 23,
   "id": "7f97688a-8f73-47ce-877e-05fd35ce99c1",
   "metadata": {},
   "outputs": [],
   "source": [
    "# adding an element within the set"
   ]
  },
  {
   "cell_type": "code",
   "execution_count": 25,
   "id": "c89c29ea-d305-436a-8321-4e6555eda410",
   "metadata": {},
   "outputs": [],
   "source": [
    "set1.add('Varun')"
   ]
  },
  {
   "cell_type": "code",
   "execution_count": 27,
   "id": "f2b09ba1-bc36-4c20-985a-286235403883",
   "metadata": {},
   "outputs": [
    {
     "data": {
      "text/plain": [
       "{-10, 0, 1, 3, 'Varun'}"
      ]
     },
     "execution_count": 27,
     "metadata": {},
     "output_type": "execute_result"
    }
   ],
   "source": [
    "set1"
   ]
  },
  {
   "cell_type": "code",
   "execution_count": 29,
   "id": "fd777be6-7769-414c-9616-e5c0dc3869d8",
   "metadata": {},
   "outputs": [],
   "source": [
    "# q. can we add multiple element within the set \n",
    "# a. Yes, we can add multiple element within the set using update function"
   ]
  },
  {
   "cell_type": "code",
   "execution_count": 31,
   "id": "fe62b8c5-893e-41a8-924b-0f907f5bfc51",
   "metadata": {},
   "outputs": [],
   "source": [
    "set1.update([10,2,3,4,5,6,7,8,'A','b',109])"
   ]
  },
  {
   "cell_type": "code",
   "execution_count": 33,
   "id": "1bf92ec8-45f9-40d1-9a6b-2e25f072c733",
   "metadata": {},
   "outputs": [
    {
     "data": {
      "text/plain": [
       "{-10, 0, 1, 10, 109, 2, 3, 4, 5, 6, 7, 8, 'A', 'Varun', 'b'}"
      ]
     },
     "execution_count": 33,
     "metadata": {},
     "output_type": "execute_result"
    }
   ],
   "source": [
    "set1"
   ]
  },
  {
   "cell_type": "markdown",
   "id": "49723da4-514c-4eb6-ac97-6b4d944cc18e",
   "metadata": {},
   "source": [
    "### Howe can delete an element within the set"
   ]
  },
  {
   "cell_type": "code",
   "execution_count": null,
   "id": "990c4074-851d-45d7-9f4d-484cdd5dd803",
   "metadata": {},
   "outputs": [],
   "source": [
    "# remove :  using remove we can remove an item based on the item's name\n",
    "# discard : discard sames as remove but not raise any exception if item is not the part of your set.\n",
    "# pop: Random element we can pop from set"
   ]
  },
  {
   "cell_type": "code",
   "execution_count": 36,
   "id": "73feac56-a231-40df-aee6-c2d05fe8ca8e",
   "metadata": {},
   "outputs": [
    {
     "data": {
      "text/plain": [
       "{-10, 0, 1, 10, 109, 2, 3, 4, 5, 6, 7, 8, 'A', 'Varun', 'b'}"
      ]
     },
     "execution_count": 36,
     "metadata": {},
     "output_type": "execute_result"
    }
   ],
   "source": [
    "set1"
   ]
  },
  {
   "cell_type": "code",
   "execution_count": 38,
   "id": "9ecda42f-b100-48d8-89a0-35087656dfc6",
   "metadata": {},
   "outputs": [],
   "source": [
    "set1.remove(\"A\")"
   ]
  },
  {
   "cell_type": "code",
   "execution_count": 40,
   "id": "c05cbccb-7a56-4e01-9c58-5716877a7d28",
   "metadata": {},
   "outputs": [
    {
     "data": {
      "text/plain": [
       "{-10, 0, 1, 10, 109, 2, 3, 4, 5, 6, 7, 8, 'Varun', 'b'}"
      ]
     },
     "execution_count": 40,
     "metadata": {},
     "output_type": "execute_result"
    }
   ],
   "source": [
    "set1"
   ]
  },
  {
   "cell_type": "code",
   "execution_count": 42,
   "id": "b62027c0-d41d-4dfe-8597-9d13f5d41a18",
   "metadata": {},
   "outputs": [
    {
     "ename": "KeyError",
     "evalue": "'X'",
     "output_type": "error",
     "traceback": [
      "\u001b[0;31m---------------------------------------------------------------------------\u001b[0m",
      "\u001b[0;31mKeyError\u001b[0m                                  Traceback (most recent call last)",
      "Cell \u001b[0;32mIn[42], line 1\u001b[0m\n\u001b[0;32m----> 1\u001b[0m set1\u001b[38;5;241m.\u001b[39mremove(\u001b[38;5;124m'\u001b[39m\u001b[38;5;124mX\u001b[39m\u001b[38;5;124m'\u001b[39m)\n",
      "\u001b[0;31mKeyError\u001b[0m: 'X'"
     ]
    }
   ],
   "source": [
    "set1.remove('X')"
   ]
  },
  {
   "cell_type": "code",
   "execution_count": 44,
   "id": "d69633d4-60bf-4197-8354-7bad0ff5d58c",
   "metadata": {},
   "outputs": [],
   "source": [
    "set1.discard('X')"
   ]
  },
  {
   "cell_type": "code",
   "execution_count": 46,
   "id": "44dd3a8e-31cb-4ddc-8641-1869697b0991",
   "metadata": {},
   "outputs": [],
   "source": [
    "set1.discard('b')"
   ]
  },
  {
   "cell_type": "code",
   "execution_count": 48,
   "id": "5640890a-1118-40b3-b582-c0e666643906",
   "metadata": {},
   "outputs": [
    {
     "data": {
      "text/plain": [
       "{-10, 0, 1, 10, 109, 2, 3, 4, 5, 6, 7, 8, 'Varun'}"
      ]
     },
     "execution_count": 48,
     "metadata": {},
     "output_type": "execute_result"
    }
   ],
   "source": [
    "set1"
   ]
  },
  {
   "cell_type": "code",
   "execution_count": null,
   "id": "80f5f235-da0f-451b-b01b-8d07b11b427e",
   "metadata": {},
   "outputs": [],
   "source": [
    "# pop"
   ]
  },
  {
   "cell_type": "code",
   "execution_count": 52,
   "id": "b5300ff2-26d0-476a-8832-a52eeee0e707",
   "metadata": {},
   "outputs": [
    {
     "data": {
      "text/plain": [
       "0"
      ]
     },
     "execution_count": 52,
     "metadata": {},
     "output_type": "execute_result"
    }
   ],
   "source": [
    "set1.pop()"
   ]
  },
  {
   "cell_type": "code",
   "execution_count": 54,
   "id": "61a2aaa0-9043-4de8-88e9-f20f3bb46d21",
   "metadata": {},
   "outputs": [
    {
     "data": {
      "text/plain": [
       "1"
      ]
     },
     "execution_count": 54,
     "metadata": {},
     "output_type": "execute_result"
    }
   ],
   "source": [
    "set1.pop()"
   ]
  },
  {
   "cell_type": "code",
   "execution_count": 56,
   "id": "66e94bb7-791f-47b5-b425-8d6c953bda2f",
   "metadata": {},
   "outputs": [
    {
     "data": {
      "text/plain": [
       "{-10, 10, 109, 2, 3, 4, 5, 6, 7, 8, 'Varun'}"
      ]
     },
     "execution_count": 56,
     "metadata": {},
     "output_type": "execute_result"
    }
   ],
   "source": [
    "set1"
   ]
  },
  {
   "cell_type": "markdown",
   "id": "5ae0ed4e-fe1a-42db-8695-e830d69d3f84",
   "metadata": {},
   "source": [
    "### Set Mathematical Operations"
   ]
  },
  {
   "cell_type": "code",
   "execution_count": 59,
   "id": "dd51a28e-ea97-476e-bd31-b5ebe1d88914",
   "metadata": {},
   "outputs": [],
   "source": [
    "s1 = {1,4,6,7,8,9,\"a\",\"e\",'i','p',11}\n",
    "s2 = {3,4,5,7,1,0,'b','m','e','x','a','q'}"
   ]
  },
  {
   "cell_type": "code",
   "execution_count": 61,
   "id": "5166ac1d-39d0-42a6-ba5d-6aeb654b1c29",
   "metadata": {},
   "outputs": [
    {
     "data": {
      "text/plain": [
       "{1, 11, 4, 6, 7, 8, 9, 'a', 'e', 'i', 'p'}"
      ]
     },
     "execution_count": 61,
     "metadata": {},
     "output_type": "execute_result"
    }
   ],
   "source": [
    "s1"
   ]
  },
  {
   "cell_type": "code",
   "execution_count": 63,
   "id": "1c90f843-564e-472c-9275-17d4d18346a5",
   "metadata": {},
   "outputs": [
    {
     "data": {
      "text/plain": [
       "{0, 1, 3, 4, 5, 7, 'a', 'b', 'e', 'm', 'q', 'x'}"
      ]
     },
     "execution_count": 63,
     "metadata": {},
     "output_type": "execute_result"
    }
   ],
   "source": [
    "s2"
   ]
  },
  {
   "cell_type": "code",
   "execution_count": 69,
   "id": "f2971ae7-dd5a-40b6-a185-6df38213168f",
   "metadata": {},
   "outputs": [
    {
     "name": "stdout",
     "output_type": "stream",
     "text": [
      "Len of S1: 11 and S2: 12.\n"
     ]
    }
   ],
   "source": [
    "print(f\"Len of S1: {len(s1)} and S2: {len(s2)}.\")"
   ]
  },
  {
   "cell_type": "markdown",
   "id": "bf4968f6-0a7d-4457-915b-7bb799a7a8b0",
   "metadata": {},
   "source": [
    "### Set Intersection"
   ]
  },
  {
   "cell_type": "code",
   "execution_count": null,
   "id": "2b4ca461-a1b7-4a62-84df-0592c538e520",
   "metadata": {},
   "outputs": [],
   "source": [
    "# Can you find out common element within the set\n",
    "# Yes, we can do that using intersection function"
   ]
  },
  {
   "cell_type": "code",
   "execution_count": 71,
   "id": "db63ba78-0b22-4d43-90f4-c4854c3e86dd",
   "metadata": {},
   "outputs": [
    {
     "data": {
      "text/plain": [
       "{1, 4, 7, 'a', 'e'}"
      ]
     },
     "execution_count": 71,
     "metadata": {},
     "output_type": "execute_result"
    }
   ],
   "source": [
    "s1.intersection(s2) # common records from both the set"
   ]
  },
  {
   "cell_type": "code",
   "execution_count": 77,
   "id": "30264b28-75ea-470a-8fc6-2b0134c5e695",
   "metadata": {},
   "outputs": [
    {
     "data": {
      "text/plain": [
       "{1, 4, 7, 'a', 'e'}"
      ]
     },
     "execution_count": 77,
     "metadata": {},
     "output_type": "execute_result"
    }
   ],
   "source": [
    "s1 & s2"
   ]
  },
  {
   "cell_type": "code",
   "execution_count": 79,
   "id": "f8f973a0-edd4-4722-bfff-239b2b125e82",
   "metadata": {},
   "outputs": [
    {
     "data": {
      "text/plain": [
       "{1, 4, 7, 'a', 'e'}"
      ]
     },
     "execution_count": 79,
     "metadata": {},
     "output_type": "execute_result"
    }
   ],
   "source": [
    "s2 & s1"
   ]
  },
  {
   "cell_type": "markdown",
   "id": "6d5c2f63-5377-4d3d-99c6-28fadfec0a15",
   "metadata": {},
   "source": [
    "### Set Union"
   ]
  },
  {
   "cell_type": "code",
   "execution_count": 75,
   "id": "f5ab6224-372d-4d19-a9a7-fe3cf573253e",
   "metadata": {},
   "outputs": [
    {
     "name": "stdout",
     "output_type": "stream",
     "text": [
      "{1, 4, 6, 7, 8, 9, 'e', 11, 'p', 'i', 'a'} {0, 1, 3, 4, 5, 7, 'e', 'b', 'q', 'm', 'x', 'a'}\n"
     ]
    }
   ],
   "source": [
    "print(s1,s2)"
   ]
  },
  {
   "cell_type": "code",
   "execution_count": 81,
   "id": "6e731ec6-75df-4fcb-81ee-05d6b2d4c395",
   "metadata": {},
   "outputs": [
    {
     "data": {
      "text/plain": [
       "{0, 1, 11, 3, 4, 5, 6, 7, 8, 9, 'a', 'b', 'e', 'i', 'm', 'p', 'q', 'x'}"
      ]
     },
     "execution_count": 81,
     "metadata": {},
     "output_type": "execute_result"
    }
   ],
   "source": [
    "s1.union(s2)"
   ]
  },
  {
   "cell_type": "code",
   "execution_count": 83,
   "id": "20b662b7-8f9a-42a7-8f7d-d31db0a29b09",
   "metadata": {},
   "outputs": [
    {
     "data": {
      "text/plain": [
       "{0, 1, 11, 3, 4, 5, 6, 7, 8, 9, 'a', 'b', 'e', 'i', 'm', 'p', 'q', 'x'}"
      ]
     },
     "execution_count": 83,
     "metadata": {},
     "output_type": "execute_result"
    }
   ],
   "source": [
    "s1 | s2"
   ]
  },
  {
   "cell_type": "markdown",
   "id": "d948eb0d-7747-4f6b-bf02-b08f81096229",
   "metadata": {},
   "source": [
    "### Set Difference"
   ]
  },
  {
   "cell_type": "code",
   "execution_count": 86,
   "id": "a7bbd9d2-ed59-49df-ac9b-f76abc0008e5",
   "metadata": {},
   "outputs": [
    {
     "data": {
      "text/plain": [
       "{1, 11, 4, 6, 7, 8, 9, 'a', 'e', 'i', 'p'}"
      ]
     },
     "execution_count": 86,
     "metadata": {},
     "output_type": "execute_result"
    }
   ],
   "source": [
    "s1"
   ]
  },
  {
   "cell_type": "code",
   "execution_count": 88,
   "id": "952a7322-5b76-4368-90aa-c557bed1eb94",
   "metadata": {},
   "outputs": [
    {
     "data": {
      "text/plain": [
       "{0, 1, 3, 4, 5, 7, 'a', 'b', 'e', 'm', 'q', 'x'}"
      ]
     },
     "execution_count": 88,
     "metadata": {},
     "output_type": "execute_result"
    }
   ],
   "source": [
    "s2"
   ]
  },
  {
   "cell_type": "code",
   "execution_count": 91,
   "id": "b3707b89-180c-49da-8082-9b3511afac4a",
   "metadata": {},
   "outputs": [
    {
     "data": {
      "text/plain": [
       "{11, 6, 8, 9, 'i', 'p'}"
      ]
     },
     "execution_count": 91,
     "metadata": {},
     "output_type": "execute_result"
    }
   ],
   "source": [
    "s1.difference(s2)"
   ]
  },
  {
   "cell_type": "code",
   "execution_count": 93,
   "id": "e50fd84e-1199-41bd-8d58-f0a261ebcc4d",
   "metadata": {},
   "outputs": [
    {
     "data": {
      "text/plain": [
       "{0, 3, 5, 'b', 'm', 'q', 'x'}"
      ]
     },
     "execution_count": 93,
     "metadata": {},
     "output_type": "execute_result"
    }
   ],
   "source": [
    "s2.difference(s1)"
   ]
  },
  {
   "cell_type": "code",
   "execution_count": 95,
   "id": "8d43ff6d-f915-44f3-9d1b-4e254476fcf4",
   "metadata": {},
   "outputs": [
    {
     "data": {
      "text/plain": [
       "{0, 3, 5, 'b', 'm', 'q', 'x'}"
      ]
     },
     "execution_count": 95,
     "metadata": {},
     "output_type": "execute_result"
    }
   ],
   "source": [
    "s2 - s1"
   ]
  },
  {
   "cell_type": "code",
   "execution_count": 97,
   "id": "0d461688-0754-4a74-88fd-040aa7d6655a",
   "metadata": {},
   "outputs": [
    {
     "data": {
      "text/plain": [
       "{11, 6, 8, 9, 'i', 'p'}"
      ]
     },
     "execution_count": 97,
     "metadata": {},
     "output_type": "execute_result"
    }
   ],
   "source": [
    "s1 - s2"
   ]
  },
  {
   "cell_type": "markdown",
   "id": "80c33cb0-3df4-4e3c-90a0-298136586747",
   "metadata": {},
   "source": [
    "### Symmetrical_difference\n",
    "\n",
    "Exclude common elements between the sets."
   ]
  },
  {
   "cell_type": "code",
   "execution_count": null,
   "id": "e1aabe17-824c-4798-811f-ac3d015209a1",
   "metadata": {},
   "outputs": [],
   "source": []
  },
  {
   "cell_type": "code",
   "execution_count": 100,
   "id": "99bd36a9-4022-4ebd-8c05-e389d606d656",
   "metadata": {},
   "outputs": [
    {
     "data": {
      "text/plain": [
       "{1, 11, 4, 6, 7, 8, 9, 'a', 'e', 'i', 'p'}"
      ]
     },
     "execution_count": 100,
     "metadata": {},
     "output_type": "execute_result"
    }
   ],
   "source": [
    "s1"
   ]
  },
  {
   "cell_type": "code",
   "execution_count": 102,
   "id": "d0b1db1f-a4f7-4a61-a148-81ba38cf2cc1",
   "metadata": {},
   "outputs": [
    {
     "data": {
      "text/plain": [
       "{0, 1, 3, 4, 5, 7, 'a', 'b', 'e', 'm', 'q', 'x'}"
      ]
     },
     "execution_count": 102,
     "metadata": {},
     "output_type": "execute_result"
    }
   ],
   "source": [
    "s2"
   ]
  },
  {
   "cell_type": "code",
   "execution_count": 105,
   "id": "f8bc019f-2bde-498a-8857-78407d06f26d",
   "metadata": {},
   "outputs": [
    {
     "data": {
      "text/plain": [
       "{0, 11, 3, 5, 6, 8, 9, 'b', 'i', 'm', 'p', 'q', 'x'}"
      ]
     },
     "execution_count": 105,
     "metadata": {},
     "output_type": "execute_result"
    }
   ],
   "source": [
    "s1.symmetric_difference(s2)"
   ]
  },
  {
   "cell_type": "code",
   "execution_count": 107,
   "id": "4aed9cd6-6125-4344-bd2e-7903577d828f",
   "metadata": {},
   "outputs": [
    {
     "data": {
      "text/plain": [
       "{0, 11, 3, 5, 6, 8, 9, 'b', 'i', 'm', 'p', 'q', 'x'}"
      ]
     },
     "execution_count": 107,
     "metadata": {},
     "output_type": "execute_result"
    }
   ],
   "source": [
    "s2.symmetric_difference(s1)"
   ]
  },
  {
   "cell_type": "code",
   "execution_count": 109,
   "id": "d4dc3a9f-41a9-4fe3-9831-e705c03c1cd1",
   "metadata": {},
   "outputs": [
    {
     "data": {
      "text/plain": [
       "{0, 11, 3, 5, 6, 8, 9, 'b', 'i', 'm', 'p', 'q', 'x'}"
      ]
     },
     "execution_count": 109,
     "metadata": {},
     "output_type": "execute_result"
    }
   ],
   "source": [
    "s1 ^ s2"
   ]
  },
  {
   "cell_type": "code",
   "execution_count": null,
   "id": "6f7c0e67-4a21-4aef-889d-5204489bd310",
   "metadata": {},
   "outputs": [],
   "source": [
    "# symmetric_difference = Union - Intersection"
   ]
  },
  {
   "cell_type": "code",
   "execution_count": 111,
   "id": "be56b0be-e44b-43e1-9892-f2802b5119d4",
   "metadata": {},
   "outputs": [
    {
     "data": {
      "text/plain": [
       "{0, 11, 3, 5, 6, 8, 9, 'b', 'i', 'm', 'p', 'q', 'x'}"
      ]
     },
     "execution_count": 111,
     "metadata": {},
     "output_type": "execute_result"
    }
   ],
   "source": [
    "(s1.union(s2)) - (s1.intersection(s2))"
   ]
  },
  {
   "cell_type": "markdown",
   "id": "2b7031f6-950f-42bf-9840-bfb9b61dae8a",
   "metadata": {},
   "source": [
    "### isdisjoint, issubset, issuperset"
   ]
  },
  {
   "cell_type": "code",
   "execution_count": 115,
   "id": "3ca72816-67c8-4b6d-a966-f66bd583e7b6",
   "metadata": {},
   "outputs": [],
   "source": [
    "x = {1,4,5,7,8,9}\n",
    "y = {0,2,6,11,34}"
   ]
  },
  {
   "cell_type": "code",
   "execution_count": 117,
   "id": "e7b55f79-718c-4cc3-9c62-ee2ffb8ac11d",
   "metadata": {},
   "outputs": [],
   "source": [
    "# isdisjoint"
   ]
  },
  {
   "cell_type": "code",
   "execution_count": 119,
   "id": "70a1aae5-5cbf-43df-8545-ed61ca937875",
   "metadata": {},
   "outputs": [
    {
     "data": {
      "text/plain": [
       "True"
      ]
     },
     "execution_count": 119,
     "metadata": {},
     "output_type": "execute_result"
    }
   ],
   "source": [
    "x.isdisjoint(y)"
   ]
  },
  {
   "cell_type": "code",
   "execution_count": 121,
   "id": "066d9d30-f6ee-4953-819f-e0a16e2e2bb3",
   "metadata": {},
   "outputs": [
    {
     "name": "stdout",
     "output_type": "stream",
     "text": [
      "Return True if two sets have a null intersection.\n"
     ]
    }
   ],
   "source": [
    "print(x.isdisjoint.__doc__)"
   ]
  },
  {
   "cell_type": "code",
   "execution_count": 123,
   "id": "b37dd9c4-8a91-4a9b-921f-9e54e00607b0",
   "metadata": {},
   "outputs": [],
   "source": [
    "y.add(4)"
   ]
  },
  {
   "cell_type": "code",
   "execution_count": 125,
   "id": "d1c86ceb-756e-4d42-bc9c-bdf2a3efaf1d",
   "metadata": {},
   "outputs": [
    {
     "data": {
      "text/plain": [
       "{1, 4, 5, 7, 8, 9}"
      ]
     },
     "execution_count": 125,
     "metadata": {},
     "output_type": "execute_result"
    }
   ],
   "source": [
    "x"
   ]
  },
  {
   "cell_type": "code",
   "execution_count": 127,
   "id": "44a259b6-c4b5-4d4a-8ba0-8d0c9f85b1ca",
   "metadata": {},
   "outputs": [
    {
     "data": {
      "text/plain": [
       "{0, 2, 4, 6, 11, 34}"
      ]
     },
     "execution_count": 127,
     "metadata": {},
     "output_type": "execute_result"
    }
   ],
   "source": [
    "y"
   ]
  },
  {
   "cell_type": "code",
   "execution_count": 129,
   "id": "8a3067e8-4aee-49c8-9cb1-22edc60f9add",
   "metadata": {},
   "outputs": [
    {
     "data": {
      "text/plain": [
       "False"
      ]
     },
     "execution_count": 129,
     "metadata": {},
     "output_type": "execute_result"
    }
   ],
   "source": [
    "x.isdisjoint(y)"
   ]
  },
  {
   "cell_type": "markdown",
   "id": "ee1c72f9-8dca-4bed-9659-5a0a884c5479",
   "metadata": {},
   "source": [
    "### issubset\n",
    "\n",
    "A set contains another set."
   ]
  },
  {
   "cell_type": "code",
   "execution_count": 132,
   "id": "105ccd6d-77b2-452d-a550-390b6c3c6fff",
   "metadata": {},
   "outputs": [],
   "source": [
    "a = {1,3,5}\n",
    "b = {11,22,3,4,5,6,7,1,5,9,67,51}"
   ]
  },
  {
   "cell_type": "code",
   "execution_count": 134,
   "id": "3a1b7776-2cea-432c-a7f9-8919f15e2bff",
   "metadata": {},
   "outputs": [
    {
     "data": {
      "text/plain": [
       "{1, 3, 5}"
      ]
     },
     "execution_count": 134,
     "metadata": {},
     "output_type": "execute_result"
    }
   ],
   "source": [
    "a"
   ]
  },
  {
   "cell_type": "code",
   "execution_count": 136,
   "id": "50d36857-3320-459d-80db-b27ac65d0d9f",
   "metadata": {},
   "outputs": [
    {
     "data": {
      "text/plain": [
       "{1, 3, 4, 5, 6, 7, 9, 11, 22, 51, 67}"
      ]
     },
     "execution_count": 136,
     "metadata": {},
     "output_type": "execute_result"
    }
   ],
   "source": [
    "b"
   ]
  },
  {
   "cell_type": "code",
   "execution_count": 138,
   "id": "dc562ec0-bfca-4d47-8863-566d7ce891a6",
   "metadata": {},
   "outputs": [
    {
     "data": {
      "text/plain": [
       "True"
      ]
     },
     "execution_count": 138,
     "metadata": {},
     "output_type": "execute_result"
    }
   ],
   "source": [
    "a.issubset(b)"
   ]
  },
  {
   "cell_type": "code",
   "execution_count": 140,
   "id": "3a8baa4d-0f29-4689-b934-6bffe0bc274a",
   "metadata": {},
   "outputs": [
    {
     "data": {
      "text/plain": [
       "True"
      ]
     },
     "execution_count": 140,
     "metadata": {},
     "output_type": "execute_result"
    }
   ],
   "source": [
    "# issuperset\n",
    "b.issuperset(a)"
   ]
  },
  {
   "cell_type": "code",
   "execution_count": null,
   "id": "ea4d3913-f9c5-470e-b009-826f0edf9ed0",
   "metadata": {},
   "outputs": [],
   "source": [
    "# Set clear and copy"
   ]
  },
  {
   "cell_type": "code",
   "execution_count": 142,
   "id": "d56519c5-4a6d-4cab-97d2-875c2edc1d2c",
   "metadata": {},
   "outputs": [
    {
     "data": {
      "text/plain": [
       "{-10, 10, 109, 2, 3, 4, 5, 6, 7, 8, 'Varun'}"
      ]
     },
     "execution_count": 142,
     "metadata": {},
     "output_type": "execute_result"
    }
   ],
   "source": [
    "set1"
   ]
  },
  {
   "cell_type": "code",
   "execution_count": 144,
   "id": "ff1a989c-136f-4e52-969f-13966bd5a4e1",
   "metadata": {},
   "outputs": [],
   "source": [
    "set1.clear()"
   ]
  },
  {
   "cell_type": "code",
   "execution_count": 146,
   "id": "343bae85-5fb9-4c1c-9214-2660caf6a169",
   "metadata": {},
   "outputs": [
    {
     "data": {
      "text/plain": [
       "set()"
      ]
     },
     "execution_count": 146,
     "metadata": {},
     "output_type": "execute_result"
    }
   ],
   "source": [
    "set1"
   ]
  },
  {
   "cell_type": "code",
   "execution_count": 152,
   "id": "714aeed9-a796-45d8-a635-c7ca51784f2a",
   "metadata": {},
   "outputs": [
    {
     "data": {
      "text/plain": [
       "{1, 4, 5, 7, 8, 9}"
      ]
     },
     "execution_count": 152,
     "metadata": {},
     "output_type": "execute_result"
    }
   ],
   "source": [
    "x"
   ]
  },
  {
   "cell_type": "code",
   "execution_count": 156,
   "id": "5f30dd9c-7a4c-4096-b19d-6a461e77cd65",
   "metadata": {},
   "outputs": [
    {
     "data": {
      "text/plain": [
       "{1, 4, 5, 7, 8, 9}"
      ]
     },
     "execution_count": 156,
     "metadata": {},
     "output_type": "execute_result"
    }
   ],
   "source": [
    "set2 = x.copy()\n",
    "set2"
   ]
  },
  {
   "cell_type": "markdown",
   "id": "ae510f51-3ec7-405f-bb79-6ff8353185f5",
   "metadata": {},
   "source": [
    "* intersection_update, difference_update, symmetric_difference_update"
   ]
  },
  {
   "cell_type": "code",
   "execution_count": 170,
   "id": "e98c09f6-caf0-497d-9c95-15a28e82c359",
   "metadata": {},
   "outputs": [],
   "source": [
    "s3 = s1.copy()\n",
    "s4 = s2.copy()"
   ]
  },
  {
   "cell_type": "code",
   "execution_count": 172,
   "id": "ee10a6e1-a4bc-4b09-b2ad-734de8a9ca67",
   "metadata": {},
   "outputs": [
    {
     "data": {
      "text/plain": [
       "{1, 11, 4, 6, 7, 8, 9, 'a', 'e', 'i', 'p'}"
      ]
     },
     "execution_count": 172,
     "metadata": {},
     "output_type": "execute_result"
    }
   ],
   "source": [
    "s1"
   ]
  },
  {
   "cell_type": "code",
   "execution_count": 174,
   "id": "3cc064f4-9fe7-404e-b58d-a8f1a3915100",
   "metadata": {},
   "outputs": [
    {
     "data": {
      "text/plain": [
       "{0, 1, 3, 4, 5, 7, 'a', 'b', 'e', 'm', 'q', 'x'}"
      ]
     },
     "execution_count": 174,
     "metadata": {},
     "output_type": "execute_result"
    }
   ],
   "source": [
    "s2"
   ]
  },
  {
   "cell_type": "code",
   "execution_count": 176,
   "id": "387772f5-28cf-4e9c-8604-1524ae8cd75b",
   "metadata": {},
   "outputs": [
    {
     "data": {
      "text/plain": [
       "{1, 4, 7, 'a', 'e'}"
      ]
     },
     "execution_count": 176,
     "metadata": {},
     "output_type": "execute_result"
    }
   ],
   "source": [
    "s1.intersection(s2)"
   ]
  },
  {
   "cell_type": "code",
   "execution_count": 178,
   "id": "3e8700e3-19cf-4872-a4eb-69118b461fdb",
   "metadata": {},
   "outputs": [],
   "source": [
    "s1.intersection_update(s2)"
   ]
  },
  {
   "cell_type": "code",
   "execution_count": 180,
   "id": "b0a8d57a-ea93-4469-af82-b5f9f0583334",
   "metadata": {},
   "outputs": [
    {
     "data": {
      "text/plain": [
       "{1, 4, 7, 'a', 'e'}"
      ]
     },
     "execution_count": 180,
     "metadata": {},
     "output_type": "execute_result"
    }
   ],
   "source": [
    "s1"
   ]
  },
  {
   "cell_type": "code",
   "execution_count": 182,
   "id": "61d70f1e-f649-4c3f-989a-16cc2323b212",
   "metadata": {},
   "outputs": [
    {
     "data": {
      "text/plain": [
       "{1, 11, 4, 6, 7, 8, 9, 'a', 'e', 'i', 'p'}"
      ]
     },
     "execution_count": 182,
     "metadata": {},
     "output_type": "execute_result"
    }
   ],
   "source": [
    "s3"
   ]
  },
  {
   "cell_type": "code",
   "execution_count": 184,
   "id": "fd487318-ca7b-4cbc-90af-4d272e7dd784",
   "metadata": {},
   "outputs": [
    {
     "data": {
      "text/plain": [
       "{0, 1, 3, 4, 5, 7, 'a', 'b', 'e', 'm', 'q', 'x'}"
      ]
     },
     "execution_count": 184,
     "metadata": {},
     "output_type": "execute_result"
    }
   ],
   "source": [
    "s4"
   ]
  },
  {
   "cell_type": "code",
   "execution_count": 186,
   "id": "998eb703-7eb6-4482-8adf-7bd7b22c0d49",
   "metadata": {},
   "outputs": [
    {
     "data": {
      "text/plain": [
       "{11, 6, 8, 9, 'i', 'p'}"
      ]
     },
     "execution_count": 186,
     "metadata": {},
     "output_type": "execute_result"
    }
   ],
   "source": [
    "s3.difference(s4)"
   ]
  },
  {
   "cell_type": "code",
   "execution_count": 188,
   "id": "dcd01bfc-7f3c-4b8b-8eee-28d30c6fa9b9",
   "metadata": {},
   "outputs": [],
   "source": [
    "s3.difference_update(s4)"
   ]
  },
  {
   "cell_type": "code",
   "execution_count": 190,
   "id": "56ff5356-07ec-4c5b-a619-dedd7d87652c",
   "metadata": {},
   "outputs": [
    {
     "data": {
      "text/plain": [
       "{11, 6, 8, 9, 'i', 'p'}"
      ]
     },
     "execution_count": 190,
     "metadata": {},
     "output_type": "execute_result"
    }
   ],
   "source": [
    "s3"
   ]
  },
  {
   "cell_type": "code",
   "execution_count": 196,
   "id": "dd4ec6f7-8331-4bce-8b47-9355b5c39802",
   "metadata": {},
   "outputs": [],
   "source": [
    "a = 10; b = 20; c = 5"
   ]
  },
  {
   "cell_type": "code",
   "execution_count": 198,
   "id": "a43f7a35-6eae-400c-8b65-10f2b57c46f1",
   "metadata": {},
   "outputs": [
    {
     "data": {
      "text/plain": [
       "30"
      ]
     },
     "execution_count": 198,
     "metadata": {},
     "output_type": "execute_result"
    }
   ],
   "source": [
    "a+b"
   ]
  },
  {
   "cell_type": "code",
   "execution_count": 200,
   "id": "1db09034-494b-43da-a88c-e0d886bfd442",
   "metadata": {},
   "outputs": [
    {
     "data": {
      "text/plain": [
       "30"
      ]
     },
     "execution_count": 200,
     "metadata": {},
     "output_type": "execute_result"
    }
   ],
   "source": [
    "c = a + b\n",
    "c"
   ]
  },
  {
   "cell_type": "code",
   "execution_count": 210,
   "id": "d1869943-3c9f-4659-864d-63098bfb3bde",
   "metadata": {},
   "outputs": [
    {
     "name": "stdout",
     "output_type": "stream",
     "text": [
      "['append', 'clear', 'copy', 'count', 'extend', 'index', 'insert', 'pop', 'remove', 'reverse', 'sort']\n",
      "\n",
      "['count', 'index']\n",
      "\n",
      "['add', 'clear', 'copy', 'difference', 'difference_update', 'discard', 'intersection', 'intersection_update', 'isdisjoint', 'issubset', 'issuperset', 'pop', 'remove', 'symmetric_difference', 'symmetric_difference_update', 'union', 'update']\n",
      "\n",
      "['clear', 'copy', 'fromkeys', 'get', 'items', 'keys', 'pop', 'popitem', 'setdefault', 'update', 'values']\n"
     ]
    }
   ],
   "source": [
    "print([i for i in dir(list) if \"__\" not in i])\n",
    "print()\n",
    "print([i for i in dir(tuple) if \"__\" not in i])\n",
    "print()\n",
    "print([i for i in dir(set) if \"__\" not in i])\n",
    "print()\n",
    "print([i for i in dir(dict) if \"__\" not in i])"
   ]
  },
  {
   "cell_type": "code",
   "execution_count": null,
   "id": "7e4b441b-f8da-492b-8333-aaf5abfbb047",
   "metadata": {},
   "outputs": [],
   "source": []
  },
  {
   "cell_type": "code",
   "execution_count": null,
   "id": "d5d389a0-50ac-4e71-8afa-748eab256f8b",
   "metadata": {},
   "outputs": [],
   "source": [
    "a = {'a','b','c','d','e'}\n",
    "b = {'a','e','d'}"
   ]
  },
  {
   "cell_type": "code",
   "execution_count": null,
   "id": "05b7ff6f-9763-4bd5-b33f-289e8c7ee40c",
   "metadata": {},
   "outputs": [],
   "source": []
  },
  {
   "cell_type": "code",
   "execution_count": 208,
   "id": "d016fe3f-dca0-4b71-b75d-98c26ad64178",
   "metadata": {},
   "outputs": [
    {
     "data": {
      "text/plain": [
       "{(3, 4, 5), 1, 2, 3, 4}"
      ]
     },
     "execution_count": 208,
     "metadata": {},
     "output_type": "execute_result"
    }
   ],
   "source": [
    "{1,2,3,4,(3,4,5)}"
   ]
  },
  {
   "cell_type": "code",
   "execution_count": null,
   "id": "612abf64-570b-4020-a327-e09c78e0ef82",
   "metadata": {},
   "outputs": [],
   "source": []
  }
 ],
 "metadata": {
  "kernelspec": {
   "display_name": "Python [conda env:anaconda3]",
   "language": "python",
   "name": "conda-env-anaconda3-py"
  },
  "language_info": {
   "codemirror_mode": {
    "name": "ipython",
    "version": 3
   },
   "file_extension": ".py",
   "mimetype": "text/x-python",
   "name": "python",
   "nbconvert_exporter": "python",
   "pygments_lexer": "ipython3",
   "version": "3.12.7"
  }
 },
 "nbformat": 4,
 "nbformat_minor": 5
}
