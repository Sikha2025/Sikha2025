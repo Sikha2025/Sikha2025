{
 "cells": [
  {
   "cell_type": "markdown",
   "id": "4e41332a-9978-400f-949d-b14c991da16d",
   "metadata": {},
   "source": [
    "### Python LOOPs:\n",
    "\n",
    "* For Loop : This loop works on iterables objects.\n",
    "* While Loop"
   ]
  },
  {
   "cell_type": "markdown",
   "id": "b607b983-68e2-4ad9-a546-1fa6ef543662",
   "metadata": {},
   "source": [
    "### Syntax of Loop"
   ]
  },
  {
   "cell_type": "code",
   "execution_count": null,
   "id": "a734004a-4f96-4a0d-91b7-b26642301c01",
   "metadata": {},
   "outputs": [],
   "source": [
    "for yourVariable in Iterable:\n",
    "    print(yourVariable)"
   ]
  },
  {
   "cell_type": "code",
   "execution_count": 3,
   "id": "c0dccffe-be09-4af9-95c3-6f1035993908",
   "metadata": {},
   "outputs": [
    {
     "name": "stdout",
     "output_type": "stream",
     "text": [
      "M o n i k a   T h a k u r "
     ]
    }
   ],
   "source": [
    "name = \"Monika Thakur\"\n",
    "for char in name:\n",
    "    print(char, end = \" \")"
   ]
  },
  {
   "cell_type": "code",
   "execution_count": 4,
   "id": "acefebb3-ae4e-454d-ac69-79c3c7ceb48e",
   "metadata": {},
   "outputs": [
    {
     "name": "stdout",
     "output_type": "stream",
     "text": [
      "10\n",
      "45\n",
      "67\n",
      "89\n",
      "23\n",
      "45\n",
      "66\n",
      "77\n",
      "88\n",
      "90\n",
      "23\n",
      "11\n"
     ]
    }
   ],
   "source": [
    "lstOfNumbers = [10,45,67,89,23,45,66,77,88,90,23,11]\n",
    "for num in lstOfNumbers:\n",
    "    print(num)"
   ]
  },
  {
   "cell_type": "code",
   "execution_count": 5,
   "id": "5df97fa6-8352-4c0d-b222-a5653e7ea1a0",
   "metadata": {},
   "outputs": [
    {
     "data": {
      "text/plain": [
       "[10, 45, 67, 89, 23, 45, 66, 77, 88, 90, 23, 11]"
      ]
     },
     "execution_count": 5,
     "metadata": {},
     "output_type": "execute_result"
    }
   ],
   "source": [
    "lstOfNumbers"
   ]
  },
  {
   "cell_type": "code",
   "execution_count": 6,
   "id": "7542a8c2-d7a9-4ec7-83c8-23275f2649aa",
   "metadata": {},
   "outputs": [
    {
     "name": "stdout",
     "output_type": "stream",
     "text": [
      "10 45 45 90 "
     ]
    }
   ],
   "source": [
    "for num in lstOfNumbers:\n",
    "    if num % 5 == 0:\n",
    "        print(num, end = \" \")"
   ]
  },
  {
   "cell_type": "code",
   "execution_count": 7,
   "id": "9b9488b8-a4ed-4b64-875f-38134addb88e",
   "metadata": {},
   "outputs": [
    {
     "data": {
      "text/plain": [
       "'Monika Thakur'"
      ]
     },
     "execution_count": 7,
     "metadata": {},
     "output_type": "execute_result"
    }
   ],
   "source": [
    "name"
   ]
  },
  {
   "cell_type": "code",
   "execution_count": 8,
   "id": "bf59dc19-d63e-4e8b-9022-0d463aabff21",
   "metadata": {},
   "outputs": [
    {
     "data": {
      "text/plain": [
       "['a', 'e', 'i', 'o', 'u', 'A', 'E', 'I', 'O', 'U']"
      ]
     },
     "execution_count": 8,
     "metadata": {},
     "output_type": "execute_result"
    }
   ],
   "source": [
    "vowls = list(\"aeiouAEIOU\")\n",
    "vowls"
   ]
  },
  {
   "cell_type": "code",
   "execution_count": 9,
   "id": "5faa937e-b189-4a93-b236-3a0097ca0228",
   "metadata": {},
   "outputs": [
    {
     "name": "stdout",
     "output_type": "stream",
     "text": [
      "o i a a u "
     ]
    }
   ],
   "source": [
    "for char in name:\n",
    "    if char in vowls:\n",
    "        print(char, end = \" \")"
   ]
  },
  {
   "cell_type": "code",
   "execution_count": 10,
   "id": "549c76bc-f392-4d35-8c87-ee83e7262164",
   "metadata": {},
   "outputs": [
    {
     "name": "stdout",
     "output_type": "stream",
     "text": [
      "M n k   T h k r "
     ]
    }
   ],
   "source": [
    "for char in name:\n",
    "    if char not in vowls:\n",
    "        print(char, end = \" \")"
   ]
  },
  {
   "cell_type": "code",
   "execution_count": 12,
   "id": "9639559d-7902-4985-ac5c-10961c3aa00b",
   "metadata": {},
   "outputs": [
    {
     "name": "stdout",
     "output_type": "stream",
     "text": [
      "M n k T h k r "
     ]
    }
   ],
   "source": [
    "for char in name:\n",
    "    if char not in vowls:\n",
    "        if char != \" \":\n",
    "            print(char, end = \" \")"
   ]
  },
  {
   "cell_type": "markdown",
   "id": "20f6ba46-81ea-46f5-b1f5-f06090b841a6",
   "metadata": {},
   "source": [
    "### How to write tables using for loop:"
   ]
  },
  {
   "cell_type": "code",
   "execution_count": 16,
   "id": "51ce2cf7-15d9-44e6-a423-33db5e8c20a5",
   "metadata": {},
   "outputs": [
    {
     "name": "stdout",
     "output_type": "stream",
     "text": [
      "1 * 1 = 1\n",
      "1 * 2 = 2\n",
      "1 * 3 = 3\n",
      "1 * 4 = 4\n",
      "2 * 1 = 2\n",
      "2 * 2 = 4\n",
      "2 * 3 = 6\n",
      "2 * 4 = 8\n",
      "3 * 1 = 3\n",
      "3 * 2 = 6\n",
      "3 * 3 = 9\n",
      "3 * 4 = 12\n",
      "4 * 1 = 4\n",
      "4 * 2 = 8\n",
      "4 * 3 = 12\n",
      "4 * 4 = 16\n"
     ]
    }
   ],
   "source": [
    "for i in range(1,5):\n",
    "    for j in range(1,5):\n",
    "        print(f\"{i} * {j} = {i*j}\")"
   ]
  },
  {
   "cell_type": "code",
   "execution_count": 19,
   "id": "38451750-1dbe-4e55-84ec-88930f75b8dd",
   "metadata": {},
   "outputs": [
    {
     "name": "stdin",
     "output_type": "stream",
     "text": [
      "Enter a number:  35\n"
     ]
    },
    {
     "name": "stdout",
     "output_type": "stream",
     "text": [
      "35 x 1 = 35\n",
      "35 x 2 = 70\n",
      "35 x 3 = 105\n",
      "35 x 4 = 140\n",
      "35 x 5 = 175\n",
      "35 x 6 = 210\n",
      "35 x 7 = 245\n",
      "35 x 8 = 280\n",
      "35 x 9 = 315\n",
      "35 x 10 = 350\n"
     ]
    }
   ],
   "source": [
    "a = int(input(\"Enter a number: \"))\n",
    "for i in range(1, 11):\n",
    "    print(f\"{a} x {i} = {a * i}\")"
   ]
  },
  {
   "cell_type": "code",
   "execution_count": 20,
   "id": "58b5ea09-e2a4-404c-b9d7-ca75d4368630",
   "metadata": {},
   "outputs": [
    {
     "name": "stdout",
     "output_type": "stream",
     "text": [
      "1\n"
     ]
    }
   ],
   "source": [
    "for i in range(1,6,5): # start : 1, end: 6 and stepsize : 5\n",
    "    print(i)"
   ]
  },
  {
   "cell_type": "code",
   "execution_count": 21,
   "id": "1d0fe16c-a885-4c47-b36c-edc829c0b4ca",
   "metadata": {},
   "outputs": [
    {
     "name": "stdout",
     "output_type": "stream",
     "text": [
      "1\n",
      "6\n",
      "11\n",
      "16\n",
      "21\n",
      "26\n",
      "31\n",
      "36\n",
      "41\n",
      "46\n"
     ]
    }
   ],
   "source": [
    "for i in range(1,50,5): # start : 1, end: 6 and stepsize : 5\n",
    "    print(i)"
   ]
  },
  {
   "cell_type": "code",
   "execution_count": 26,
   "id": "1b95fa2b-9be7-43a7-bc93-928cd2477336",
   "metadata": {},
   "outputs": [
    {
     "name": "stdout",
     "output_type": "stream",
     "text": [
      "1 * 1 = 1\n",
      "1 * 2 = 2\n",
      "1 * 3 = 3\n",
      "1 * 4 = 4\n",
      "1 * 5 = 5\n",
      "1 * 6 = 6\n",
      "1 * 7 = 7\n",
      "1 * 8 = 8\n",
      "1 * 9 = 9\n",
      "_________\n",
      "2 * 1 = 2\n",
      "2 * 2 = 4\n",
      "2 * 3 = 6\n",
      "2 * 4 = 8\n",
      "2 * 5 = 10\n",
      "2 * 6 = 12\n",
      "2 * 7 = 14\n",
      "2 * 8 = 16\n",
      "2 * 9 = 18\n",
      "_________\n",
      "3 * 1 = 3\n",
      "3 * 2 = 6\n",
      "3 * 3 = 9\n",
      "3 * 4 = 12\n",
      "3 * 5 = 15\n",
      "3 * 6 = 18\n",
      "3 * 7 = 21\n",
      "3 * 8 = 24\n",
      "3 * 9 = 27\n",
      "_________\n",
      "4 * 1 = 4\n",
      "4 * 2 = 8\n",
      "4 * 3 = 12\n",
      "4 * 4 = 16\n",
      "4 * 5 = 20\n",
      "4 * 6 = 24\n",
      "4 * 7 = 28\n",
      "4 * 8 = 32\n",
      "4 * 9 = 36\n",
      "_________\n",
      "5 * 1 = 5\n",
      "5 * 2 = 10\n",
      "5 * 3 = 15\n",
      "5 * 4 = 20\n",
      "5 * 5 = 25\n",
      "5 * 6 = 30\n",
      "5 * 7 = 35\n",
      "5 * 8 = 40\n",
      "5 * 9 = 45\n",
      "_________\n"
     ]
    }
   ],
   "source": [
    "for i in range(1,6): \n",
    "    for j in range(1,10):\n",
    "        print(f\"{i} * {j} = {i*j}\")\n",
    "    print(\"_________\")"
   ]
  },
  {
   "cell_type": "markdown",
   "id": "0dd4bb4e-e8a2-419d-a9ce-f3056e7216cf",
   "metadata": {},
   "source": [
    "### For with else\n"
   ]
  },
  {
   "cell_type": "code",
   "execution_count": 28,
   "id": "9cd1764f-60b5-4f4d-9384-8e7eb8db13da",
   "metadata": {},
   "outputs": [
    {
     "name": "stdout",
     "output_type": "stream",
     "text": [
      "2 4 6 8 10 12 14 16 18 20 \n",
      "No number left in this range\n"
     ]
    }
   ],
   "source": [
    "for num in range(2,21,2):\n",
    "    print(num, end = \" \")\n",
    "else:\n",
    "    print(\"\\nNo number left in this range\")"
   ]
  },
  {
   "cell_type": "code",
   "execution_count": 34,
   "id": "a7b7e384-62c7-4c6a-b8d9-25cfd13cc2a0",
   "metadata": {},
   "outputs": [],
   "source": [
    "lst = [10,20,33,44,55]\n",
    "lstNum = ['Ten','Twenty','Thirty Three','Fourty Four','Fifty Five']"
   ]
  },
  {
   "cell_type": "code",
   "execution_count": 35,
   "id": "c9000ef0-3cf7-4b65-8e4a-0a58c07944ef",
   "metadata": {},
   "outputs": [
    {
     "name": "stdout",
     "output_type": "stream",
     "text": [
      "(10, 'Ten')\n",
      "(20, 'Twenty')\n",
      "(33, 'Thirty Three')\n",
      "(44, 'Fourty Four')\n",
      "(55, 'Fifty Five')\n"
     ]
    }
   ],
   "source": [
    "for pair in zip(lst,lstNum):\n",
    "    print(pair)"
   ]
  },
  {
   "cell_type": "code",
   "execution_count": 45,
   "id": "ad290ff3-1df1-41bd-82bb-6602836303a9",
   "metadata": {},
   "outputs": [],
   "source": [
    "lst = [10,20,33,44,55,1,3,22,33,44,56,78,90,78,60,49,28,47,10,29,49,58,33,\n",
    "       57,34,56,33]"
   ]
  },
  {
   "cell_type": "code",
   "execution_count": 37,
   "id": "af183c41-b2de-4948-abf8-2cce966a7481",
   "metadata": {},
   "outputs": [],
   "source": [
    "a = list(\"Kushagra\")\n",
    "b = list(range(0,len(a)))"
   ]
  },
  {
   "cell_type": "code",
   "execution_count": 38,
   "id": "c95f6219-fde9-4bd4-879a-db9600d56166",
   "metadata": {},
   "outputs": [
    {
     "data": {
      "text/plain": [
       "['K', 'u', 's', 'h', 'a', 'g', 'r', 'a']"
      ]
     },
     "execution_count": 38,
     "metadata": {},
     "output_type": "execute_result"
    }
   ],
   "source": [
    "a"
   ]
  },
  {
   "cell_type": "code",
   "execution_count": 39,
   "id": "8eaf4622-35c6-4e7f-b816-2d5a397eb3d5",
   "metadata": {},
   "outputs": [
    {
     "data": {
      "text/plain": [
       "[0, 1, 2, 3, 4, 5, 6, 7]"
      ]
     },
     "execution_count": 39,
     "metadata": {},
     "output_type": "execute_result"
    }
   ],
   "source": [
    "b"
   ]
  },
  {
   "cell_type": "code",
   "execution_count": 40,
   "id": "b1f72547-a671-4b3e-9873-70cab1908244",
   "metadata": {},
   "outputs": [
    {
     "name": "stdout",
     "output_type": "stream",
     "text": [
      "('K', 0)\n",
      "('u', 1)\n",
      "('s', 2)\n",
      "('h', 3)\n",
      "('a', 4)\n",
      "('g', 5)\n",
      "('r', 6)\n",
      "('a', 7)\n"
     ]
    }
   ],
   "source": [
    "for pair in zip(a,b):\n",
    "    print(pair)"
   ]
  },
  {
   "cell_type": "code",
   "execution_count": 41,
   "id": "20c962a0-b1c0-47a1-9e84-0e3b6b2f0091",
   "metadata": {},
   "outputs": [],
   "source": [
    "a = [1,2,3,4]\n",
    "b = [11,12]"
   ]
  },
  {
   "cell_type": "code",
   "execution_count": 42,
   "id": "55ea719b-955c-4736-8c7c-bb3b62e9638c",
   "metadata": {},
   "outputs": [
    {
     "data": {
      "text/plain": [
       "[(1, 11), (2, 12)]"
      ]
     },
     "execution_count": 42,
     "metadata": {},
     "output_type": "execute_result"
    }
   ],
   "source": [
    "list(zip(a,b))"
   ]
  },
  {
   "cell_type": "code",
   "execution_count": 46,
   "id": "add21306-8ad1-43b6-aebf-4bcf5534c571",
   "metadata": {},
   "outputs": [
    {
     "name": "stdout",
     "output_type": "stream",
     "text": [
      "[10, 20, 33, 44, 55, 1, 3, 22, 33, 44, 56, 78, 90, 78, 60, 49, 28, 47, 10, 29, 49, 58, 33, 57, 34, 56, 33]\n"
     ]
    }
   ],
   "source": [
    "print(lst)"
   ]
  },
  {
   "cell_type": "markdown",
   "id": "78a09e67-f217-4340-a91e-b065e4260a92",
   "metadata": {},
   "source": [
    "### enumerate\n",
    "\n",
    "Using this function we can generate index of an item, enumerate starts from 0 by default."
   ]
  },
  {
   "cell_type": "code",
   "execution_count": 47,
   "id": "c28e56be-7b6c-4214-b87c-9b6520f6ab41",
   "metadata": {},
   "outputs": [
    {
     "name": "stdout",
     "output_type": "stream",
     "text": [
      "(0, 10) (1, 20) (2, 33) (3, 44) (4, 55) (5, 1) (6, 3) (7, 22) (8, 33) (9, 44) (10, 56) (11, 78) (12, 90) (13, 78) (14, 60) (15, 49) (16, 28) (17, 47) (18, 10) (19, 29) (20, 49) (21, 58) (22, 33) (23, 57) (24, 34) (25, 56) (26, 33) "
     ]
    }
   ],
   "source": [
    "for pair in enumerate(lst):\n",
    "    print(pair, end = \" \")"
   ]
  },
  {
   "cell_type": "code",
   "execution_count": 48,
   "id": "b1966044-b406-4792-a5d5-9514143a8ab4",
   "metadata": {},
   "outputs": [
    {
     "data": {
      "text/plain": [
       "56"
      ]
     },
     "execution_count": 48,
     "metadata": {},
     "output_type": "execute_result"
    }
   ],
   "source": [
    "lst[10]"
   ]
  },
  {
   "cell_type": "code",
   "execution_count": 49,
   "id": "04c2f036-0538-45fe-861f-d65850c8bec6",
   "metadata": {},
   "outputs": [
    {
     "data": {
      "text/plain": [
       "[(0, 'u'), (1, 'p'), (2, 'G'), (3, 'r'), (4, 'a'), (5, 'd')]"
      ]
     },
     "execution_count": 49,
     "metadata": {},
     "output_type": "execute_result"
    }
   ],
   "source": [
    "list(enumerate('upGrad'))"
   ]
  },
  {
   "cell_type": "code",
   "execution_count": 50,
   "id": "438e2eea-54f9-4843-962f-b17405f801b4",
   "metadata": {},
   "outputs": [
    {
     "name": "stdout",
     "output_type": "stream",
     "text": [
      "(2, 33) (8, 33) (22, 33) (26, 33) "
     ]
    }
   ],
   "source": [
    "for pair in enumerate(lst):\n",
    "    if pair[1] == 33:\n",
    "        print(pair, end = \" \")"
   ]
  },
  {
   "cell_type": "code",
   "execution_count": 51,
   "id": "81679f55-d5cd-420c-a833-2073049cad36",
   "metadata": {},
   "outputs": [
    {
     "data": {
      "text/plain": [
       "4"
      ]
     },
     "execution_count": 51,
     "metadata": {},
     "output_type": "execute_result"
    }
   ],
   "source": [
    "lst.count(33)"
   ]
  },
  {
   "cell_type": "code",
   "execution_count": 56,
   "id": "2adfe7d8-3178-4651-9e36-2085011fbfaa",
   "metadata": {},
   "outputs": [
    {
     "data": {
      "text/plain": [
       "33"
      ]
     },
     "execution_count": 56,
     "metadata": {},
     "output_type": "execute_result"
    }
   ],
   "source": [
    "lst[2]"
   ]
  },
  {
   "cell_type": "code",
   "execution_count": 57,
   "id": "5dcf538c-e977-463f-9284-36b6091b8082",
   "metadata": {},
   "outputs": [],
   "source": [
    "lst1 = [10, 20, 33, 44]"
   ]
  },
  {
   "cell_type": "code",
   "execution_count": 59,
   "id": "aa22dc46-0e11-429b-b50e-83181133dbe3",
   "metadata": {},
   "outputs": [
    {
     "name": "stdout",
     "output_type": "stream",
     "text": [
      "10\n",
      "20\n",
      "33\n",
      "44\n"
     ]
    }
   ],
   "source": [
    "for pair in enumerate(lst1):\n",
    "    print(pair[-1])"
   ]
  },
  {
   "cell_type": "code",
   "execution_count": 60,
   "id": "23a0bf0a-3853-42d6-a1a8-4eb9e75612ab",
   "metadata": {},
   "outputs": [
    {
     "name": "stdout",
     "output_type": "stream",
     "text": [
      "10\n",
      "20\n",
      "33\n",
      "44\n"
     ]
    }
   ],
   "source": [
    "for pair in enumerate(lst1):\n",
    "    print(pair[1])"
   ]
  },
  {
   "cell_type": "markdown",
   "id": "fa20d9ab-a8bd-4a07-81fe-d223233984bd",
   "metadata": {},
   "source": [
    "### break and continue with for loop"
   ]
  },
  {
   "cell_type": "code",
   "execution_count": 61,
   "id": "65c35f6b-3581-4161-bec5-4256bd36073a",
   "metadata": {},
   "outputs": [
    {
     "name": "stdout",
     "output_type": "stream",
     "text": [
      "[10, 20, 33, 44, 55, 1, 3, 22, 33, 44, 56, 78, 90, 78, 60, 49, 28, 47, 10, 29, 49, 58, 33, 57, 34, 56, 33]\n"
     ]
    }
   ],
   "source": [
    "print(lst)"
   ]
  },
  {
   "cell_type": "code",
   "execution_count": 75,
   "id": "209118e4-add4-4dd6-b40d-13f097d4a564",
   "metadata": {},
   "outputs": [
    {
     "name": "stdout",
     "output_type": "stream",
     "text": [
      "10 20 33 44 55 1 3 22 33 44 56 78 90 78 60 49 28 47 10 29 49 58 33 "
     ]
    }
   ],
   "source": [
    "i = 0\n",
    "for num in lst:\n",
    "    if num == 33:\n",
    "        print(num, end = \" \")\n",
    "        i = i + 1\n",
    "    else:\n",
    "        print(num, end = \" \")\n",
    "    if i >= 3:\n",
    "        break"
   ]
  },
  {
   "cell_type": "code",
   "execution_count": 65,
   "id": "64439057-c600-4cbf-8178-84e8c3cd1ffd",
   "metadata": {},
   "outputs": [
    {
     "name": "stdout",
     "output_type": "stream",
     "text": [
      "[10, 20, 33, 44, 55, 1, 3, 22, 33, 44, 56, 78, 90, 78, 60, 49, 28, 47, 10, 29, 49, 58, 33, 57, 34, 56, 33]\n"
     ]
    }
   ],
   "source": [
    "print(lst)"
   ]
  },
  {
   "cell_type": "code",
   "execution_count": null,
   "id": "4a9b2612-ca02-4251-baae-357ffb4c1d13",
   "metadata": {},
   "outputs": [],
   "source": []
  },
  {
   "cell_type": "code",
   "execution_count": 73,
   "id": "c5abc808-7b1b-4d79-bed4-88ed1f1ebf63",
   "metadata": {},
   "outputs": [
    {
     "name": "stdout",
     "output_type": "stream",
     "text": [
      "10 20 33 44 55 1 3 22 33 44 56 78 "
     ]
    }
   ],
   "source": [
    "# if your number is completely divisible by 16 then do not proceed\n",
    "for num in lst:\n",
    "    if num % 18 == 0:\n",
    "        break\n",
    "    else:\n",
    "        print(num, end = \" \")"
   ]
  },
  {
   "cell_type": "code",
   "execution_count": 74,
   "id": "0b8f11f7-e10c-4d03-8138-e63a2bc6252f",
   "metadata": {},
   "outputs": [
    {
     "name": "stdout",
     "output_type": "stream",
     "text": [
      "10 20 44 55 1 22 44 56 49 28 47 10 29 49 58 34 56 "
     ]
    }
   ],
   "source": [
    "# if number is divisible by 3 then skip that number\n",
    "for num in lst:\n",
    "    if num % 3 == 0:\n",
    "        continue\n",
    "    else:\n",
    "        print(num, end = \" \")"
   ]
  },
  {
   "cell_type": "markdown",
   "id": "2654ba9f-f863-4c58-98fc-7faffbf35fd7",
   "metadata": {},
   "source": [
    "### While Loop\n",
    "\n",
    "While loop basically work on based on the condition. If condition is evualted as True then ture part will be executed else False part will be executed."
   ]
  },
  {
   "cell_type": "markdown",
   "id": "7b3fda04-62fd-422c-b81a-a05002fa3c8d",
   "metadata": {},
   "source": [
    "### how to generate number from 1 to 10"
   ]
  },
  {
   "cell_type": "code",
   "execution_count": 76,
   "id": "ec64b4da-d0a7-4bdc-9c82-66eede387b89",
   "metadata": {},
   "outputs": [
    {
     "name": "stdout",
     "output_type": "stream",
     "text": [
      "1 2 3 4 5 6 7 8 9 10 "
     ]
    }
   ],
   "source": [
    "i = 1\n",
    "while i <= 10:\n",
    "    print(i, end = \" \")\n",
    "    i = i + 1"
   ]
  },
  {
   "cell_type": "code",
   "execution_count": 77,
   "id": "0c1c1202-3412-4b68-831d-2ed6a2222f92",
   "metadata": {},
   "outputs": [
    {
     "name": "stdout",
     "output_type": "stream",
     "text": [
      "10 9 8 7 6 5 4 3 2 1 "
     ]
    }
   ],
   "source": [
    "i = 10\n",
    "while i >= 1:\n",
    "    print(i, end = \" \")\n",
    "    i = i - 1"
   ]
  },
  {
   "cell_type": "code",
   "execution_count": 78,
   "id": "0cd6a2a5-42b8-48e1-8fce-26f047945560",
   "metadata": {},
   "outputs": [],
   "source": [
    "lst = [1,2,3,4,1,2,3,2]"
   ]
  },
  {
   "cell_type": "code",
   "execution_count": 82,
   "id": "e6b33355-73c7-4a46-bf77-74e7be52fe3d",
   "metadata": {},
   "outputs": [
    {
     "name": "stdout",
     "output_type": "stream",
     "text": [
      "1\n",
      "2\n",
      "6\n",
      "24\n",
      "24\n",
      "48\n",
      "144\n",
      "288\n",
      "Final Product: 288\n"
     ]
    }
   ],
   "source": [
    "prod = 1\n",
    "i = 0\n",
    "while i < len(lst):\n",
    "    prod = prod * lst[i]\n",
    "    print(prod)\n",
    "    i = i + 1\n",
    "print(f\"Final Product: {prod}\")"
   ]
  },
  {
   "cell_type": "markdown",
   "id": "14554982-257f-4def-bec9-23658bf886b6",
   "metadata": {},
   "source": [
    "### Developing a Game using Python While Loop:\n",
    "\n",
    "https://www.youtube.com/watch?v=VauAiVixICU&list=PLWuFHho1zKhWb-f-SJAMUCK--f8PJlG46&index=25"
   ]
  },
  {
   "cell_type": "code",
   "execution_count": 83,
   "id": "d854aa17-1275-4465-853b-3fd6c0e2eadd",
   "metadata": {},
   "outputs": [
    {
     "name": "stdout",
     "output_type": "stream",
     "text": [
      "1\n",
      "2\n",
      "3\n",
      "4\n",
      "5\n",
      "6\n",
      "7\n",
      "8\n",
      "9\n",
      "10\n",
      "11\n",
      "12\n",
      "13\n",
      "14\n",
      "15\n",
      "16\n",
      "17\n",
      "18\n",
      "19\n"
     ]
    }
   ],
   "source": [
    "i = 1\n",
    "while i <= 100:\n",
    "    if i == 20:\n",
    "        break\n",
    "    else:\n",
    "        print(i)\n",
    "        i = i + 1\n",
    "\n",
    "    "
   ]
  },
  {
   "cell_type": "code",
   "execution_count": 84,
   "id": "3add07e6-6b63-414d-a0a5-2b853622fa7d",
   "metadata": {},
   "outputs": [
    {
     "name": "stdout",
     "output_type": "stream",
     "text": [
      "1 2 3 4 5 6 7 8 9 "
     ]
    },
    {
     "ename": "KeyboardInterrupt",
     "evalue": "",
     "output_type": "error",
     "traceback": [
      "\u001b[31m---------------------------------------------------------------------------\u001b[39m",
      "\u001b[31mKeyboardInterrupt\u001b[39m                         Traceback (most recent call last)",
      "\u001b[36mCell\u001b[39m\u001b[36m \u001b[39m\u001b[32mIn[84]\u001b[39m\u001b[32m, line 4\u001b[39m\n\u001b[32m      2\u001b[39m \u001b[38;5;28;01mwhile\u001b[39;00m i <= \u001b[32m100\u001b[39m:\n\u001b[32m      3\u001b[39m     \u001b[38;5;28;01mif\u001b[39;00m i % \u001b[32m10\u001b[39m ==\u001b[32m0\u001b[39m:\n\u001b[32m----> \u001b[39m\u001b[32m4\u001b[39m         \u001b[38;5;28;01mcontinue\u001b[39;00m\n\u001b[32m      5\u001b[39m     \u001b[38;5;28;01melse\u001b[39;00m:\n\u001b[32m      6\u001b[39m         \u001b[38;5;28mprint\u001b[39m(i, end = \u001b[33m\"\u001b[39m\u001b[33m \u001b[39m\u001b[33m\"\u001b[39m)\n",
      "\u001b[31mKeyboardInterrupt\u001b[39m: "
     ]
    }
   ],
   "source": [
    "i = 1\n",
    "while i <= 100:\n",
    "    if i % 10 ==0:\n",
    "        continue\n",
    "    else:\n",
    "        print(i, end = \" \")\n",
    "        i = i + 1\n",
    "\n",
    "    "
   ]
  },
  {
   "cell_type": "markdown",
   "id": "03e72db6-0d22-42fa-bbec-107090465cb5",
   "metadata": {},
   "source": [
    "### Examples of Break and Continue in While loop\n"
   ]
  },
  {
   "cell_type": "code",
   "execution_count": null,
   "id": "e60e8d15-c524-47e4-87bc-de879252c2a9",
   "metadata": {},
   "outputs": [],
   "source": []
  }
 ],
 "metadata": {
  "kernelspec": {
   "display_name": "Python 3 (ipykernel)",
   "language": "python",
   "name": "python3"
  },
  "language_info": {
   "codemirror_mode": {
    "name": "ipython",
    "version": 3
   },
   "file_extension": ".py",
   "mimetype": "text/x-python",
   "name": "python",
   "nbconvert_exporter": "python",
   "pygments_lexer": "ipython3",
   "version": "3.13.2"
  }
 },
 "nbformat": 4,
 "nbformat_minor": 5
}
