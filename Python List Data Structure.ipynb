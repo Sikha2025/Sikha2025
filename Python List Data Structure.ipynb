{
 "cells": [
  {
   "cell_type": "markdown",
   "id": "0fd4e93b-eaba-463d-99f8-392e355657ff",
   "metadata": {},
   "source": [
    "### Python Data Structure:\n",
    "\n",
    "* List\n",
    "* Tuple\n",
    "* Set\n",
    "* Dict"
   ]
  },
  {
   "cell_type": "markdown",
   "id": "4cbe9cf3-9ca3-4e97-a5fa-3efc8188a395",
   "metadata": {},
   "source": [
    "### Rules and Guidelines of List Data Structure:\n",
    "\n",
    "* List is a sequential data structure in Python\n",
    "* List is represented by long bracket []\n",
    "* List is a mutable data structure\n",
    "* List is a indexable data structure\n",
    "* List can be created using list function or []\n",
    "* Each item within the list is separated by comma.\n",
    "* List can store any kind of information."
   ]
  },
  {
   "cell_type": "code",
   "execution_count": 3,
   "id": "bf06b338-3d99-408a-bb15-884173e5dc03",
   "metadata": {},
   "outputs": [
    {
     "data": {
      "text/plain": [
       "list"
      ]
     },
     "execution_count": 3,
     "metadata": {},
     "output_type": "execute_result"
    }
   ],
   "source": [
    "lst = []\n",
    "type(lst)"
   ]
  },
  {
   "cell_type": "code",
   "execution_count": 5,
   "id": "d3eff1a0-c42e-44ea-a7bd-a1e04080d474",
   "metadata": {},
   "outputs": [
    {
     "data": {
      "text/plain": [
       "[]"
      ]
     },
     "execution_count": 5,
     "metadata": {},
     "output_type": "execute_result"
    }
   ],
   "source": [
    "lst = list()\n",
    "lst"
   ]
  },
  {
   "cell_type": "code",
   "execution_count": 7,
   "id": "971b61d4-356c-4d65-9546-e5e6e6b7b061",
   "metadata": {},
   "outputs": [
    {
     "data": {
      "text/plain": [
       "list"
      ]
     },
     "execution_count": 7,
     "metadata": {},
     "output_type": "execute_result"
    }
   ],
   "source": [
    "type(lst)"
   ]
  },
  {
   "cell_type": "code",
   "execution_count": 10,
   "id": "10f576ff-f341-4337-85b7-c7edfbc99e67",
   "metadata": {},
   "outputs": [
    {
     "data": {
      "text/plain": [
       "[1, 2, 3, 4, 5]"
      ]
     },
     "execution_count": 10,
     "metadata": {},
     "output_type": "execute_result"
    }
   ],
   "source": [
    "lst = [1,2,3,4,5]\n",
    "lst"
   ]
  },
  {
   "cell_type": "code",
   "execution_count": 12,
   "id": "654f6b62-fe7f-420d-9a11-c3b44b8f0ed5",
   "metadata": {},
   "outputs": [
    {
     "data": {
      "text/plain": [
       "['A', 'B', 'C', 'D']"
      ]
     },
     "execution_count": 12,
     "metadata": {},
     "output_type": "execute_result"
    }
   ],
   "source": [
    "lst1 = ['A','B','C','D']\n",
    "lst1"
   ]
  },
  {
   "cell_type": "code",
   "execution_count": 14,
   "id": "fa94ecec-f62f-4625-86a6-a95a9ff0e7e9",
   "metadata": {},
   "outputs": [],
   "source": [
    "mixLst = [1,2,3,4,'A','B','a',10.34,56,True,False,[12,34,56,78,89]]"
   ]
  },
  {
   "cell_type": "code",
   "execution_count": 16,
   "id": "f17efd52-f767-4c58-975b-43b65564626d",
   "metadata": {},
   "outputs": [
    {
     "data": {
      "text/plain": [
       "[1, 2, 3, 4, 'A', 'B', 'a', 10.34, 56, True, False, [12, 34, 56, 78, 89]]"
      ]
     },
     "execution_count": 16,
     "metadata": {},
     "output_type": "execute_result"
    }
   ],
   "source": [
    "mixLst"
   ]
  },
  {
   "cell_type": "code",
   "execution_count": 18,
   "id": "f8248e69-82d4-4968-bc95-079d33df46e5",
   "metadata": {},
   "outputs": [
    {
     "data": {
      "text/plain": [
       "['A', 'b', 'h', 'i', 's', 'h', 'e', 'a', 'k']"
      ]
     },
     "execution_count": 18,
     "metadata": {},
     "output_type": "execute_result"
    }
   ],
   "source": [
    "list(\"Abhisheak\")"
   ]
  },
  {
   "cell_type": "code",
   "execution_count": 20,
   "id": "e22c987d-8024-45b1-bc7c-389c932e8cb2",
   "metadata": {},
   "outputs": [],
   "source": [
    "lst = [12,56,'A',56]"
   ]
  },
  {
   "cell_type": "code",
   "execution_count": 22,
   "id": "ce7b5a82-10ef-413d-a607-dccac40e7dfe",
   "metadata": {},
   "outputs": [
    {
     "data": {
      "text/plain": [
       "[12, 56, 'A', 56]"
      ]
     },
     "execution_count": 22,
     "metadata": {},
     "output_type": "execute_result"
    }
   ],
   "source": [
    "lst"
   ]
  },
  {
   "cell_type": "code",
   "execution_count": 24,
   "id": "8baca25a-1457-4e91-921d-a63ba97ad5b5",
   "metadata": {},
   "outputs": [],
   "source": [
    "# how can I add an item into the list"
   ]
  },
  {
   "cell_type": "markdown",
   "id": "bc210e56-7f9f-4800-b9a9-76c85cce392b",
   "metadata": {},
   "source": [
    "### Append\n",
    "\n",
    "Using this function we can append an item at the end of the list."
   ]
  },
  {
   "cell_type": "code",
   "execution_count": 27,
   "id": "73c6c708-2973-4243-ab74-0b200149b206",
   "metadata": {},
   "outputs": [],
   "source": [
    "lst.append(\"Som\")"
   ]
  },
  {
   "cell_type": "code",
   "execution_count": 29,
   "id": "4d61534c-bf20-4e11-9c6c-5c5e2f0dc327",
   "metadata": {},
   "outputs": [
    {
     "data": {
      "text/plain": [
       "[12, 56, 'A', 56, 'Som']"
      ]
     },
     "execution_count": 29,
     "metadata": {},
     "output_type": "execute_result"
    }
   ],
   "source": [
    "lst"
   ]
  },
  {
   "cell_type": "code",
   "execution_count": 31,
   "id": "e0692221-c2c0-4151-bc64-02bf4e223aff",
   "metadata": {},
   "outputs": [],
   "source": [
    "newlst = [\"Modi\",\"Trump\"]"
   ]
  },
  {
   "cell_type": "code",
   "execution_count": 35,
   "id": "cba6ecfd-60be-49e3-b88a-b32a0ee260e7",
   "metadata": {},
   "outputs": [],
   "source": [
    "lst.append(newlst)"
   ]
  },
  {
   "cell_type": "code",
   "execution_count": 37,
   "id": "7a02bff1-960f-431f-ba70-3d72b7a78c67",
   "metadata": {},
   "outputs": [
    {
     "data": {
      "text/plain": [
       "[12, 56, 'A', 56, 'Som', ['Modi', 'Trump']]"
      ]
     },
     "execution_count": 37,
     "metadata": {},
     "output_type": "execute_result"
    }
   ],
   "source": [
    "lst"
   ]
  },
  {
   "cell_type": "code",
   "execution_count": 39,
   "id": "01a93cc0-35a9-40e8-b035-20780dcaba49",
   "metadata": {},
   "outputs": [],
   "source": [
    "lst1 = [12, 56, 'A', 56]"
   ]
  },
  {
   "cell_type": "code",
   "execution_count": 41,
   "id": "6edb49ef-1825-4ba9-8f06-525995fcca6b",
   "metadata": {},
   "outputs": [
    {
     "data": {
      "text/plain": [
       "['Modi', 'Trump']"
      ]
     },
     "execution_count": 41,
     "metadata": {},
     "output_type": "execute_result"
    }
   ],
   "source": [
    "newlst"
   ]
  },
  {
   "cell_type": "markdown",
   "id": "e3e3dd9c-23d7-4fe4-b2a8-70c886998244",
   "metadata": {},
   "source": [
    "### Extend\n",
    "\n",
    "Using this function we can extend our existing list. Extend function always take iterables."
   ]
  },
  {
   "cell_type": "code",
   "execution_count": 44,
   "id": "ecf07349-433a-4699-8949-eda574eb7b6a",
   "metadata": {},
   "outputs": [],
   "source": [
    "lst1.extend(newlst)"
   ]
  },
  {
   "cell_type": "code",
   "execution_count": 46,
   "id": "1167f0af-7130-46e5-a3f1-23b094f56c69",
   "metadata": {},
   "outputs": [
    {
     "data": {
      "text/plain": [
       "[12, 56, 'A', 56, 'Modi', 'Trump']"
      ]
     },
     "execution_count": 46,
     "metadata": {},
     "output_type": "execute_result"
    }
   ],
   "source": [
    "lst1"
   ]
  },
  {
   "cell_type": "code",
   "execution_count": 48,
   "id": "62ce3767-c0ec-4413-81ac-f0e83e649c9d",
   "metadata": {},
   "outputs": [],
   "source": [
    "# can you add 100 using extend"
   ]
  },
  {
   "cell_type": "code",
   "execution_count": 50,
   "id": "e4929a28-f67e-4783-8c87-7240f4a1a16d",
   "metadata": {},
   "outputs": [
    {
     "ename": "TypeError",
     "evalue": "'int' object is not iterable",
     "output_type": "error",
     "traceback": [
      "\u001b[0;31m---------------------------------------------------------------------------\u001b[0m",
      "\u001b[0;31mTypeError\u001b[0m                                 Traceback (most recent call last)",
      "Cell \u001b[0;32mIn[50], line 1\u001b[0m\n\u001b[0;32m----> 1\u001b[0m lst1\u001b[38;5;241m.\u001b[39mextend(\u001b[38;5;241m100\u001b[39m)\n",
      "\u001b[0;31mTypeError\u001b[0m: 'int' object is not iterable"
     ]
    }
   ],
   "source": [
    "lst1.extend(100)"
   ]
  },
  {
   "cell_type": "code",
   "execution_count": 52,
   "id": "bc5fdf3e-08df-4383-9326-a6cea336266a",
   "metadata": {},
   "outputs": [],
   "source": [
    "lst1.extend([100])"
   ]
  },
  {
   "cell_type": "code",
   "execution_count": 56,
   "id": "15479518-0505-4dd9-a20a-ab6ee7fc8543",
   "metadata": {},
   "outputs": [
    {
     "data": {
      "text/plain": [
       "[12, 56, 'A', 56, 'Modi', 'Trump', 100]"
      ]
     },
     "execution_count": 56,
     "metadata": {},
     "output_type": "execute_result"
    }
   ],
   "source": [
    "lst1"
   ]
  },
  {
   "cell_type": "code",
   "execution_count": 58,
   "id": "7dffb52a-71d3-4706-9e69-51adc4bf2bc7",
   "metadata": {},
   "outputs": [],
   "source": [
    "lst1.extend(\"100\")"
   ]
  },
  {
   "cell_type": "code",
   "execution_count": 60,
   "id": "157e846e-0b9c-4d7b-a350-23b7e82dcca0",
   "metadata": {},
   "outputs": [
    {
     "data": {
      "text/plain": [
       "[12, 56, 'A', 56, 'Modi', 'Trump', 100, '1', '0', '0']"
      ]
     },
     "execution_count": 60,
     "metadata": {},
     "output_type": "execute_result"
    }
   ],
   "source": [
    "lst1"
   ]
  },
  {
   "cell_type": "code",
   "execution_count": 62,
   "id": "0796b80c-0ce9-4969-8dcd-05a6e1b1dd65",
   "metadata": {},
   "outputs": [],
   "source": [
    "lst1.extend('100')"
   ]
  },
  {
   "cell_type": "code",
   "execution_count": 64,
   "id": "cac3b2ae-555a-4fe5-a113-9a64f077920f",
   "metadata": {},
   "outputs": [
    {
     "data": {
      "text/plain": [
       "[12, 56, 'A', 56, 'Modi', 'Trump', 100, '1', '0', '0', '1', '0', '0']"
      ]
     },
     "execution_count": 64,
     "metadata": {},
     "output_type": "execute_result"
    }
   ],
   "source": [
    "lst1"
   ]
  },
  {
   "cell_type": "code",
   "execution_count": 67,
   "id": "2d638416-c30d-4f2b-8d05-36af4f3f383c",
   "metadata": {},
   "outputs": [],
   "source": [
    "# slicihng"
   ]
  },
  {
   "cell_type": "code",
   "execution_count": 69,
   "id": "7941ddd7-412c-4f8b-b40a-be7658a04e6b",
   "metadata": {},
   "outputs": [
    {
     "data": {
      "text/plain": [
       "['1', '0', '0']"
      ]
     },
     "execution_count": 69,
     "metadata": {},
     "output_type": "execute_result"
    }
   ],
   "source": [
    "lst1[-3:]"
   ]
  },
  {
   "cell_type": "code",
   "execution_count": 71,
   "id": "653756df-0af3-4f29-b862-ccbcbdf0dff7",
   "metadata": {},
   "outputs": [
    {
     "data": {
      "text/plain": [
       "'Modi'"
      ]
     },
     "execution_count": 71,
     "metadata": {},
     "output_type": "execute_result"
    }
   ],
   "source": [
    "lst1[4]"
   ]
  },
  {
   "cell_type": "markdown",
   "id": "e988227c-5351-48f9-baa6-1a16005488b0",
   "metadata": {},
   "source": [
    "### Index"
   ]
  },
  {
   "cell_type": "code",
   "execution_count": 73,
   "id": "666de2f5-9ebb-40f4-aeb4-cd485756e9e4",
   "metadata": {},
   "outputs": [
    {
     "data": {
      "text/plain": [
       "[12, 56, 'A', 56, 'Modi', 'Trump', 100, '1', '0', '0', '1', '0', '0']"
      ]
     },
     "execution_count": 73,
     "metadata": {},
     "output_type": "execute_result"
    }
   ],
   "source": [
    "lst1"
   ]
  },
  {
   "cell_type": "code",
   "execution_count": 75,
   "id": "c2c1ed8d-eca6-4e10-ba91-df9048657104",
   "metadata": {},
   "outputs": [
    {
     "data": {
      "text/plain": [
       "1"
      ]
     },
     "execution_count": 75,
     "metadata": {},
     "output_type": "execute_result"
    }
   ],
   "source": [
    "lst1.index(56)"
   ]
  },
  {
   "cell_type": "code",
   "execution_count": 77,
   "id": "4d252eb5-a290-4d5a-88d2-98aaa8d1593b",
   "metadata": {},
   "outputs": [
    {
     "data": {
      "text/plain": [
       "3"
      ]
     },
     "execution_count": 77,
     "metadata": {},
     "output_type": "execute_result"
    }
   ],
   "source": [
    "lst1.index(56,2)"
   ]
  },
  {
   "cell_type": "code",
   "execution_count": 79,
   "id": "477f8c33-bb85-4eaf-911e-f6b570f0f3d7",
   "metadata": {},
   "outputs": [],
   "source": [
    "lst1.append(56)"
   ]
  },
  {
   "cell_type": "code",
   "execution_count": 81,
   "id": "f5e8a4f6-3d5a-42d6-9c58-a314e5e43ae9",
   "metadata": {},
   "outputs": [
    {
     "data": {
      "text/plain": [
       "[12, 56, 'A', 56, 'Modi', 'Trump', 100, '1', '0', '0', '1', '0', '0', 56]"
      ]
     },
     "execution_count": 81,
     "metadata": {},
     "output_type": "execute_result"
    }
   ],
   "source": [
    "lst1"
   ]
  },
  {
   "cell_type": "code",
   "execution_count": 83,
   "id": "efdcb5be-e71e-4774-b3bb-00f77b9a67d0",
   "metadata": {},
   "outputs": [
    {
     "data": {
      "text/plain": [
       "13"
      ]
     },
     "execution_count": 83,
     "metadata": {},
     "output_type": "execute_result"
    }
   ],
   "source": [
    "lst1.index(56,4)"
   ]
  },
  {
   "cell_type": "code",
   "execution_count": 89,
   "id": "f7b10ee1-dac5-42cb-9248-5f12fcae4256",
   "metadata": {},
   "outputs": [],
   "source": [
    "name = list(\"abhisheakUpgrad\")"
   ]
  },
  {
   "cell_type": "code",
   "execution_count": 93,
   "id": "e564667b-534b-4b14-b7e4-7c0a48de89d8",
   "metadata": {},
   "outputs": [
    {
     "name": "stdout",
     "output_type": "stream",
     "text": [
      "['a', 'b', 'h', 'i', 's', 'h', 'e', 'a', 'k', 'U', 'p', 'g', 'r', 'a', 'd']\n"
     ]
    }
   ],
   "source": [
    "print(name)"
   ]
  },
  {
   "cell_type": "code",
   "execution_count": 101,
   "id": "d03c88dd-c5ce-4037-aab8-72ebede5431a",
   "metadata": {},
   "outputs": [],
   "source": [
    "st = \"abhisheakUpgrad\""
   ]
  },
  {
   "cell_type": "code",
   "execution_count": 103,
   "id": "cca78528-f9e1-4624-8eed-11bee574777a",
   "metadata": {},
   "outputs": [
    {
     "data": {
      "text/plain": [
       "0"
      ]
     },
     "execution_count": 103,
     "metadata": {},
     "output_type": "execute_result"
    }
   ],
   "source": [
    "st.index(\"a\")"
   ]
  },
  {
   "cell_type": "code",
   "execution_count": 107,
   "id": "021ce458-6cce-48a3-bac3-0845b38cbfc9",
   "metadata": {},
   "outputs": [
    {
     "data": {
      "text/plain": [
       "7"
      ]
     },
     "execution_count": 107,
     "metadata": {},
     "output_type": "execute_result"
    }
   ],
   "source": [
    "st.index(\"a\",st.index(\"a\")+1)"
   ]
  },
  {
   "cell_type": "code",
   "execution_count": 109,
   "id": "eaac37d0-d982-4c43-9ba3-1b8c9fd7e63c",
   "metadata": {},
   "outputs": [
    {
     "data": {
      "text/plain": [
       "7"
      ]
     },
     "execution_count": 109,
     "metadata": {},
     "output_type": "execute_result"
    }
   ],
   "source": [
    "name.index(\"a\",name.index(\"a\")+1)"
   ]
  },
  {
   "cell_type": "code",
   "execution_count": 111,
   "id": "9e039820-fcf1-4528-92b9-2dcf1607f58a",
   "metadata": {},
   "outputs": [
    {
     "data": {
      "text/plain": [
       "str"
      ]
     },
     "execution_count": 111,
     "metadata": {},
     "output_type": "execute_result"
    }
   ],
   "source": [
    "type(st)"
   ]
  },
  {
   "cell_type": "code",
   "execution_count": 113,
   "id": "c447c80c-dd52-4347-8776-77bb4a49e702",
   "metadata": {},
   "outputs": [
    {
     "data": {
      "text/plain": [
       "list"
      ]
     },
     "execution_count": 113,
     "metadata": {},
     "output_type": "execute_result"
    }
   ],
   "source": [
    "type(name)"
   ]
  },
  {
   "cell_type": "code",
   "execution_count": 115,
   "id": "f6f4a33f-4f63-4963-bd1c-14e9934ac726",
   "metadata": {},
   "outputs": [
    {
     "data": {
      "text/plain": [
       "[12, 56, 'A', 56, 'Som', ['Modi', 'Trump']]"
      ]
     },
     "execution_count": 115,
     "metadata": {},
     "output_type": "execute_result"
    }
   ],
   "source": [
    "lst"
   ]
  },
  {
   "cell_type": "code",
   "execution_count": 117,
   "id": "f604155d-ff29-4323-af17-3ca7d9b1ef1e",
   "metadata": {},
   "outputs": [
    {
     "data": {
      "text/plain": [
       "4"
      ]
     },
     "execution_count": 117,
     "metadata": {},
     "output_type": "execute_result"
    }
   ],
   "source": [
    "lst.index(\"Som\")"
   ]
  },
  {
   "cell_type": "code",
   "execution_count": 119,
   "id": "f9b6b4c1-0ac3-4369-8975-46909f57ccd6",
   "metadata": {},
   "outputs": [],
   "source": [
    "# insert\n",
    "\n",
    "# Using this function we can insert an item based on the index"
   ]
  },
  {
   "cell_type": "code",
   "execution_count": 121,
   "id": "0e974571-1dc2-4ef2-a4cc-99b222299836",
   "metadata": {},
   "outputs": [],
   "source": [
    "lst.insert(4,\"Abhisheak\") # at the 4th index your name will be inserted"
   ]
  },
  {
   "cell_type": "code",
   "execution_count": 123,
   "id": "d6ebe6ad-951c-445d-a63b-6fb89e4da3a7",
   "metadata": {},
   "outputs": [
    {
     "data": {
      "text/plain": [
       "[12, 56, 'A', 56, 'Abhisheak', 'Som', ['Modi', 'Trump']]"
      ]
     },
     "execution_count": 123,
     "metadata": {},
     "output_type": "execute_result"
    }
   ],
   "source": [
    "lst"
   ]
  },
  {
   "cell_type": "code",
   "execution_count": 125,
   "id": "800a7b12-f2b1-4c50-8333-e85674fea52f",
   "metadata": {},
   "outputs": [],
   "source": [
    "lst.insert(lst.index(\"Som\")+1,'upGrad')"
   ]
  },
  {
   "cell_type": "code",
   "execution_count": 127,
   "id": "ba04705e-3ac4-4762-8fa9-9f43ebc2ffc3",
   "metadata": {},
   "outputs": [
    {
     "data": {
      "text/plain": [
       "[12, 56, 'A', 56, 'Abhisheak', 'Som', 'upGrad', ['Modi', 'Trump']]"
      ]
     },
     "execution_count": 127,
     "metadata": {},
     "output_type": "execute_result"
    }
   ],
   "source": [
    "lst"
   ]
  },
  {
   "cell_type": "code",
   "execution_count": 129,
   "id": "f3f36344-0140-4123-828f-87b83037af18",
   "metadata": {},
   "outputs": [],
   "source": [
    "lst.insert(0,'A')"
   ]
  },
  {
   "cell_type": "code",
   "execution_count": 131,
   "id": "47e34de2-5891-4ac4-aa90-40712e907604",
   "metadata": {},
   "outputs": [
    {
     "data": {
      "text/plain": [
       "['A', 12, 56, 'A', 56, 'Abhisheak', 'Som', 'upGrad', ['Modi', 'Trump']]"
      ]
     },
     "execution_count": 131,
     "metadata": {},
     "output_type": "execute_result"
    }
   ],
   "source": [
    "lst"
   ]
  },
  {
   "cell_type": "code",
   "execution_count": 133,
   "id": "c71744eb-8b30-4e65-9b5c-6cad4925ab83",
   "metadata": {},
   "outputs": [],
   "source": [
    "# count"
   ]
  },
  {
   "cell_type": "code",
   "execution_count": 135,
   "id": "d65f3a63-8205-4a1b-81f1-ab7714e4f2c8",
   "metadata": {},
   "outputs": [
    {
     "data": {
      "text/plain": [
       "2"
      ]
     },
     "execution_count": 135,
     "metadata": {},
     "output_type": "execute_result"
    }
   ],
   "source": [
    "lst.count(\"A\")"
   ]
  },
  {
   "cell_type": "markdown",
   "id": "1e8ce208-5307-482d-88d6-8d65022cce4e",
   "metadata": {},
   "source": [
    "### pop and remove function\n",
    "\n",
    "* Pop: Using this function we can popped the item based on the item's index, by default this function popped the last element from the list and returned."
   ]
  },
  {
   "cell_type": "code",
   "execution_count": 138,
   "id": "3b1ac401-817b-4199-8a5a-00b2c3500840",
   "metadata": {},
   "outputs": [
    {
     "data": {
      "text/plain": [
       "['A', 12, 56, 'A', 56, 'Abhisheak', 'Som', 'upGrad', ['Modi', 'Trump']]"
      ]
     },
     "execution_count": 138,
     "metadata": {},
     "output_type": "execute_result"
    }
   ],
   "source": [
    "lst"
   ]
  },
  {
   "cell_type": "code",
   "execution_count": 140,
   "id": "dc57a5f0-0122-40fa-945d-7f20203d5651",
   "metadata": {},
   "outputs": [
    {
     "data": {
      "text/plain": [
       "6"
      ]
     },
     "execution_count": 140,
     "metadata": {},
     "output_type": "execute_result"
    }
   ],
   "source": [
    "lst.index(\"Som\")"
   ]
  },
  {
   "cell_type": "code",
   "execution_count": 142,
   "id": "7e02c7d8-acb7-451e-b6d0-d60e30d89732",
   "metadata": {},
   "outputs": [
    {
     "data": {
      "text/plain": [
       "'Som'"
      ]
     },
     "execution_count": 142,
     "metadata": {},
     "output_type": "execute_result"
    }
   ],
   "source": [
    "lst.pop(lst.index(\"Som\"))"
   ]
  },
  {
   "cell_type": "code",
   "execution_count": 144,
   "id": "52bc9c5a-d9a3-4d4d-9613-9005c4fefec6",
   "metadata": {},
   "outputs": [
    {
     "data": {
      "text/plain": [
       "['A', 12, 56, 'A', 56, 'Abhisheak', 'upGrad', ['Modi', 'Trump']]"
      ]
     },
     "execution_count": 144,
     "metadata": {},
     "output_type": "execute_result"
    }
   ],
   "source": [
    "lst"
   ]
  },
  {
   "cell_type": "code",
   "execution_count": 146,
   "id": "8cdd9c8b-a1ad-42ce-8e45-1b9844cccbc4",
   "metadata": {},
   "outputs": [
    {
     "data": {
      "text/plain": [
       "['Modi', 'Trump']"
      ]
     },
     "execution_count": 146,
     "metadata": {},
     "output_type": "execute_result"
    }
   ],
   "source": [
    "lst.pop()"
   ]
  },
  {
   "cell_type": "code",
   "execution_count": 148,
   "id": "1cbf2f1b-34cb-421e-92ff-62edf3357421",
   "metadata": {},
   "outputs": [
    {
     "data": {
      "text/plain": [
       "['A', 12, 56, 'A', 56, 'Abhisheak', 'upGrad']"
      ]
     },
     "execution_count": 148,
     "metadata": {},
     "output_type": "execute_result"
    }
   ],
   "source": [
    "lst"
   ]
  },
  {
   "cell_type": "code",
   "execution_count": 150,
   "id": "2aea6251-bb37-4c1d-a63d-ec0768b9f9eb",
   "metadata": {},
   "outputs": [
    {
     "data": {
      "text/plain": [
       "'Abhisheak'"
      ]
     },
     "execution_count": 150,
     "metadata": {},
     "output_type": "execute_result"
    }
   ],
   "source": [
    "lst.pop(-2)"
   ]
  },
  {
   "cell_type": "code",
   "execution_count": 152,
   "id": "88100967-c845-4fdd-941a-394ea18b8265",
   "metadata": {},
   "outputs": [
    {
     "data": {
      "text/plain": [
       "['A', 12, 56, 'A', 56, 'upGrad']"
      ]
     },
     "execution_count": 152,
     "metadata": {},
     "output_type": "execute_result"
    }
   ],
   "source": [
    "lst"
   ]
  },
  {
   "cell_type": "markdown",
   "id": "67d703e1-38a9-4fb3-94da-1663be77ffb9",
   "metadata": {},
   "source": [
    "### Remove\n",
    "\n",
    "Using this function we can removed an item based on item's name, but remove function does not return anything like pop.\n",
    "\n",
    "Remove functions works based on first occurence of an item."
   ]
  },
  {
   "cell_type": "code",
   "execution_count": 156,
   "id": "c429b894-30cf-437b-b913-37c672bb7710",
   "metadata": {},
   "outputs": [],
   "source": [
    "lst.remove(\"A\")"
   ]
  },
  {
   "cell_type": "code",
   "execution_count": 158,
   "id": "7aaad7cc-cca8-4e34-9f47-ca5a91b30d2a",
   "metadata": {},
   "outputs": [
    {
     "data": {
      "text/plain": [
       "[12, 56, 'A', 56, 'upGrad']"
      ]
     },
     "execution_count": 158,
     "metadata": {},
     "output_type": "execute_result"
    }
   ],
   "source": [
    "lst"
   ]
  },
  {
   "cell_type": "code",
   "execution_count": 160,
   "id": "3e8f09aa-db4e-4e9c-ba78-400e5c7464b2",
   "metadata": {},
   "outputs": [],
   "source": [
    "lst.remove(\"upGrad\")"
   ]
  },
  {
   "cell_type": "code",
   "execution_count": 162,
   "id": "f7e4d2af-5d5e-45e8-9dbe-60854d9164ec",
   "metadata": {},
   "outputs": [
    {
     "data": {
      "text/plain": [
       "[12, 56, 'A', 56]"
      ]
     },
     "execution_count": 162,
     "metadata": {},
     "output_type": "execute_result"
    }
   ],
   "source": [
    "lst"
   ]
  },
  {
   "cell_type": "code",
   "execution_count": 164,
   "id": "9d71891b-d425-48c8-8aeb-03a81bd48745",
   "metadata": {},
   "outputs": [
    {
     "ename": "ValueError",
     "evalue": "list.remove(x): x not in list",
     "output_type": "error",
     "traceback": [
      "\u001b[0;31m---------------------------------------------------------------------------\u001b[0m",
      "\u001b[0;31mValueError\u001b[0m                                Traceback (most recent call last)",
      "Cell \u001b[0;32mIn[164], line 1\u001b[0m\n\u001b[0;32m----> 1\u001b[0m lst\u001b[38;5;241m.\u001b[39mremove(\u001b[38;5;124m\"\u001b[39m\u001b[38;5;124mJocinda\u001b[39m\u001b[38;5;124m\"\u001b[39m)\n",
      "\u001b[0;31mValueError\u001b[0m: list.remove(x): x not in list"
     ]
    }
   ],
   "source": [
    "lst.remove(\"Jocinda\")"
   ]
  },
  {
   "cell_type": "code",
   "execution_count": 166,
   "id": "38644f4f-ef5d-46a1-a11c-26ed29021efc",
   "metadata": {},
   "outputs": [],
   "source": [
    "lst.remove(56)"
   ]
  },
  {
   "cell_type": "code",
   "execution_count": 168,
   "id": "5cd755a8-1a46-4917-be66-8d06764f8c99",
   "metadata": {},
   "outputs": [
    {
     "data": {
      "text/plain": [
       "[12, 'A', 56]"
      ]
     },
     "execution_count": 168,
     "metadata": {},
     "output_type": "execute_result"
    }
   ],
   "source": [
    "lst"
   ]
  },
  {
   "cell_type": "code",
   "execution_count": 171,
   "id": "1083d1ef-af01-49f9-858c-007b10bd7c53",
   "metadata": {},
   "outputs": [
    {
     "data": {
      "text/plain": [
       "[12, 56, 'A', 56, 'Modi', 'Trump', 100, '1', '0', '0', '1', '0', '0', 56]"
      ]
     },
     "execution_count": 171,
     "metadata": {},
     "output_type": "execute_result"
    }
   ],
   "source": [
    "lst1"
   ]
  },
  {
   "cell_type": "code",
   "execution_count": 173,
   "id": "55c4fec0-05e1-461e-a32a-ac0cc1d4293e",
   "metadata": {},
   "outputs": [],
   "source": [
    "# reverse"
   ]
  },
  {
   "cell_type": "code",
   "execution_count": 175,
   "id": "faf53305-f240-4c46-964e-685e6ce60037",
   "metadata": {},
   "outputs": [],
   "source": [
    "lst1.reverse()"
   ]
  },
  {
   "cell_type": "code",
   "execution_count": 177,
   "id": "ded62ddf-f95d-4cc2-89d7-f4061a4f5e5c",
   "metadata": {},
   "outputs": [
    {
     "data": {
      "text/plain": [
       "[56, '0', '0', '1', '0', '0', '1', 100, 'Trump', 'Modi', 56, 'A', 56, 12]"
      ]
     },
     "execution_count": 177,
     "metadata": {},
     "output_type": "execute_result"
    }
   ],
   "source": [
    "lst1"
   ]
  },
  {
   "cell_type": "code",
   "execution_count": 181,
   "id": "a4281184-c051-42ab-8f6c-aa9abbf70840",
   "metadata": {},
   "outputs": [],
   "source": [
    "name = list(\"Sharath\")"
   ]
  },
  {
   "cell_type": "code",
   "execution_count": 183,
   "id": "8ba912f9-02c3-4a43-8d25-0dbf85c0236e",
   "metadata": {},
   "outputs": [
    {
     "data": {
      "text/plain": [
       "['S', 'h', 'a', 'r', 'a', 't', 'h']"
      ]
     },
     "execution_count": 183,
     "metadata": {},
     "output_type": "execute_result"
    }
   ],
   "source": [
    "name"
   ]
  },
  {
   "cell_type": "code",
   "execution_count": 185,
   "id": "ae04df18-8755-4f4d-bfb6-6cad23f5a533",
   "metadata": {},
   "outputs": [
    {
     "data": {
      "text/plain": [
       "['h', 't', 'a', 'r', 'a', 'h', 'S']"
      ]
     },
     "execution_count": 185,
     "metadata": {},
     "output_type": "execute_result"
    }
   ],
   "source": [
    "name.reverse()\n",
    "name"
   ]
  },
  {
   "cell_type": "code",
   "execution_count": 187,
   "id": "b4926c7f-c741-4673-9595-0a3d5f773918",
   "metadata": {},
   "outputs": [],
   "source": [
    "# sort :\n",
    "\n"
   ]
  },
  {
   "cell_type": "code",
   "execution_count": 189,
   "id": "00b69629-6634-4d86-8f06-b662b257baf0",
   "metadata": {},
   "outputs": [],
   "source": [
    "lstOfNumbers = [34,67,8,90,2,3,56,89,0,98,-90,45,66,77]"
   ]
  },
  {
   "cell_type": "code",
   "execution_count": 191,
   "id": "7ee67e45-349c-4952-bc12-823e6a23a893",
   "metadata": {},
   "outputs": [],
   "source": [
    "lstOfNumbers.sort() # by default asc"
   ]
  },
  {
   "cell_type": "code",
   "execution_count": 193,
   "id": "aaeb7af1-e33e-4280-a6e7-7f98c4dfec48",
   "metadata": {},
   "outputs": [
    {
     "data": {
      "text/plain": [
       "[-90, 0, 2, 3, 8, 34, 45, 56, 66, 67, 77, 89, 90, 98]"
      ]
     },
     "execution_count": 193,
     "metadata": {},
     "output_type": "execute_result"
    }
   ],
   "source": [
    "lstOfNumbers"
   ]
  },
  {
   "cell_type": "code",
   "execution_count": 195,
   "id": "cd948821-be2e-4101-a1fe-dbfa50676a6a",
   "metadata": {},
   "outputs": [],
   "source": [
    "lstOfNumbers.sort(reverse=True)"
   ]
  },
  {
   "cell_type": "code",
   "execution_count": 197,
   "id": "38c778ce-be69-4136-9b96-45d592c8eac9",
   "metadata": {},
   "outputs": [
    {
     "data": {
      "text/plain": [
       "[98, 90, 89, 77, 67, 66, 56, 45, 34, 8, 3, 2, 0, -90]"
      ]
     },
     "execution_count": 197,
     "metadata": {},
     "output_type": "execute_result"
    }
   ],
   "source": [
    "lstOfNumbers"
   ]
  },
  {
   "cell_type": "code",
   "execution_count": 199,
   "id": "50098a29-5b11-49d6-9c71-65c223ee7bad",
   "metadata": {},
   "outputs": [
    {
     "data": {
      "text/plain": [
       "\u001b[0;31mSignature:\u001b[0m \u001b[0mlstOfNumbers\u001b[0m\u001b[0;34m.\u001b[0m\u001b[0msort\u001b[0m\u001b[0;34m(\u001b[0m\u001b[0;34m*\u001b[0m\u001b[0;34m,\u001b[0m \u001b[0mkey\u001b[0m\u001b[0;34m=\u001b[0m\u001b[0;32mNone\u001b[0m\u001b[0;34m,\u001b[0m \u001b[0mreverse\u001b[0m\u001b[0;34m=\u001b[0m\u001b[0;32mFalse\u001b[0m\u001b[0;34m)\u001b[0m\u001b[0;34m\u001b[0m\u001b[0;34m\u001b[0m\u001b[0m\n",
       "\u001b[0;31mDocstring:\u001b[0m\n",
       "Sort the list in ascending order and return None.\n",
       "\n",
       "The sort is in-place (i.e. the list itself is modified) and stable (i.e. the\n",
       "order of two equal elements is maintained).\n",
       "\n",
       "If a key function is given, apply it once to each list item and sort them,\n",
       "ascending or descending, according to their function values.\n",
       "\n",
       "The reverse flag can be set to sort in descending order.\n",
       "\u001b[0;31mType:\u001b[0m      builtin_function_or_method"
      ]
     },
     "metadata": {},
     "output_type": "display_data"
    }
   ],
   "source": [
    "lstOfNumbers.sort?"
   ]
  },
  {
   "cell_type": "markdown",
   "id": "e355c746-82e6-429f-bd14-12fe1475a0cb",
   "metadata": {},
   "source": [
    "### Clear Function"
   ]
  },
  {
   "cell_type": "code",
   "execution_count": 202,
   "id": "276988f6-bb6a-4ca1-80c1-65daaeb5efd2",
   "metadata": {},
   "outputs": [
    {
     "data": {
      "text/plain": [
       "[12, 'A', 56]"
      ]
     },
     "execution_count": 202,
     "metadata": {},
     "output_type": "execute_result"
    }
   ],
   "source": [
    "lst"
   ]
  },
  {
   "cell_type": "code",
   "execution_count": 204,
   "id": "81c17631-ae5a-4d08-be42-98bf222ae669",
   "metadata": {},
   "outputs": [],
   "source": [
    "lst.clear()"
   ]
  },
  {
   "cell_type": "code",
   "execution_count": 206,
   "id": "9cf819c2-15d2-40f6-ab19-a6b6a8265559",
   "metadata": {},
   "outputs": [
    {
     "data": {
      "text/plain": [
       "[]"
      ]
     },
     "execution_count": 206,
     "metadata": {},
     "output_type": "execute_result"
    }
   ],
   "source": [
    "lst"
   ]
  },
  {
   "cell_type": "markdown",
   "id": "0501d6b9-7964-4e59-8739-0b97d102bf09",
   "metadata": {},
   "source": [
    "### Copy of List"
   ]
  },
  {
   "cell_type": "code",
   "execution_count": 209,
   "id": "fe1896b5-1f90-4eae-b2d3-a1f21a76b5c9",
   "metadata": {},
   "outputs": [
    {
     "data": {
      "text/plain": [
       "['h', 't', 'a', 'r', 'a', 'h', 'S']"
      ]
     },
     "execution_count": 209,
     "metadata": {},
     "output_type": "execute_result"
    }
   ],
   "source": [
    "name"
   ]
  },
  {
   "cell_type": "code",
   "execution_count": 211,
   "id": "86241692-e3eb-465a-a7e3-36555caf5def",
   "metadata": {},
   "outputs": [],
   "source": [
    "copyOfName = name.copy()"
   ]
  },
  {
   "cell_type": "code",
   "execution_count": 213,
   "id": "4d15d359-8566-4ca0-98d3-25887c8017d4",
   "metadata": {},
   "outputs": [
    {
     "data": {
      "text/plain": [
       "['h', 't', 'a', 'r', 'a', 'h', 'S']"
      ]
     },
     "execution_count": 213,
     "metadata": {},
     "output_type": "execute_result"
    }
   ],
   "source": [
    "copyOfName"
   ]
  },
  {
   "cell_type": "code",
   "execution_count": 215,
   "id": "441735b3-0470-4194-a033-d1d57615e9fd",
   "metadata": {},
   "outputs": [
    {
     "name": "stdout",
     "output_type": "stream",
     "text": [
      "All the function from list:  ['append', 'clear', 'copy', 'count', 'extend', 'index', 'insert', 'pop', 'remove', 'reverse', 'sort']\n"
     ]
    }
   ],
   "source": [
    "print(\"All the function from list: \", [i for i in dir(list) if \"__\" not in i])"
   ]
  },
  {
   "cell_type": "markdown",
   "id": "ffb8d22e-7215-4788-a9c8-b595f2fae7d7",
   "metadata": {},
   "source": [
    "### Sorted\n",
    "\n",
    "Sorted function from Python not from list data structure. Using this function we can sort the data in asc or desc order, but sorted function always return an output in the form of list data structure."
   ]
  },
  {
   "cell_type": "code",
   "execution_count": 218,
   "id": "87028586-6ac9-4644-8462-a5b5e4518f3f",
   "metadata": {},
   "outputs": [],
   "source": [
    "name = \"abhisheak\""
   ]
  },
  {
   "cell_type": "code",
   "execution_count": 220,
   "id": "4e32bf36-2709-4ee1-9351-9fbb309db5c0",
   "metadata": {},
   "outputs": [
    {
     "data": {
      "text/plain": [
       "['a', 'a', 'b', 'e', 'h', 'h', 'i', 'k', 's']"
      ]
     },
     "execution_count": 220,
     "metadata": {},
     "output_type": "execute_result"
    }
   ],
   "source": [
    "sorted(name)"
   ]
  },
  {
   "cell_type": "code",
   "execution_count": 222,
   "id": "65b28693-dece-4eb1-81ec-04a640cc81b5",
   "metadata": {},
   "outputs": [
    {
     "data": {
      "text/plain": [
       "['s', 'k', 'i', 'h', 'h', 'e', 'b', 'a', 'a']"
      ]
     },
     "execution_count": 222,
     "metadata": {},
     "output_type": "execute_result"
    }
   ],
   "source": [
    "sorted(name,reverse=True)"
   ]
  },
  {
   "cell_type": "code",
   "execution_count": 224,
   "id": "c819ade1-d1c1-44d9-b8d2-ac1aae8e9e6a",
   "metadata": {},
   "outputs": [
    {
     "data": {
      "text/plain": [
       "'abhisheak'"
      ]
     },
     "execution_count": 224,
     "metadata": {},
     "output_type": "execute_result"
    }
   ],
   "source": [
    "name"
   ]
  },
  {
   "cell_type": "code",
   "execution_count": 226,
   "id": "1a4ea0ea-bc53-4913-a7be-7d46eb0d2a63",
   "metadata": {},
   "outputs": [],
   "source": [
    "name1 = list('abhisheak')"
   ]
  },
  {
   "cell_type": "code",
   "execution_count": 228,
   "id": "306b0953-8559-4876-9aee-62eb2d514075",
   "metadata": {},
   "outputs": [
    {
     "data": {
      "text/plain": [
       "['a', 'b', 'h', 'i', 's', 'h', 'e', 'a', 'k']"
      ]
     },
     "execution_count": 228,
     "metadata": {},
     "output_type": "execute_result"
    }
   ],
   "source": [
    "name1"
   ]
  },
  {
   "cell_type": "code",
   "execution_count": 230,
   "id": "672b583e-6403-4f78-ba6e-6051da4e887d",
   "metadata": {},
   "outputs": [
    {
     "data": {
      "text/plain": [
       "['a', 'a', 'b', 'e', 'h', 'h', 'i', 'k', 's']"
      ]
     },
     "execution_count": 230,
     "metadata": {},
     "output_type": "execute_result"
    }
   ],
   "source": [
    "sorted(name1)"
   ]
  },
  {
   "cell_type": "code",
   "execution_count": 232,
   "id": "fbe5cc3e-da3b-4dc2-9cb4-d15193de37ae",
   "metadata": {},
   "outputs": [
    {
     "data": {
      "text/plain": [
       "['a', 'b', 'h', 'i', 's', 'h', 'e', 'a', 'k']"
      ]
     },
     "execution_count": 232,
     "metadata": {},
     "output_type": "execute_result"
    }
   ],
   "source": [
    "name1"
   ]
  },
  {
   "cell_type": "code",
   "execution_count": 236,
   "id": "2f507e9a-4e81-47b4-a9db-078662e7a5dc",
   "metadata": {},
   "outputs": [
    {
     "data": {
      "text/plain": [
       "['a', 'b', 'h', 'i', 's', 'h', 'e', 'a', 'k']"
      ]
     },
     "execution_count": 236,
     "metadata": {},
     "output_type": "execute_result"
    }
   ],
   "source": [
    "# List sort\n",
    "name1"
   ]
  },
  {
   "cell_type": "code",
   "execution_count": 238,
   "id": "2ece27db-7dfd-47ec-8182-0777b057d4df",
   "metadata": {},
   "outputs": [],
   "source": [
    "name1.sort()"
   ]
  },
  {
   "cell_type": "code",
   "execution_count": 240,
   "id": "929b9fda-a4c7-4e5b-bf20-4b251eb1b6d4",
   "metadata": {},
   "outputs": [
    {
     "data": {
      "text/plain": [
       "['a', 'a', 'b', 'e', 'h', 'h', 'i', 'k', 's']"
      ]
     },
     "execution_count": 240,
     "metadata": {},
     "output_type": "execute_result"
    }
   ],
   "source": [
    "name1"
   ]
  },
  {
   "cell_type": "code",
   "execution_count": 242,
   "id": "5283860d-20ae-4017-b8f9-3c22bb8ab2f8",
   "metadata": {},
   "outputs": [
    {
     "data": {
      "text/plain": [
       "['a', 'd', 'g', 'p', 'r', 'u']"
      ]
     },
     "execution_count": 242,
     "metadata": {},
     "output_type": "execute_result"
    }
   ],
   "source": [
    "sorted('upgrad')"
   ]
  },
  {
   "cell_type": "code",
   "execution_count": null,
   "id": "509ac186-c0c4-48d1-9eb7-e39b374297f8",
   "metadata": {},
   "outputs": [],
   "source": []
  },
  {
   "cell_type": "code",
   "execution_count": null,
   "id": "51a0cd9f-38e6-4197-9095-3f70738e105c",
   "metadata": {},
   "outputs": [],
   "source": []
  },
  {
   "cell_type": "code",
   "execution_count": null,
   "id": "b4af2210-87c8-4e59-932e-633d5c586269",
   "metadata": {},
   "outputs": [],
   "source": []
  },
  {
   "cell_type": "code",
   "execution_count": null,
   "id": "92115ee0-ba53-4b03-8786-865f85a71f8d",
   "metadata": {},
   "outputs": [],
   "source": []
  },
  {
   "cell_type": "code",
   "execution_count": null,
   "id": "2feb16f4-2a07-4ef5-9198-925829ad17c8",
   "metadata": {},
   "outputs": [],
   "source": []
  },
  {
   "cell_type": "code",
   "execution_count": null,
   "id": "0baa0914-f324-42d4-bdb5-1b59820fad8e",
   "metadata": {},
   "outputs": [],
   "source": []
  },
  {
   "cell_type": "code",
   "execution_count": null,
   "id": "c9e93f48-5ede-4115-a34f-300fa0fe5ece",
   "metadata": {},
   "outputs": [],
   "source": []
  },
  {
   "cell_type": "code",
   "execution_count": null,
   "id": "04161ca9-eb4b-4145-90c1-99e0524e9ed9",
   "metadata": {},
   "outputs": [],
   "source": []
  },
  {
   "cell_type": "code",
   "execution_count": null,
   "id": "27334ce0-f413-4a65-84bb-104e8ada9ef8",
   "metadata": {},
   "outputs": [],
   "source": []
  },
  {
   "cell_type": "code",
   "execution_count": null,
   "id": "c6979e1a-d5a6-41e2-b21b-b87ecdc1d724",
   "metadata": {},
   "outputs": [],
   "source": []
  },
  {
   "cell_type": "code",
   "execution_count": null,
   "id": "bc059a9f-36c7-4803-ba72-c0e9b1ef4974",
   "metadata": {},
   "outputs": [],
   "source": []
  },
  {
   "cell_type": "code",
   "execution_count": null,
   "id": "61d0a409-eac1-4f64-9863-5555281bcc09",
   "metadata": {},
   "outputs": [],
   "source": []
  },
  {
   "cell_type": "code",
   "execution_count": null,
   "id": "389fe5b4-dd90-4b68-99d8-c225630ef50d",
   "metadata": {},
   "outputs": [],
   "source": []
  },
  {
   "cell_type": "code",
   "execution_count": null,
   "id": "9dc80f7e-840b-4f35-93aa-e3d1c12113c9",
   "metadata": {},
   "outputs": [],
   "source": []
  },
  {
   "cell_type": "code",
   "execution_count": null,
   "id": "cd7716b3-adf3-4913-90da-afc5ab82cdd4",
   "metadata": {},
   "outputs": [],
   "source": []
  },
  {
   "cell_type": "code",
   "execution_count": null,
   "id": "d5f97ea4-9945-4898-9295-1a989f9822f4",
   "metadata": {},
   "outputs": [],
   "source": []
  },
  {
   "cell_type": "code",
   "execution_count": null,
   "id": "3b661ef1-1653-4851-802b-3133c4cd2099",
   "metadata": {},
   "outputs": [],
   "source": []
  },
  {
   "cell_type": "code",
   "execution_count": null,
   "id": "abb555bb-9e87-42cd-96f5-1a28abf3ceb5",
   "metadata": {},
   "outputs": [],
   "source": []
  },
  {
   "cell_type": "code",
   "execution_count": null,
   "id": "3256751b-c5d3-424a-9335-94eb891af8ff",
   "metadata": {},
   "outputs": [],
   "source": []
  },
  {
   "cell_type": "code",
   "execution_count": null,
   "id": "012974ab-f24a-4a85-8041-7ee51de8aca2",
   "metadata": {},
   "outputs": [],
   "source": []
  },
  {
   "cell_type": "code",
   "execution_count": null,
   "id": "a74022f8-4c60-4bee-893c-227561656ba7",
   "metadata": {},
   "outputs": [],
   "source": []
  },
  {
   "cell_type": "code",
   "execution_count": null,
   "id": "b62ccf9b-7dc9-4ec7-85d2-cef3554fa4cf",
   "metadata": {},
   "outputs": [],
   "source": []
  },
  {
   "cell_type": "code",
   "execution_count": null,
   "id": "476f2923-4b5c-4e43-928e-db038eb94ae0",
   "metadata": {},
   "outputs": [],
   "source": []
  },
  {
   "cell_type": "code",
   "execution_count": null,
   "id": "249c8724-4cfa-40ce-8fda-37a0470d51af",
   "metadata": {},
   "outputs": [],
   "source": []
  },
  {
   "cell_type": "code",
   "execution_count": null,
   "id": "9382c93c-f0e2-4bf1-85f1-6e43be13cb85",
   "metadata": {},
   "outputs": [],
   "source": []
  },
  {
   "cell_type": "code",
   "execution_count": null,
   "id": "af39ebb8-b429-49b8-af7e-90e9c24dc843",
   "metadata": {},
   "outputs": [],
   "source": []
  },
  {
   "cell_type": "code",
   "execution_count": null,
   "id": "6b59f20a-939c-459f-ac60-7e0e744e1484",
   "metadata": {},
   "outputs": [],
   "source": []
  },
  {
   "cell_type": "code",
   "execution_count": null,
   "id": "7f61e6a0-ff30-49fd-be26-3f1cb98fae46",
   "metadata": {},
   "outputs": [],
   "source": []
  },
  {
   "cell_type": "code",
   "execution_count": null,
   "id": "6f87e141-c81b-4068-9d09-34730211685c",
   "metadata": {},
   "outputs": [],
   "source": []
  },
  {
   "cell_type": "code",
   "execution_count": null,
   "id": "5e3dbcc0-e48c-434b-bff8-9278a5cef980",
   "metadata": {},
   "outputs": [],
   "source": []
  },
  {
   "cell_type": "code",
   "execution_count": null,
   "id": "6021a8aa-683c-497b-8984-c91c7207798a",
   "metadata": {},
   "outputs": [],
   "source": []
  },
  {
   "cell_type": "code",
   "execution_count": null,
   "id": "fc5dd0c4-ac77-49f2-9c20-18d98cef5a38",
   "metadata": {},
   "outputs": [],
   "source": []
  },
  {
   "cell_type": "code",
   "execution_count": null,
   "id": "856a97d4-403d-40d4-a978-ff91f9d17c42",
   "metadata": {},
   "outputs": [],
   "source": []
  },
  {
   "cell_type": "code",
   "execution_count": null,
   "id": "0ff0b447-1b5f-465c-aff7-6579e7c4e3bf",
   "metadata": {},
   "outputs": [],
   "source": []
  },
  {
   "cell_type": "code",
   "execution_count": null,
   "id": "3530097a-bd2c-4047-994c-ade2595819d3",
   "metadata": {},
   "outputs": [],
   "source": []
  },
  {
   "cell_type": "code",
   "execution_count": null,
   "id": "5d29b8cc-09af-4a22-ac45-56de57d11337",
   "metadata": {},
   "outputs": [],
   "source": []
  },
  {
   "cell_type": "code",
   "execution_count": null,
   "id": "53572d6d-0eea-46a6-b378-f6e7b8ac24d6",
   "metadata": {},
   "outputs": [],
   "source": []
  },
  {
   "cell_type": "code",
   "execution_count": null,
   "id": "705b339d-61b5-45f2-b3e6-a7e07a4391a9",
   "metadata": {},
   "outputs": [],
   "source": []
  },
  {
   "cell_type": "code",
   "execution_count": null,
   "id": "0d3ca7c6-a14a-4614-aadd-b9ac327c4598",
   "metadata": {},
   "outputs": [],
   "source": []
  },
  {
   "cell_type": "code",
   "execution_count": null,
   "id": "85986cd2-a931-402e-a55d-046825bb420a",
   "metadata": {},
   "outputs": [],
   "source": []
  },
  {
   "cell_type": "code",
   "execution_count": null,
   "id": "11a7fd7c-f298-40c6-a1b9-defca79841be",
   "metadata": {},
   "outputs": [],
   "source": []
  },
  {
   "cell_type": "code",
   "execution_count": null,
   "id": "92503d49-ef72-4d08-a373-3f7d0869b220",
   "metadata": {},
   "outputs": [],
   "source": []
  },
  {
   "cell_type": "code",
   "execution_count": null,
   "id": "65b21c84-b98c-4318-a549-b9d830f87f56",
   "metadata": {},
   "outputs": [],
   "source": []
  },
  {
   "cell_type": "code",
   "execution_count": null,
   "id": "ea3b4b56-0750-4c0a-9759-54f137b7840d",
   "metadata": {},
   "outputs": [],
   "source": []
  },
  {
   "cell_type": "code",
   "execution_count": null,
   "id": "93c51c07-433a-4823-a44c-24fa69eed196",
   "metadata": {},
   "outputs": [],
   "source": []
  },
  {
   "cell_type": "code",
   "execution_count": null,
   "id": "a756dc56-48ba-47b4-b051-88e83d7d89b5",
   "metadata": {},
   "outputs": [],
   "source": []
  },
  {
   "cell_type": "code",
   "execution_count": null,
   "id": "40aa01b6-9f77-43b0-84fa-4d59b7d48709",
   "metadata": {},
   "outputs": [],
   "source": []
  },
  {
   "cell_type": "code",
   "execution_count": null,
   "id": "6558db34-6382-41cf-9002-fe3b20707e8b",
   "metadata": {},
   "outputs": [],
   "source": []
  },
  {
   "cell_type": "code",
   "execution_count": null,
   "id": "92328921-6e53-481c-af3b-2eafeff01413",
   "metadata": {},
   "outputs": [],
   "source": []
  },
  {
   "cell_type": "code",
   "execution_count": null,
   "id": "b6d43209-d429-4bfc-a822-b338d6ff8952",
   "metadata": {},
   "outputs": [],
   "source": []
  },
  {
   "cell_type": "code",
   "execution_count": null,
   "id": "ee6a867a-a355-4c22-b308-705a4af788f2",
   "metadata": {},
   "outputs": [],
   "source": []
  },
  {
   "cell_type": "code",
   "execution_count": null,
   "id": "c1789eb3-8bb2-40bf-9e0d-08a4d3a0b2ed",
   "metadata": {},
   "outputs": [],
   "source": []
  },
  {
   "cell_type": "code",
   "execution_count": null,
   "id": "db6df14e-12a1-4377-8df7-f2fc76640016",
   "metadata": {},
   "outputs": [],
   "source": []
  },
  {
   "cell_type": "code",
   "execution_count": null,
   "id": "87caa589-24ba-422a-9f98-100e5d5d2155",
   "metadata": {},
   "outputs": [],
   "source": []
  },
  {
   "cell_type": "code",
   "execution_count": null,
   "id": "4e2f6c0d-76c6-43bd-b1d8-956feb8818c4",
   "metadata": {},
   "outputs": [],
   "source": []
  },
  {
   "cell_type": "code",
   "execution_count": null,
   "id": "b58a0b83-5975-4636-89ed-472f01b45f21",
   "metadata": {},
   "outputs": [],
   "source": []
  },
  {
   "cell_type": "code",
   "execution_count": null,
   "id": "579fb21d-96cf-406a-a467-55044f2affb0",
   "metadata": {},
   "outputs": [],
   "source": []
  },
  {
   "cell_type": "code",
   "execution_count": null,
   "id": "4b669589-31da-47b9-a1b9-cd54abd17036",
   "metadata": {},
   "outputs": [],
   "source": []
  },
  {
   "cell_type": "code",
   "execution_count": null,
   "id": "5e7a52d1-461a-49f8-b0ee-cee32ffb30e3",
   "metadata": {},
   "outputs": [],
   "source": []
  },
  {
   "cell_type": "code",
   "execution_count": null,
   "id": "48b4c8d5-8131-4da5-aa06-36585fa2a3a5",
   "metadata": {},
   "outputs": [],
   "source": []
  },
  {
   "cell_type": "code",
   "execution_count": null,
   "id": "021db7b1-32ac-41a0-b487-b3db60344c1d",
   "metadata": {},
   "outputs": [],
   "source": []
  },
  {
   "cell_type": "code",
   "execution_count": null,
   "id": "b031ca12-2dec-4b89-8623-2c6db99f37ea",
   "metadata": {},
   "outputs": [],
   "source": []
  },
  {
   "cell_type": "code",
   "execution_count": null,
   "id": "3050a100-76d5-4ec4-aa19-2df73fc67f75",
   "metadata": {},
   "outputs": [],
   "source": []
  },
  {
   "cell_type": "code",
   "execution_count": null,
   "id": "60003596-64db-48f8-870b-bfaff7c9f5a4",
   "metadata": {},
   "outputs": [],
   "source": []
  },
  {
   "cell_type": "code",
   "execution_count": null,
   "id": "a28ca8d7-4a47-4a5b-8a51-49ab13664f03",
   "metadata": {},
   "outputs": [],
   "source": []
  },
  {
   "cell_type": "code",
   "execution_count": null,
   "id": "2662e3cb-ff10-4779-9732-8242cc2fae46",
   "metadata": {},
   "outputs": [],
   "source": []
  },
  {
   "cell_type": "code",
   "execution_count": null,
   "id": "367fac33-c882-426d-add3-a2ece468c216",
   "metadata": {},
   "outputs": [],
   "source": []
  },
  {
   "cell_type": "code",
   "execution_count": null,
   "id": "aaf20f75-66a7-46af-9ee1-756de8f65552",
   "metadata": {},
   "outputs": [],
   "source": []
  },
  {
   "cell_type": "code",
   "execution_count": null,
   "id": "9e9c1a2a-e530-48a6-bc28-c0532c258b50",
   "metadata": {},
   "outputs": [],
   "source": []
  },
  {
   "cell_type": "code",
   "execution_count": null,
   "id": "88433524-561f-44e2-8b48-e2e249eb7a63",
   "metadata": {},
   "outputs": [],
   "source": []
  },
  {
   "cell_type": "code",
   "execution_count": null,
   "id": "870f718f-d20f-4dae-a0b4-7897fb8a1d7f",
   "metadata": {},
   "outputs": [],
   "source": []
  },
  {
   "cell_type": "code",
   "execution_count": null,
   "id": "8e3dc867-83e2-4de4-b1b9-b5e710187dc9",
   "metadata": {},
   "outputs": [],
   "source": []
  },
  {
   "cell_type": "code",
   "execution_count": null,
   "id": "c6116fa9-372d-47c7-b934-b274e19bc828",
   "metadata": {},
   "outputs": [],
   "source": []
  },
  {
   "cell_type": "code",
   "execution_count": null,
   "id": "7fc903e3-a180-4753-b5ee-44a51332367f",
   "metadata": {},
   "outputs": [],
   "source": []
  },
  {
   "cell_type": "code",
   "execution_count": null,
   "id": "1916f159-7381-45c8-a813-c502f4ac830e",
   "metadata": {},
   "outputs": [],
   "source": []
  },
  {
   "cell_type": "code",
   "execution_count": null,
   "id": "32f16699-2d4f-489c-b57c-bac22e825f1d",
   "metadata": {},
   "outputs": [],
   "source": []
  },
  {
   "cell_type": "code",
   "execution_count": null,
   "id": "5966a0e6-2b22-49c1-b216-7ac4af811d94",
   "metadata": {},
   "outputs": [],
   "source": []
  },
  {
   "cell_type": "code",
   "execution_count": null,
   "id": "9803dfe8-6f30-4d98-8bdf-6cc14db212c3",
   "metadata": {},
   "outputs": [],
   "source": []
  },
  {
   "cell_type": "code",
   "execution_count": null,
   "id": "93eda754-c02e-41b2-9fa3-be9eab401cdb",
   "metadata": {},
   "outputs": [],
   "source": []
  },
  {
   "cell_type": "code",
   "execution_count": null,
   "id": "fd811573-f731-4ec0-838a-38eca95dc502",
   "metadata": {},
   "outputs": [],
   "source": []
  },
  {
   "cell_type": "code",
   "execution_count": null,
   "id": "fa51cf8a-289e-458f-8647-97ee909f03aa",
   "metadata": {},
   "outputs": [],
   "source": []
  },
  {
   "cell_type": "code",
   "execution_count": null,
   "id": "bf5f5ff8-d451-4149-b8c5-bfa090d75179",
   "metadata": {},
   "outputs": [],
   "source": []
  },
  {
   "cell_type": "code",
   "execution_count": null,
   "id": "7d7b0664-989d-4cef-bae9-7a76c0b42e0e",
   "metadata": {},
   "outputs": [],
   "source": []
  },
  {
   "cell_type": "code",
   "execution_count": null,
   "id": "e9d50336-eb92-486b-a0ed-da01a974c41d",
   "metadata": {},
   "outputs": [],
   "source": []
  },
  {
   "cell_type": "code",
   "execution_count": null,
   "id": "ed26386b-0b2f-4656-8309-089505a35901",
   "metadata": {},
   "outputs": [],
   "source": []
  },
  {
   "cell_type": "code",
   "execution_count": null,
   "id": "cc2f3297-3781-40a8-b238-9ad49c699f24",
   "metadata": {},
   "outputs": [],
   "source": []
  },
  {
   "cell_type": "code",
   "execution_count": null,
   "id": "edc37f28-5434-48e8-9cdb-045a1d632c55",
   "metadata": {},
   "outputs": [],
   "source": []
  },
  {
   "cell_type": "code",
   "execution_count": null,
   "id": "14dd1d54-ab39-46d1-b9ad-245ed92864f1",
   "metadata": {},
   "outputs": [],
   "source": []
  },
  {
   "cell_type": "code",
   "execution_count": null,
   "id": "29504cc7-aee7-4835-96ed-d7f75561f184",
   "metadata": {},
   "outputs": [],
   "source": []
  },
  {
   "cell_type": "code",
   "execution_count": null,
   "id": "4231a790-92a6-49a1-9b14-db3da73cd001",
   "metadata": {},
   "outputs": [],
   "source": []
  },
  {
   "cell_type": "code",
   "execution_count": null,
   "id": "0b0bea29-478b-4d0d-b842-11c72dd622f3",
   "metadata": {},
   "outputs": [],
   "source": []
  },
  {
   "cell_type": "code",
   "execution_count": null,
   "id": "0990490f-132e-416b-8cbf-3c1b71ed373f",
   "metadata": {},
   "outputs": [],
   "source": []
  },
  {
   "cell_type": "code",
   "execution_count": null,
   "id": "008fbd8b-7fbc-4906-a3cb-c69a69e96bc0",
   "metadata": {},
   "outputs": [],
   "source": []
  },
  {
   "cell_type": "code",
   "execution_count": null,
   "id": "35d737b0-fe3b-44c9-a089-d59c71b720b2",
   "metadata": {},
   "outputs": [],
   "source": []
  },
  {
   "cell_type": "code",
   "execution_count": null,
   "id": "1fd553aa-863c-4c0b-b412-e576b41f4bd0",
   "metadata": {},
   "outputs": [],
   "source": []
  },
  {
   "cell_type": "code",
   "execution_count": null,
   "id": "1d284e83-905e-42c8-9cdf-f8417bd03edd",
   "metadata": {},
   "outputs": [],
   "source": []
  },
  {
   "cell_type": "code",
   "execution_count": null,
   "id": "8544d0fb-4459-4371-8041-e28ade8062b4",
   "metadata": {},
   "outputs": [],
   "source": []
  },
  {
   "cell_type": "code",
   "execution_count": null,
   "id": "bec5afb3-115a-4b32-8931-8eb2354bd85f",
   "metadata": {},
   "outputs": [],
   "source": []
  },
  {
   "cell_type": "code",
   "execution_count": null,
   "id": "7f259eca-902f-4a41-86ce-4772a16422ee",
   "metadata": {},
   "outputs": [],
   "source": []
  },
  {
   "cell_type": "code",
   "execution_count": null,
   "id": "ee5ef949-6674-4d18-839a-080bfbe6d5db",
   "metadata": {},
   "outputs": [],
   "source": []
  },
  {
   "cell_type": "code",
   "execution_count": null,
   "id": "3d9d6bd6-8c6d-4afe-89c5-07f918291697",
   "metadata": {},
   "outputs": [],
   "source": []
  },
  {
   "cell_type": "code",
   "execution_count": null,
   "id": "cb74a553-facc-4da2-8b3c-c06749ba0eb9",
   "metadata": {},
   "outputs": [],
   "source": []
  },
  {
   "cell_type": "code",
   "execution_count": null,
   "id": "13ae6af5-5fb6-408e-aaab-c398ef9aacd0",
   "metadata": {},
   "outputs": [],
   "source": []
  },
  {
   "cell_type": "code",
   "execution_count": null,
   "id": "66cd143f-024e-41e9-b50f-706795bcc81e",
   "metadata": {},
   "outputs": [],
   "source": []
  },
  {
   "cell_type": "code",
   "execution_count": null,
   "id": "4ad4bb58-0b95-47c5-a0f0-2014a83ea744",
   "metadata": {},
   "outputs": [],
   "source": []
  },
  {
   "cell_type": "code",
   "execution_count": null,
   "id": "186438fd-502e-4ffd-968e-86a69f092a92",
   "metadata": {},
   "outputs": [],
   "source": []
  },
  {
   "cell_type": "code",
   "execution_count": null,
   "id": "2a46d943-25ca-4fe3-947f-6d356a2857c4",
   "metadata": {},
   "outputs": [],
   "source": []
  },
  {
   "cell_type": "code",
   "execution_count": null,
   "id": "65df30b5-c171-4062-b446-143b447964d4",
   "metadata": {},
   "outputs": [],
   "source": []
  },
  {
   "cell_type": "code",
   "execution_count": null,
   "id": "8d447018-8740-4c5a-9000-cf60361f6c38",
   "metadata": {},
   "outputs": [],
   "source": []
  },
  {
   "cell_type": "code",
   "execution_count": null,
   "id": "0cd42aee-828a-4c8c-a91c-b71d5513b30b",
   "metadata": {},
   "outputs": [],
   "source": []
  },
  {
   "cell_type": "code",
   "execution_count": null,
   "id": "185e0694-45fa-4acc-8bdf-e3622b6a7572",
   "metadata": {},
   "outputs": [],
   "source": []
  },
  {
   "cell_type": "code",
   "execution_count": null,
   "id": "e2d4fd33-cea6-4c1b-a617-b54fbb1ded26",
   "metadata": {},
   "outputs": [],
   "source": []
  },
  {
   "cell_type": "code",
   "execution_count": null,
   "id": "0770d5ca-b6b0-4775-886f-94bc85539911",
   "metadata": {},
   "outputs": [],
   "source": []
  },
  {
   "cell_type": "code",
   "execution_count": null,
   "id": "140339db-e94e-4791-a287-49ca74c750d8",
   "metadata": {},
   "outputs": [],
   "source": []
  },
  {
   "cell_type": "code",
   "execution_count": null,
   "id": "4b2f9543-5551-4a33-be63-d03a203932b7",
   "metadata": {},
   "outputs": [],
   "source": []
  },
  {
   "cell_type": "code",
   "execution_count": null,
   "id": "0f3655e1-ccd0-4c20-8f77-7ba814f84a20",
   "metadata": {},
   "outputs": [],
   "source": []
  },
  {
   "cell_type": "code",
   "execution_count": null,
   "id": "82551b2e-a873-46c6-89fc-39b49f65d433",
   "metadata": {},
   "outputs": [],
   "source": []
  },
  {
   "cell_type": "code",
   "execution_count": null,
   "id": "dfa94fb0-4cf8-4e4b-babf-32909f7792b4",
   "metadata": {},
   "outputs": [],
   "source": []
  },
  {
   "cell_type": "code",
   "execution_count": null,
   "id": "a954cffa-eac5-405e-8e21-de8be5138294",
   "metadata": {},
   "outputs": [],
   "source": []
  },
  {
   "cell_type": "code",
   "execution_count": null,
   "id": "b0ecaba4-8e94-422a-8a9f-ec22619a73ea",
   "metadata": {},
   "outputs": [],
   "source": []
  },
  {
   "cell_type": "code",
   "execution_count": null,
   "id": "a901d9cb-4f17-446e-9f99-671a5d4fa18e",
   "metadata": {},
   "outputs": [],
   "source": []
  },
  {
   "cell_type": "code",
   "execution_count": null,
   "id": "2d01fadf-a38e-49ad-a4f0-9c2b04a54743",
   "metadata": {},
   "outputs": [],
   "source": []
  },
  {
   "cell_type": "code",
   "execution_count": null,
   "id": "8210a362-fcae-4a5a-9d8e-fcd7972d189a",
   "metadata": {},
   "outputs": [],
   "source": []
  },
  {
   "cell_type": "code",
   "execution_count": null,
   "id": "8873c5be-78a0-4f7a-afc6-953436d2fd78",
   "metadata": {},
   "outputs": [],
   "source": []
  },
  {
   "cell_type": "code",
   "execution_count": null,
   "id": "0e25940b-5052-496d-99dc-9ba3c765c8a9",
   "metadata": {},
   "outputs": [],
   "source": []
  },
  {
   "cell_type": "code",
   "execution_count": null,
   "id": "642d5c99-083b-4bcd-a2de-ec4b99b00c7c",
   "metadata": {},
   "outputs": [],
   "source": []
  },
  {
   "cell_type": "code",
   "execution_count": null,
   "id": "6644bbd5-ea14-4eef-a62e-9a1636c4a94e",
   "metadata": {},
   "outputs": [],
   "source": []
  },
  {
   "cell_type": "code",
   "execution_count": null,
   "id": "c8fd434c-c421-4f78-bfc7-38b54bbbe6a2",
   "metadata": {},
   "outputs": [],
   "source": []
  },
  {
   "cell_type": "code",
   "execution_count": null,
   "id": "bb327a3a-726d-4c6b-8406-0f7ad8d2e7ee",
   "metadata": {},
   "outputs": [],
   "source": []
  },
  {
   "cell_type": "code",
   "execution_count": null,
   "id": "a263bef4-5760-450a-a53a-7d37dfcf65d7",
   "metadata": {},
   "outputs": [],
   "source": []
  },
  {
   "cell_type": "code",
   "execution_count": null,
   "id": "f83b8e90-bf01-4d10-a4e8-8f01ff8f5d58",
   "metadata": {},
   "outputs": [],
   "source": []
  },
  {
   "cell_type": "code",
   "execution_count": null,
   "id": "3c806577-1d83-4848-9e1e-cd09f58575de",
   "metadata": {},
   "outputs": [],
   "source": []
  },
  {
   "cell_type": "code",
   "execution_count": null,
   "id": "194187ff-2b78-470d-b6ea-ec6b165f2d44",
   "metadata": {},
   "outputs": [],
   "source": []
  },
  {
   "cell_type": "code",
   "execution_count": null,
   "id": "0a1e824e-b570-49a2-a95a-50a7370f820a",
   "metadata": {},
   "outputs": [],
   "source": []
  },
  {
   "cell_type": "code",
   "execution_count": null,
   "id": "385fcfc4-26f4-425d-8cd1-f493cf53fde4",
   "metadata": {},
   "outputs": [],
   "source": []
  }
 ],
 "metadata": {
  "kernelspec": {
   "display_name": "Python [conda env:base] *",
   "language": "python",
   "name": "conda-base-py"
  },
  "language_info": {
   "codemirror_mode": {
    "name": "ipython",
    "version": 3
   },
   "file_extension": ".py",
   "mimetype": "text/x-python",
   "name": "python",
   "nbconvert_exporter": "python",
   "pygments_lexer": "ipython3",
   "version": "3.12.7"
  }
 },
 "nbformat": 4,
 "nbformat_minor": 5
}
