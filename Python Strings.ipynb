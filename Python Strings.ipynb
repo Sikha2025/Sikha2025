{
 "cells": [
  {
   "cell_type": "markdown",
   "id": "a2998fc1-3919-49f2-95f0-745b6d757a13",
   "metadata": {},
   "source": [
    "### LinkedIn:\n",
    "\n",
    "https://www.linkedin.com/in/abhisheak-saraswat/"
   ]
  },
  {
   "cell_type": "markdown",
   "id": "b0bff517-7e91-4f6f-af48-cae523c44d3f",
   "metadata": {},
   "source": [
    "### Python String\n",
    "\n",
    "In Python, strings are enclosed within single or double quotes.\n",
    "\n",
    "Strings are **immutable** in Python programming."
   ]
  },
  {
   "cell_type": "code",
   "execution_count": 3,
   "id": "bc45adc2-10a3-4659-b939-7846657ccd73",
   "metadata": {},
   "outputs": [],
   "source": [
    "st = \"Programming\""
   ]
  },
  {
   "cell_type": "code",
   "execution_count": 5,
   "id": "79bce125-2ff1-4680-88b1-dcc0cea488d5",
   "metadata": {},
   "outputs": [
    {
     "data": {
      "text/plain": [
       "str"
      ]
     },
     "execution_count": 5,
     "metadata": {},
     "output_type": "execute_result"
    }
   ],
   "source": [
    "type(st)"
   ]
  },
  {
   "cell_type": "code",
   "execution_count": 7,
   "id": "db9230c5-1e3f-4443-b843-7dc031392df7",
   "metadata": {},
   "outputs": [
    {
     "data": {
      "text/plain": [
       "str"
      ]
     },
     "execution_count": 7,
     "metadata": {},
     "output_type": "execute_result"
    }
   ],
   "source": [
    "st = 'Programming'\n",
    "type(st)"
   ]
  },
  {
   "cell_type": "code",
   "execution_count": 9,
   "id": "f4235689-0de1-4b87-8403-f644a1be7ebd",
   "metadata": {},
   "outputs": [
    {
     "name": "stdout",
     "output_type": "stream",
     "text": [
      "All the strings functions are:  ['capitalize', 'casefold', 'center', 'count', 'encode', 'endswith', 'expandtabs', 'find', 'format', 'format_map', 'index', 'isalnum', 'isalpha', 'isascii', 'isdecimal', 'isdigit', 'isidentifier', 'islower', 'isnumeric', 'isprintable', 'isspace', 'istitle', 'isupper', 'join', 'ljust', 'lower', 'lstrip', 'maketrans', 'partition', 'removeprefix', 'removesuffix', 'replace', 'rfind', 'rindex', 'rjust', 'rpartition', 'rsplit', 'rstrip', 'split', 'splitlines', 'startswith', 'strip', 'swapcase', 'title', 'translate', 'upper', 'zfill']\n"
     ]
    }
   ],
   "source": [
    "print(\"All the strings functions are: \",[i for i in dir(str) if \"__\" not in i])"
   ]
  },
  {
   "cell_type": "code",
   "execution_count": 11,
   "id": "119f154f-94d4-4a68-b17d-1458d22ba467",
   "metadata": {},
   "outputs": [],
   "source": [
    "string = \"programming is FUN\""
   ]
  },
  {
   "cell_type": "markdown",
   "id": "33f63d24-6548-4478-b9d3-15bc3bbd41de",
   "metadata": {},
   "source": [
    "### capitalize"
   ]
  },
  {
   "cell_type": "code",
   "execution_count": 14,
   "id": "ba1bde19-603b-4457-83fe-83506e682381",
   "metadata": {},
   "outputs": [
    {
     "data": {
      "text/plain": [
       "\u001b[0;31mSignature:\u001b[0m \u001b[0mstring\u001b[0m\u001b[0;34m.\u001b[0m\u001b[0mcapitalize\u001b[0m\u001b[0;34m(\u001b[0m\u001b[0;34m)\u001b[0m\u001b[0;34m\u001b[0m\u001b[0;34m\u001b[0m\u001b[0m\n",
       "\u001b[0;31mDocstring:\u001b[0m\n",
       "Return a capitalized version of the string.\n",
       "\n",
       "More specifically, make the first character have upper case and the rest lower\n",
       "case.\n",
       "\u001b[0;31mType:\u001b[0m      builtin_function_or_method"
      ]
     },
     "metadata": {},
     "output_type": "display_data"
    }
   ],
   "source": [
    "string.capitalize?"
   ]
  },
  {
   "cell_type": "code",
   "execution_count": 16,
   "id": "66750704-faea-4a4b-9d0b-39f00b837f4a",
   "metadata": {},
   "outputs": [
    {
     "data": {
      "text/plain": [
       "'Programming is fun'"
      ]
     },
     "execution_count": 16,
     "metadata": {},
     "output_type": "execute_result"
    }
   ],
   "source": [
    "string.capitalize()"
   ]
  },
  {
   "cell_type": "code",
   "execution_count": 18,
   "id": "d00e1040-21e3-4be9-830c-b7a51483c96f",
   "metadata": {},
   "outputs": [
    {
     "data": {
      "text/plain": [
       "'Som singh'"
      ]
     },
     "execution_count": 18,
     "metadata": {},
     "output_type": "execute_result"
    }
   ],
   "source": [
    "\"som SINGH\".capitalize()"
   ]
  },
  {
   "cell_type": "code",
   "execution_count": 20,
   "id": "a577da6f-eff1-4ca0-8971-c10021083e04",
   "metadata": {},
   "outputs": [
    {
     "data": {
      "text/plain": [
       "'98'"
      ]
     },
     "execution_count": 20,
     "metadata": {},
     "output_type": "execute_result"
    }
   ],
   "source": [
    "\"98\".capitalize()"
   ]
  },
  {
   "cell_type": "markdown",
   "id": "d623d281-3894-4efe-a1c4-04619b530627",
   "metadata": {},
   "source": [
    "### Note:\n",
    "\n",
    "In Python, we can define the comment using # (which represent basically for single line of comment.)\n",
    "\n",
    "For multiple line of comment we can use \"\"\" or '''"
   ]
  },
  {
   "cell_type": "code",
   "execution_count": 27,
   "id": "ddac6012-b028-4228-b807-1cba64ed3b41",
   "metadata": {},
   "outputs": [],
   "source": [
    "multiline_string = \"\"\"We are learning\n",
    "Python programming\n",
    "with upGrad\"\"\""
   ]
  },
  {
   "cell_type": "code",
   "execution_count": 29,
   "id": "b131bfa3-ff69-4e9b-93e9-4da2a23bb34e",
   "metadata": {},
   "outputs": [
    {
     "data": {
      "text/plain": [
       "'We are learning\\nPython programming\\nwith upGrad'"
      ]
     },
     "execution_count": 29,
     "metadata": {},
     "output_type": "execute_result"
    }
   ],
   "source": [
    "multiline_string"
   ]
  },
  {
   "cell_type": "code",
   "execution_count": 31,
   "id": "b372f832-b9ca-4554-97f6-14b71bf32281",
   "metadata": {},
   "outputs": [
    {
     "name": "stdout",
     "output_type": "stream",
     "text": [
      "We are learning\n",
      "Python programming\n",
      "with upGrad\n"
     ]
    }
   ],
   "source": [
    "print(multiline_string)"
   ]
  },
  {
   "cell_type": "code",
   "execution_count": 37,
   "id": "3302901b-9c1d-4f25-9ab3-6bd430797a27",
   "metadata": {},
   "outputs": [
    {
     "name": "stdout",
     "output_type": "stream",
     "text": [
      "Return a capitalized version of the string.\n",
      "\n",
      "More specifically, make the first character have upper case and the rest lower\n",
      "case.\n"
     ]
    }
   ],
   "source": [
    "print(st.capitalize.__doc__)"
   ]
  },
  {
   "cell_type": "code",
   "execution_count": 47,
   "id": "4717bd9b-3e4c-4f42-9d30-2a615215de5d",
   "metadata": {},
   "outputs": [],
   "source": [
    "st = \"\"\"Return a capitalized version of the string.More specifically, make the first character have upper case and the rest lower case.\"\"\""
   ]
  },
  {
   "cell_type": "code",
   "execution_count": 49,
   "id": "917c59db-1765-4359-a374-1aa2a3197cee",
   "metadata": {},
   "outputs": [
    {
     "data": {
      "text/plain": [
       "'Return a capitalized version of the string.More specifically, make the first character have upper case and the rest lower case.'"
      ]
     },
     "execution_count": 49,
     "metadata": {},
     "output_type": "execute_result"
    }
   ],
   "source": [
    "st"
   ]
  },
  {
   "cell_type": "code",
   "execution_count": 51,
   "id": "a21f2c75-522d-40a4-958f-97fb6ebcfc6f",
   "metadata": {},
   "outputs": [
    {
     "data": {
      "text/plain": [
       "'return a capitalized version of the string.more specifically, make the first character have upper case and the rest lower case.'"
      ]
     },
     "execution_count": 51,
     "metadata": {},
     "output_type": "execute_result"
    }
   ],
   "source": [
    "st.lower()"
   ]
  },
  {
   "cell_type": "code",
   "execution_count": 53,
   "id": "86a98cb6-ae21-47f7-b4f2-947cf726f470",
   "metadata": {},
   "outputs": [
    {
     "data": {
      "text/plain": [
       "'RETURN A CAPITALIZED VERSION OF THE STRING.MORE SPECIFICALLY, MAKE THE FIRST CHARACTER HAVE UPPER CASE AND THE REST LOWER CASE.'"
      ]
     },
     "execution_count": 53,
     "metadata": {},
     "output_type": "execute_result"
    }
   ],
   "source": [
    "st.upper()"
   ]
  },
  {
   "cell_type": "code",
   "execution_count": 55,
   "id": "619ac8f9-dff1-4e79-8d3f-62e2934a42d1",
   "metadata": {},
   "outputs": [],
   "source": [
    "# Converting string into title format where first char of each word will be capital char and rest lower"
   ]
  },
  {
   "cell_type": "code",
   "execution_count": 57,
   "id": "066860db-6f91-4974-8020-712f4fef9295",
   "metadata": {},
   "outputs": [
    {
     "data": {
      "text/plain": [
       "'Return A Capitalized Version Of The String.More Specifically, Make The First Character Have Upper Case And The Rest Lower Case.'"
      ]
     },
     "execution_count": 57,
     "metadata": {},
     "output_type": "execute_result"
    }
   ],
   "source": [
    "st.title()"
   ]
  },
  {
   "cell_type": "code",
   "execution_count": 59,
   "id": "abad0cc7-60ca-4438-a456-bdce05246a5d",
   "metadata": {},
   "outputs": [
    {
     "name": "stdout",
     "output_type": "stream",
     "text": [
      "Return a capitalized version of the string.More specifically, make the first character have upper case and the rest lower case.\n"
     ]
    }
   ],
   "source": [
    "print(st)"
   ]
  },
  {
   "cell_type": "code",
   "execution_count": null,
   "id": "2b91675a-ea32-4720-962d-071636178379",
   "metadata": {},
   "outputs": [],
   "source": []
  },
  {
   "cell_type": "markdown",
   "id": "0c0e5efd-e6ea-419a-bfe0-10acbdd9b837",
   "metadata": {},
   "source": [
    "### Find and Index Function of a String\n",
    "\n",
    "**Find** : \n",
    "\n",
    "Using the find function we can find out the index of specific word, find will return the index of your first occurence of an item.\n",
    "\n",
    "Note: Find does not raise an error if item is not the part of your data. It **returns -1 if failure**."
   ]
  },
  {
   "cell_type": "code",
   "execution_count": null,
   "id": "4f96d7f2-3b48-444b-9b50-55d1f8205153",
   "metadata": {},
   "outputs": [],
   "source": []
  },
  {
   "cell_type": "markdown",
   "id": "3df17ce4-d9d5-425f-845f-eea10d02864f",
   "metadata": {},
   "source": [
    "### Slicing concepts:"
   ]
  },
  {
   "cell_type": "markdown",
   "id": "a42a6db3-aa89-4250-8383-08c77c7babca",
   "metadata": {},
   "source": [
    "**Note**:\n",
    "\n",
    "In Python, indexing starts from 0 to n - 1.\n",
    "\n",
    "Indexing can be negative or positive."
   ]
  },
  {
   "cell_type": "code",
   "execution_count": 67,
   "id": "3c594ae1-9d0d-4bdc-9300-070e67bfb221",
   "metadata": {},
   "outputs": [
    {
     "data": {
      "text/plain": [
       "'programming is FUN'"
      ]
     },
     "execution_count": 67,
     "metadata": {},
     "output_type": "execute_result"
    }
   ],
   "source": [
    "string"
   ]
  },
  {
   "cell_type": "code",
   "execution_count": null,
   "id": "eeefd649-72fd-4ac0-8c41-c9e1ea47d6e5",
   "metadata": {},
   "outputs": [],
   "source": [
    "string[0]"
   ]
  },
  {
   "attachments": {
    "f47fc21e-68a5-471d-aab7-747727f0770c.png": {
     "image/png": "[encoded data removed]"
    }
   },
   "cell_type": "markdown",
   "id": "cc55f247-dccb-4852-b9c5-560320dcf458",
   "metadata": {},
   "source": [
    "![image.png](attachment:f47fc21e-68a5-471d-aab7-747727f0770c.png)"
   ]
  },
  {
   "cell_type": "code",
   "execution_count": 70,
   "id": "b07f1d08-7871-49cd-a88f-a4d51919a038",
   "metadata": {},
   "outputs": [],
   "source": [
    "st = \"PROGRAMMING\""
   ]
  },
  {
   "cell_type": "code",
   "execution_count": 72,
   "id": "fad18fd8-a7c5-4f10-bcca-4333e66ce1ab",
   "metadata": {},
   "outputs": [
    {
     "data": {
      "text/plain": [
       "11"
      ]
     },
     "execution_count": 72,
     "metadata": {},
     "output_type": "execute_result"
    }
   ],
   "source": [
    "len(st)"
   ]
  },
  {
   "cell_type": "code",
   "execution_count": 74,
   "id": "8495a9b4-2be6-40b6-b48a-fa31cceb8491",
   "metadata": {},
   "outputs": [
    {
     "data": {
      "text/plain": [
       "'G'"
      ]
     },
     "execution_count": 74,
     "metadata": {},
     "output_type": "execute_result"
    }
   ],
   "source": [
    "st[10]"
   ]
  },
  {
   "cell_type": "code",
   "execution_count": 76,
   "id": "81d8ae44-d6fc-4db5-9b2e-5bd680ee9470",
   "metadata": {},
   "outputs": [
    {
     "data": {
      "text/plain": [
       "'PROGRAMMING'"
      ]
     },
     "execution_count": 76,
     "metadata": {},
     "output_type": "execute_result"
    }
   ],
   "source": [
    "st"
   ]
  },
  {
   "cell_type": "code",
   "execution_count": 78,
   "id": "e27d1799-401a-401c-87e4-4ccb927a12ea",
   "metadata": {},
   "outputs": [
    {
     "data": {
      "text/plain": [
       "'P'"
      ]
     },
     "execution_count": 78,
     "metadata": {},
     "output_type": "execute_result"
    }
   ],
   "source": [
    "st[0]"
   ]
  },
  {
   "cell_type": "code",
   "execution_count": 80,
   "id": "213d63b7-65a8-4eff-a45b-245a5f757b06",
   "metadata": {},
   "outputs": [
    {
     "data": {
      "text/plain": [
       "'OGRA'"
      ]
     },
     "execution_count": 80,
     "metadata": {},
     "output_type": "execute_result"
    }
   ],
   "source": [
    "st[2:6] # starting position : 2 and ends position 6 (which will be exclusive)"
   ]
  },
  {
   "cell_type": "code",
   "execution_count": 84,
   "id": "d9912254-404d-4ed0-a698-594d23bfb970",
   "metadata": {},
   "outputs": [
    {
     "data": {
      "text/plain": [
       "'PROGR'"
      ]
     },
     "execution_count": 84,
     "metadata": {},
     "output_type": "execute_result"
    }
   ],
   "source": [
    "st[:5] # before colon : by default it will be starts from 0 to 5 (exclusive)"
   ]
  },
  {
   "cell_type": "code",
   "execution_count": 82,
   "id": "8a50a37d-2d27-4746-ba54-4d4306becf2d",
   "metadata": {},
   "outputs": [
    {
     "data": {
      "text/plain": [
       "'PROGRAMMING'"
      ]
     },
     "execution_count": 82,
     "metadata": {},
     "output_type": "execute_result"
    }
   ],
   "source": [
    "st"
   ]
  },
  {
   "cell_type": "code",
   "execution_count": 87,
   "id": "d2bec2a5-2c40-45cd-9349-88ad9f4f0cfb",
   "metadata": {},
   "outputs": [
    {
     "data": {
      "text/plain": [
       "'PORMIG'"
      ]
     },
     "execution_count": 87,
     "metadata": {},
     "output_type": "execute_result"
    }
   ],
   "source": [
    "st[::2] # start : 0, ends : n - 1, stepsize : 2"
   ]
  },
  {
   "cell_type": "code",
   "execution_count": 89,
   "id": "13c45ce1-d66f-4597-a31f-220b6b20de48",
   "metadata": {},
   "outputs": [
    {
     "data": {
      "text/plain": [
       "'PGMN'"
      ]
     },
     "execution_count": 89,
     "metadata": {},
     "output_type": "execute_result"
    }
   ],
   "source": [
    "st[::3]"
   ]
  },
  {
   "cell_type": "code",
   "execution_count": 91,
   "id": "6d5813fb-026b-489e-b22a-1104c5dda585",
   "metadata": {},
   "outputs": [
    {
     "data": {
      "text/plain": [
       "'RGAMN'"
      ]
     },
     "execution_count": 91,
     "metadata": {},
     "output_type": "execute_result"
    }
   ],
   "source": [
    "st[1::2]"
   ]
  },
  {
   "cell_type": "code",
   "execution_count": 93,
   "id": "167033c6-2082-47a8-b028-cbae36ceb011",
   "metadata": {},
   "outputs": [
    {
     "data": {
      "text/plain": [
       "'PROGRAMMING'"
      ]
     },
     "execution_count": 93,
     "metadata": {},
     "output_type": "execute_result"
    }
   ],
   "source": [
    "st"
   ]
  },
  {
   "cell_type": "code",
   "execution_count": 99,
   "id": "0add7f78-12b6-4884-904d-b2307257dc31",
   "metadata": {},
   "outputs": [
    {
     "data": {
      "text/plain": [
       "'MMING'"
      ]
     },
     "execution_count": 99,
     "metadata": {},
     "output_type": "execute_result"
    }
   ],
   "source": [
    "st[-5:]"
   ]
  },
  {
   "cell_type": "code",
   "execution_count": 101,
   "id": "4b7e01bf-fa93-4068-9fb2-547f708320e2",
   "metadata": {},
   "outputs": [
    {
     "data": {
      "text/plain": [
       "'OGRA'"
      ]
     },
     "execution_count": 101,
     "metadata": {},
     "output_type": "execute_result"
    }
   ],
   "source": [
    "st[-9:-5]"
   ]
  },
  {
   "cell_type": "code",
   "execution_count": 103,
   "id": "170bd57b-76d8-4be8-aa32-4e34330677b9",
   "metadata": {},
   "outputs": [
    {
     "data": {
      "text/plain": [
       "'NG'"
      ]
     },
     "execution_count": 103,
     "metadata": {},
     "output_type": "execute_result"
    }
   ],
   "source": [
    "st[-2:]"
   ]
  },
  {
   "cell_type": "code",
   "execution_count": 105,
   "id": "f797cd4a-fa1d-426f-8b14-e22a971e8371",
   "metadata": {},
   "outputs": [
    {
     "data": {
      "text/plain": [
       "'PROGRAMMING'"
      ]
     },
     "execution_count": 105,
     "metadata": {},
     "output_type": "execute_result"
    }
   ],
   "source": [
    "st"
   ]
  },
  {
   "cell_type": "code",
   "execution_count": 107,
   "id": "4d92115c-9261-4ce6-9b30-1862b720019d",
   "metadata": {},
   "outputs": [
    {
     "data": {
      "text/plain": [
       "'ROGRAMMIN'"
      ]
     },
     "execution_count": 107,
     "metadata": {},
     "output_type": "execute_result"
    }
   ],
   "source": [
    "st[1:-1]"
   ]
  },
  {
   "cell_type": "code",
   "execution_count": 109,
   "id": "a502587d-6aff-4379-99a5-779db5d0852b",
   "metadata": {},
   "outputs": [
    {
     "data": {
      "text/plain": [
       "'AMMIN'"
      ]
     },
     "execution_count": 109,
     "metadata": {},
     "output_type": "execute_result"
    }
   ],
   "source": [
    "st[5:-1]"
   ]
  },
  {
   "cell_type": "code",
   "execution_count": 113,
   "id": "bcd30816-481e-4cba-9ba6-851067567312",
   "metadata": {},
   "outputs": [],
   "source": [
    "name = \"Abhisheak Saraswat\""
   ]
  },
  {
   "cell_type": "code",
   "execution_count": 119,
   "id": "e537352f-f928-4c65-989c-e15e985a3aa1",
   "metadata": {},
   "outputs": [
    {
     "data": {
      "text/plain": [
       "'k'"
      ]
     },
     "execution_count": 119,
     "metadata": {},
     "output_type": "execute_result"
    }
   ],
   "source": [
    "name[8]"
   ]
  },
  {
   "cell_type": "code",
   "execution_count": 121,
   "id": "dd5a0b67-7f1a-4095-a67b-1ab1f44f8604",
   "metadata": {},
   "outputs": [
    {
     "data": {
      "text/plain": [
       "' '"
      ]
     },
     "execution_count": 121,
     "metadata": {},
     "output_type": "execute_result"
    }
   ],
   "source": [
    "name[9]"
   ]
  },
  {
   "cell_type": "code",
   "execution_count": 123,
   "id": "1605b8aa-6acc-4cc6-9350-203755eead2d",
   "metadata": {},
   "outputs": [
    {
     "data": {
      "text/plain": [
       "'programming is FUN'"
      ]
     },
     "execution_count": 123,
     "metadata": {},
     "output_type": "execute_result"
    }
   ],
   "source": [
    "string"
   ]
  },
  {
   "cell_type": "code",
   "execution_count": 126,
   "id": "3eb529e7-a56d-413d-b68c-81ad305cc000",
   "metadata": {},
   "outputs": [],
   "source": [
    "st = \"\"\"Return a capitalized version of the string.More specifically, make the first character have upper case and the rest lower case.\"\"\""
   ]
  },
  {
   "cell_type": "code",
   "execution_count": 128,
   "id": "7c3feeb0-e705-4d8c-9936-3a9a1b53b310",
   "metadata": {},
   "outputs": [
    {
     "name": "stdout",
     "output_type": "stream",
     "text": [
      "Return a capitalized version of the string.More specifically, make the first character have upper case and the rest lower case.\n"
     ]
    }
   ],
   "source": [
    "print(st)"
   ]
  },
  {
   "cell_type": "code",
   "execution_count": 130,
   "id": "d1d5ad54-771d-449d-ba57-e50750915d8f",
   "metadata": {},
   "outputs": [
    {
     "data": {
      "text/plain": [
       "7"
      ]
     },
     "execution_count": 130,
     "metadata": {},
     "output_type": "execute_result"
    }
   ],
   "source": [
    "st.find(\"a\")"
   ]
  },
  {
   "cell_type": "code",
   "execution_count": 132,
   "id": "8c877ea1-2756-4919-8b54-dd14592c05c5",
   "metadata": {},
   "outputs": [
    {
     "data": {
      "text/plain": [
       "10"
      ]
     },
     "execution_count": 132,
     "metadata": {},
     "output_type": "execute_result"
    }
   ],
   "source": [
    "st.find(\"a\",8)"
   ]
  },
  {
   "cell_type": "code",
   "execution_count": 134,
   "id": "14fd7528-40d9-4af5-95ad-efdd0e7d5c23",
   "metadata": {},
   "outputs": [
    {
     "data": {
      "text/plain": [
       "10"
      ]
     },
     "execution_count": 134,
     "metadata": {},
     "output_type": "execute_result"
    }
   ],
   "source": [
    "st.find(\"a\",st.find(\"a\") + 1)"
   ]
  },
  {
   "cell_type": "code",
   "execution_count": 136,
   "id": "749bb66a-2f8a-418c-b92c-66ddc78b327a",
   "metadata": {},
   "outputs": [
    {
     "data": {
      "text/plain": [
       "14"
      ]
     },
     "execution_count": 136,
     "metadata": {},
     "output_type": "execute_result"
    }
   ],
   "source": [
    "st.find(\"a\", st.find(\"a\",st.find(\"a\") + 1)+1)"
   ]
  },
  {
   "cell_type": "code",
   "execution_count": 144,
   "id": "d1014ef4-776c-4801-a820-febb4bbb263c",
   "metadata": {},
   "outputs": [
    {
     "name": "stdout",
     "output_type": "stream",
     "text": [
      "Return a capitalized version of the string.More specifically, make the first character have upper case and the rest lower case.\n"
     ]
    }
   ],
   "source": [
    "print(st)"
   ]
  },
  {
   "cell_type": "code",
   "execution_count": 140,
   "id": "b6f20e6c-136f-4bd5-911b-6bdcbf7da3db",
   "metadata": {},
   "outputs": [
    {
     "data": {
      "text/plain": [
       "32"
      ]
     },
     "execution_count": 140,
     "metadata": {},
     "output_type": "execute_result"
    }
   ],
   "source": [
    "st.find(\"the\")"
   ]
  },
  {
   "cell_type": "code",
   "execution_count": 142,
   "id": "b2fa9c6f-3ed9-4e37-95cd-9931ba75f352",
   "metadata": {},
   "outputs": [
    {
     "data": {
      "text/plain": [
       "67"
      ]
     },
     "execution_count": 142,
     "metadata": {},
     "output_type": "execute_result"
    }
   ],
   "source": [
    "st.find(\"the\",st.find(\"the\")+1)"
   ]
  },
  {
   "cell_type": "code",
   "execution_count": 150,
   "id": "991a9ec9-9dc0-4179-8dcc-49c925c2ad5a",
   "metadata": {},
   "outputs": [
    {
     "data": {
      "text/plain": [
       "'the first'"
      ]
     },
     "execution_count": 150,
     "metadata": {},
     "output_type": "execute_result"
    }
   ],
   "source": [
    "st[67:76]"
   ]
  },
  {
   "cell_type": "code",
   "execution_count": 152,
   "id": "430a10cd-ee1a-4b9c-a966-5c697b7b2924",
   "metadata": {},
   "outputs": [
    {
     "data": {
      "text/plain": [
       "107"
      ]
     },
     "execution_count": 152,
     "metadata": {},
     "output_type": "execute_result"
    }
   ],
   "source": [
    "st.find(\"the\",st.find(\"the\",st.find(\"the\")+1)+1)"
   ]
  },
  {
   "cell_type": "code",
   "execution_count": 154,
   "id": "84e52a25-a0da-4aae-adfc-a87ece3899cd",
   "metadata": {},
   "outputs": [
    {
     "data": {
      "text/plain": [
       "'the rest lower case.'"
      ]
     },
     "execution_count": 154,
     "metadata": {},
     "output_type": "execute_result"
    }
   ],
   "source": [
    "st[107:]"
   ]
  },
  {
   "cell_type": "code",
   "execution_count": 211,
   "id": "afed909a-f5d1-4336-abb2-c1a0266e8c15",
   "metadata": {},
   "outputs": [],
   "source": [
    "st = \"The The\""
   ]
  },
  {
   "cell_type": "code",
   "execution_count": 213,
   "id": "8f118460-4c59-4f72-a9d8-2c6139131ff9",
   "metadata": {},
   "outputs": [
    {
     "data": {
      "text/plain": [
       "0"
      ]
     },
     "execution_count": 213,
     "metadata": {},
     "output_type": "execute_result"
    }
   ],
   "source": [
    "st.find(\"The\")"
   ]
  },
  {
   "cell_type": "code",
   "execution_count": 215,
   "id": "0e50ef03-b294-44ff-8d26-3204d22eaec4",
   "metadata": {},
   "outputs": [
    {
     "data": {
      "text/plain": [
       "-1"
      ]
     },
     "execution_count": 215,
     "metadata": {},
     "output_type": "execute_result"
    }
   ],
   "source": [
    "st.find(\"The\",5) # 5 is an index"
   ]
  },
  {
   "cell_type": "code",
   "execution_count": 174,
   "id": "b100ce23-db66-4f23-84f8-05f298601fe1",
   "metadata": {},
   "outputs": [
    {
     "data": {
      "text/plain": [
       "'The The'"
      ]
     },
     "execution_count": 174,
     "metadata": {},
     "output_type": "execute_result"
    }
   ],
   "source": [
    "st"
   ]
  },
  {
   "cell_type": "code",
   "execution_count": 178,
   "id": "98f7b94c-5a90-4aa2-8c7b-ec7b422300dc",
   "metadata": {},
   "outputs": [],
   "source": [
    "st = \"Thhe The\""
   ]
  },
  {
   "cell_type": "code",
   "execution_count": 180,
   "id": "679ef4e9-8e10-4e29-8adc-bc3602399285",
   "metadata": {},
   "outputs": [
    {
     "data": {
      "text/plain": [
       "1"
      ]
     },
     "execution_count": 180,
     "metadata": {},
     "output_type": "execute_result"
    }
   ],
   "source": [
    "st.find(\"h\")"
   ]
  },
  {
   "cell_type": "code",
   "execution_count": 184,
   "id": "2b05f79c-d9b9-45e9-a71f-ee4e70a8d36e",
   "metadata": {},
   "outputs": [
    {
     "data": {
      "text/plain": [
       "2"
      ]
     },
     "execution_count": 184,
     "metadata": {},
     "output_type": "execute_result"
    }
   ],
   "source": [
    "st.find(\"h\",2)"
   ]
  },
  {
   "cell_type": "code",
   "execution_count": 186,
   "id": "fa6ea683-8165-4a94-a206-79470bba471b",
   "metadata": {},
   "outputs": [
    {
     "data": {
      "text/plain": [
       "'programming is FUN'"
      ]
     },
     "execution_count": 186,
     "metadata": {},
     "output_type": "execute_result"
    }
   ],
   "source": [
    "string"
   ]
  },
  {
   "cell_type": "code",
   "execution_count": 188,
   "id": "bb2f9d68-07ae-4d44-a92e-8fc511dadfa2",
   "metadata": {},
   "outputs": [
    {
     "data": {
      "text/plain": [
       "-1"
      ]
     },
     "execution_count": 188,
     "metadata": {},
     "output_type": "execute_result"
    }
   ],
   "source": [
    "string.find(\"Modi\")"
   ]
  },
  {
   "cell_type": "code",
   "execution_count": 193,
   "id": "a783230b-7149-4f7a-b586-edca38351649",
   "metadata": {},
   "outputs": [],
   "source": [
    "# Index"
   ]
  },
  {
   "cell_type": "code",
   "execution_count": 195,
   "id": "caeb7275-ceaf-48ca-81e5-b965d36e00a2",
   "metadata": {},
   "outputs": [
    {
     "data": {
      "text/plain": [
       "'Thhe The'"
      ]
     },
     "execution_count": 195,
     "metadata": {},
     "output_type": "execute_result"
    }
   ],
   "source": [
    "st"
   ]
  },
  {
   "cell_type": "code",
   "execution_count": 197,
   "id": "fdbc5e15-356a-4fab-930d-29785548b3a7",
   "metadata": {},
   "outputs": [
    {
     "data": {
      "text/plain": [
       "0"
      ]
     },
     "execution_count": 197,
     "metadata": {},
     "output_type": "execute_result"
    }
   ],
   "source": [
    "st.index(\"T\")"
   ]
  },
  {
   "cell_type": "code",
   "execution_count": 199,
   "id": "4f9ae426-6163-4915-a491-a1cbd4960cd1",
   "metadata": {},
   "outputs": [
    {
     "data": {
      "text/plain": [
       "5"
      ]
     },
     "execution_count": 199,
     "metadata": {},
     "output_type": "execute_result"
    }
   ],
   "source": [
    "st.index(\"T\",1)"
   ]
  },
  {
   "cell_type": "code",
   "execution_count": 201,
   "id": "8dee4f03-9a98-4f9d-92db-e6699b4d7236",
   "metadata": {},
   "outputs": [
    {
     "ename": "ValueError",
     "evalue": "substring not found",
     "output_type": "error",
     "traceback": [
      "\u001b[0;31m---------------------------------------------------------------------------\u001b[0m",
      "\u001b[0;31mValueError\u001b[0m                                Traceback (most recent call last)",
      "Cell \u001b[0;32mIn[201], line 1\u001b[0m\n\u001b[0;32m----> 1\u001b[0m st\u001b[38;5;241m.\u001b[39mindex(\u001b[38;5;124m\"\u001b[39m\u001b[38;5;124mModi\u001b[39m\u001b[38;5;124m\"\u001b[39m)\n",
      "\u001b[0;31mValueError\u001b[0m: substring not found"
     ]
    }
   ],
   "source": [
    "st.index(\"Modi\")"
   ]
  },
  {
   "cell_type": "code",
   "execution_count": 203,
   "id": "7a9a0172-7dc5-46c9-ad3a-959e45f27459",
   "metadata": {},
   "outputs": [],
   "source": [
    "data = \"Return a capitalized version of the string.More specifically, make the first character have upper case and the rest lower case.\""
   ]
  },
  {
   "cell_type": "code",
   "execution_count": 205,
   "id": "9b10b686-88a1-408c-b554-a907df26bac6",
   "metadata": {},
   "outputs": [
    {
     "data": {
      "text/plain": [
       "'Return a capitalized version of the string.More specifically, make the first character have upper case and the rest lower case.'"
      ]
     },
     "execution_count": 205,
     "metadata": {},
     "output_type": "execute_result"
    }
   ],
   "source": [
    "data"
   ]
  },
  {
   "cell_type": "code",
   "execution_count": 207,
   "id": "e83e4d6c-c5d3-49e6-a237-aa0cdfec76ed",
   "metadata": {},
   "outputs": [
    {
     "data": {
      "text/plain": [
       "11"
      ]
     },
     "execution_count": 207,
     "metadata": {},
     "output_type": "execute_result"
    }
   ],
   "source": [
    "data.count(\"a\")"
   ]
  },
  {
   "cell_type": "code",
   "execution_count": 209,
   "id": "f969dfe3-9924-46f1-800c-f86e46c54212",
   "metadata": {},
   "outputs": [
    {
     "data": {
      "text/plain": [
       "3"
      ]
     },
     "execution_count": 209,
     "metadata": {},
     "output_type": "execute_result"
    }
   ],
   "source": [
    "data.count(\"the\")"
   ]
  },
  {
   "cell_type": "code",
   "execution_count": 226,
   "id": "cb0b0a75-3a90-42c5-93ea-b251360d750f",
   "metadata": {},
   "outputs": [
    {
     "data": {
      "text/plain": [
       "'programming is FUN'"
      ]
     },
     "execution_count": 226,
     "metadata": {},
     "output_type": "execute_result"
    }
   ],
   "source": [
    "string"
   ]
  },
  {
   "cell_type": "code",
   "execution_count": 232,
   "id": "30f58efd-5eae-4c64-a60f-5564a55fbdb4",
   "metadata": {},
   "outputs": [],
   "source": [
    "st1 = \"PROGRAMMING\""
   ]
  },
  {
   "cell_type": "code",
   "execution_count": 236,
   "id": "867b1643-00dd-4199-a3af-45295da29811",
   "metadata": {},
   "outputs": [
    {
     "data": {
      "text/plain": [
       "'G'"
      ]
     },
     "execution_count": 236,
     "metadata": {},
     "output_type": "execute_result"
    }
   ],
   "source": [
    "st1[-1]"
   ]
  },
  {
   "cell_type": "code",
   "execution_count": 238,
   "id": "145cbf59-7943-4a92-9a94-f29c02ac3f2a",
   "metadata": {},
   "outputs": [
    {
     "data": {
      "text/plain": [
       "'programming is FUN'"
      ]
     },
     "execution_count": 238,
     "metadata": {},
     "output_type": "execute_result"
    }
   ],
   "source": [
    "string"
   ]
  },
  {
   "cell_type": "code",
   "execution_count": 242,
   "id": "76d69d86-2af9-4b58-ae64-7f3aafc32b34",
   "metadata": {},
   "outputs": [
    {
     "data": {
      "text/plain": [
       "'programming IS FUN'"
      ]
     },
     "execution_count": 242,
     "metadata": {},
     "output_type": "execute_result"
    }
   ],
   "source": [
    "string.replace(\"is\",\"IS\")"
   ]
  },
  {
   "cell_type": "code",
   "execution_count": 244,
   "id": "1279ef9d-742f-4621-b615-5065e613738a",
   "metadata": {},
   "outputs": [
    {
     "data": {
      "text/plain": [
       "'Return a capitalized version of the string.More specifically, make the first character have upper case and the rest lower case.'"
      ]
     },
     "execution_count": 244,
     "metadata": {},
     "output_type": "execute_result"
    }
   ],
   "source": [
    "data"
   ]
  },
  {
   "cell_type": "code",
   "execution_count": 246,
   "id": "24d8416a-3426-49e1-9fb6-e57951ff16a0",
   "metadata": {},
   "outputs": [
    {
     "data": {
      "text/plain": [
       "'Return a capitalized version of THE string.More specifically, make THE first character have upper case and THE rest lower case.'"
      ]
     },
     "execution_count": 246,
     "metadata": {},
     "output_type": "execute_result"
    }
   ],
   "source": [
    "data.replace(\"the\",\"THE\")"
   ]
  },
  {
   "cell_type": "markdown",
   "id": "d334ee27-6aae-4ab8-a4dd-426361e25e9e",
   "metadata": {},
   "source": [
    "### Split, rsplit, partition, rpartition"
   ]
  },
  {
   "cell_type": "code",
   "execution_count": 249,
   "id": "d6692819-036a-4ec3-bae0-e83947008bd1",
   "metadata": {},
   "outputs": [],
   "source": [
    "bucket = \"Bread,Chicken,Egg,Milk,Soya,Wheat,Chocolates\""
   ]
  },
  {
   "cell_type": "markdown",
   "id": "7c008557-1324-4b81-8157-36c98de4194c",
   "metadata": {},
   "source": [
    "# split: \n",
    "\n",
    "using this function we can split the data based on any char or special char, by default split function works based on space, this function returns an output in the form of list data structure. Split function split the data from the left side."
   ]
  },
  {
   "cell_type": "code",
   "execution_count": 252,
   "id": "bc8930ef-e052-4aae-9d49-fd4d60cff2b1",
   "metadata": {},
   "outputs": [
    {
     "data": {
      "text/plain": [
       "'Bread,Chicken,Egg,Milk,Soya,Wheat,Chocolates'"
      ]
     },
     "execution_count": 252,
     "metadata": {},
     "output_type": "execute_result"
    }
   ],
   "source": [
    "bucket"
   ]
  },
  {
   "cell_type": "code",
   "execution_count": 254,
   "id": "a1b6c9f5-af75-4053-9b4c-e0703cc5926c",
   "metadata": {},
   "outputs": [
    {
     "data": {
      "text/plain": [
       "['Bread,Chicken,Egg,Milk,Soya,Wheat,Chocolates']"
      ]
     },
     "execution_count": 254,
     "metadata": {},
     "output_type": "execute_result"
    }
   ],
   "source": [
    "bucket.split() # I mentioned by default based on space"
   ]
  },
  {
   "cell_type": "code",
   "execution_count": 256,
   "id": "de3608cb-3653-4877-8758-327d11bcf1d0",
   "metadata": {},
   "outputs": [
    {
     "data": {
      "text/plain": [
       "'programming is FUN'"
      ]
     },
     "execution_count": 256,
     "metadata": {},
     "output_type": "execute_result"
    }
   ],
   "source": [
    "string"
   ]
  },
  {
   "cell_type": "code",
   "execution_count": 258,
   "id": "e409c93a-0805-474a-b993-b706e638c2fc",
   "metadata": {},
   "outputs": [
    {
     "data": {
      "text/plain": [
       "['programming', 'is', 'FUN']"
      ]
     },
     "execution_count": 258,
     "metadata": {},
     "output_type": "execute_result"
    }
   ],
   "source": [
    "string.split()"
   ]
  },
  {
   "cell_type": "code",
   "execution_count": 260,
   "id": "33ec53c9-6c33-4a81-9fb2-473eceab9cc4",
   "metadata": {},
   "outputs": [
    {
     "data": {
      "text/plain": [
       "3"
      ]
     },
     "execution_count": 260,
     "metadata": {},
     "output_type": "execute_result"
    }
   ],
   "source": [
    "len(string.split())"
   ]
  },
  {
   "cell_type": "code",
   "execution_count": 262,
   "id": "ab51cfd8-5af2-4d4c-b68e-4ec5ea613044",
   "metadata": {},
   "outputs": [
    {
     "data": {
      "text/plain": [
       "['Bread', 'Chicken', 'Egg', 'Milk', 'Soya', 'Wheat', 'Chocolates']"
      ]
     },
     "execution_count": 262,
     "metadata": {},
     "output_type": "execute_result"
    }
   ],
   "source": [
    "bucket.split(\",\")"
   ]
  },
  {
   "cell_type": "code",
   "execution_count": 264,
   "id": "79a9a0bc-48e0-4e5e-8408-6073014dad29",
   "metadata": {},
   "outputs": [
    {
     "data": {
      "text/plain": [
       "'Bread,Chicken,Egg,Milk,Soya,Wheat,Chocolates'"
      ]
     },
     "execution_count": 264,
     "metadata": {},
     "output_type": "execute_result"
    }
   ],
   "source": [
    "bucket"
   ]
  },
  {
   "cell_type": "code",
   "execution_count": 266,
   "id": "02d05d0d-6a55-4192-82fd-caa765dc6415",
   "metadata": {},
   "outputs": [
    {
     "data": {
      "text/plain": [
       "['Bread', 'Chicken', 'Egg', 'Milk,Soya,Wheat,Chocolates']"
      ]
     },
     "execution_count": 266,
     "metadata": {},
     "output_type": "execute_result"
    }
   ],
   "source": [
    "bucket.split(\",\",3)"
   ]
  },
  {
   "cell_type": "code",
   "execution_count": 268,
   "id": "223265bf-8ae2-4e8d-aace-ad4a39193d7a",
   "metadata": {},
   "outputs": [
    {
     "data": {
      "text/plain": [
       "4"
      ]
     },
     "execution_count": 268,
     "metadata": {},
     "output_type": "execute_result"
    }
   ],
   "source": [
    "len(bucket.split(\",\",3))"
   ]
  },
  {
   "cell_type": "code",
   "execution_count": 270,
   "id": "cc834bfc-c5a5-4c24-99e8-ae1ebc51e1e3",
   "metadata": {},
   "outputs": [],
   "source": [
    "email = \"myprogrammingisfun@gmail.com\""
   ]
  },
  {
   "cell_type": "code",
   "execution_count": 272,
   "id": "ba980699-9651-43b8-a6f9-f707215388c1",
   "metadata": {},
   "outputs": [
    {
     "data": {
      "text/plain": [
       "['myprogrammingisfun', 'gmail.com']"
      ]
     },
     "execution_count": 272,
     "metadata": {},
     "output_type": "execute_result"
    }
   ],
   "source": [
    "email.split(\"@\")"
   ]
  },
  {
   "cell_type": "code",
   "execution_count": 274,
   "id": "ca6d33fe-4806-4986-b30f-d6740b96db6a",
   "metadata": {},
   "outputs": [
    {
     "name": "stdout",
     "output_type": "stream",
     "text": [
      "UserName:  myprogrammingisfun\n"
     ]
    }
   ],
   "source": [
    "print(\"UserName: \", email.split(\"@\")[0])"
   ]
  },
  {
   "cell_type": "code",
   "execution_count": 276,
   "id": "16e94b8c-4c18-4c91-aa96-6d8e2b4625a4",
   "metadata": {},
   "outputs": [
    {
     "name": "stdout",
     "output_type": "stream",
     "text": [
      "DomainName:  gmail.com\n"
     ]
    }
   ],
   "source": [
    "print(\"DomainName: \", email.split(\"@\")[1])"
   ]
  },
  {
   "cell_type": "code",
   "execution_count": 278,
   "id": "c9fac112-ef67-4a16-aa36-384e277e33a5",
   "metadata": {},
   "outputs": [
    {
     "name": "stdout",
     "output_type": "stream",
     "text": [
      "DomainName:  gmail.com\n"
     ]
    }
   ],
   "source": [
    "print(\"DomainName: \", email.split(\"@\")[-1])"
   ]
  },
  {
   "cell_type": "code",
   "execution_count": 280,
   "id": "955de3f0-613b-4545-97fe-bb4e6692cb13",
   "metadata": {},
   "outputs": [],
   "source": [
    "name = \"Som Kumar Singh\""
   ]
  },
  {
   "cell_type": "code",
   "execution_count": 282,
   "id": "01875f25-06cf-433e-ab5d-dbbf06c3811b",
   "metadata": {},
   "outputs": [
    {
     "data": {
      "text/plain": [
       "['Som', 'Kumar', 'Singh']"
      ]
     },
     "execution_count": 282,
     "metadata": {},
     "output_type": "execute_result"
    }
   ],
   "source": [
    "name.split()"
   ]
  },
  {
   "cell_type": "code",
   "execution_count": 294,
   "id": "9d18ad15-e179-4928-8cb6-f8fe2df3f7a2",
   "metadata": {},
   "outputs": [
    {
     "data": {
      "text/plain": [
       "'Som'"
      ]
     },
     "execution_count": 294,
     "metadata": {},
     "output_type": "execute_result"
    }
   ],
   "source": [
    "name.split()[-3]"
   ]
  },
  {
   "cell_type": "code",
   "execution_count": 296,
   "id": "fcdfd9f5-0f85-42d0-8242-3fe8681d761e",
   "metadata": {},
   "outputs": [],
   "source": [
    "st1 = \"Programmmmming\""
   ]
  },
  {
   "cell_type": "code",
   "execution_count": 298,
   "id": "23d45169-df9f-4f9a-bf79-d91d98e0950e",
   "metadata": {},
   "outputs": [
    {
     "data": {
      "text/plain": [
       "['Progra', '', '', '', '', 'ing']"
      ]
     },
     "execution_count": 298,
     "metadata": {},
     "output_type": "execute_result"
    }
   ],
   "source": [
    "st1.split(\"m\")"
   ]
  },
  {
   "cell_type": "code",
   "execution_count": 300,
   "id": "45cd6314-6c32-45c4-8b2c-fe253d9bf470",
   "metadata": {},
   "outputs": [
    {
     "data": {
      "text/plain": [
       "['Bread', 'Chicken', 'Egg', 'Milk', 'Soya', 'Wheat', 'Chocolates']"
      ]
     },
     "execution_count": 300,
     "metadata": {},
     "output_type": "execute_result"
    }
   ],
   "source": [
    "bucket.split(\",\")"
   ]
  },
  {
   "cell_type": "markdown",
   "id": "82ef2fc1-9633-4a4a-8862-66c035838d84",
   "metadata": {},
   "source": [
    "# rsplit:\n",
    "\n",
    "Note: split and rsplit both are same split : works from the left side and rsplit works from the right side."
   ]
  },
  {
   "cell_type": "code",
   "execution_count": 307,
   "id": "6263a311-483b-4d5d-b058-0743b9270839",
   "metadata": {},
   "outputs": [],
   "source": [
    "name = 'Som       Kumar        Singh'"
   ]
  },
  {
   "cell_type": "code",
   "execution_count": 309,
   "id": "5808dada-5708-4972-b405-62d9b381ccba",
   "metadata": {},
   "outputs": [
    {
     "data": {
      "text/plain": [
       "['Som', 'Kumar', 'Singh']"
      ]
     },
     "execution_count": 309,
     "metadata": {},
     "output_type": "execute_result"
    }
   ],
   "source": [
    "name.split()"
   ]
  },
  {
   "cell_type": "code",
   "execution_count": 311,
   "id": "074dd3e4-b5f0-417d-8a62-682421129ae2",
   "metadata": {},
   "outputs": [
    {
     "data": {
      "text/plain": [
       "'Programmmmming'"
      ]
     },
     "execution_count": 311,
     "metadata": {},
     "output_type": "execute_result"
    }
   ],
   "source": [
    "st1"
   ]
  },
  {
   "cell_type": "code",
   "execution_count": 313,
   "id": "5f42663c-6584-4fb4-9742-cae753eb7682",
   "metadata": {},
   "outputs": [
    {
     "data": {
      "text/plain": [
       "['Progra', '', '', '', '', 'ing']"
      ]
     },
     "execution_count": 313,
     "metadata": {},
     "output_type": "execute_result"
    }
   ],
   "source": [
    "st1.split(\"m\")"
   ]
  },
  {
   "cell_type": "code",
   "execution_count": null,
   "id": "8d9752b7-05aa-4b22-bf6b-beb803f0261e",
   "metadata": {},
   "outputs": [],
   "source": [
    "Progra    "
   ]
  },
  {
   "cell_type": "code",
   "execution_count": 315,
   "id": "12722a10-3c57-4c90-8203-7db71dbab8c6",
   "metadata": {},
   "outputs": [],
   "source": [
    "name = 'Som|||||Kumar|||||||Singh'"
   ]
  },
  {
   "cell_type": "code",
   "execution_count": 317,
   "id": "fc0c3a2e-5c04-45e7-afc6-28c2defa2c38",
   "metadata": {},
   "outputs": [
    {
     "data": {
      "text/plain": [
       "['Som', '', '', '', '', 'Kumar', '', '', '', '', '', '', 'Singh']"
      ]
     },
     "execution_count": 317,
     "metadata": {},
     "output_type": "execute_result"
    }
   ],
   "source": [
    "name.split(\"|\")"
   ]
  },
  {
   "cell_type": "code",
   "execution_count": 319,
   "id": "cdcf5860-edbe-48b5-aebd-c1ee47f3b93c",
   "metadata": {},
   "outputs": [
    {
     "data": {
      "text/plain": [
       "'Bread,Chicken,Egg,Milk,Soya,Wheat,Chocolates'"
      ]
     },
     "execution_count": 319,
     "metadata": {},
     "output_type": "execute_result"
    }
   ],
   "source": [
    "bucket"
   ]
  },
  {
   "cell_type": "code",
   "execution_count": 321,
   "id": "3cfcd977-2dc7-44cb-b469-91af87e1dfea",
   "metadata": {},
   "outputs": [
    {
     "data": {
      "text/plain": [
       "['Bread', 'Chicken', 'Egg', 'Milk', 'Soya', 'Wheat', 'Chocolates']"
      ]
     },
     "execution_count": 321,
     "metadata": {},
     "output_type": "execute_result"
    }
   ],
   "source": [
    "bucket.rsplit(\",\")"
   ]
  },
  {
   "cell_type": "code",
   "execution_count": 323,
   "id": "3c8d4bc3-3bbe-4d10-9fdd-52cb80a5a793",
   "metadata": {},
   "outputs": [
    {
     "data": {
      "text/plain": [
       "['Bread,Chicken,Egg,Milk', 'Soya', 'Wheat', 'Chocolates']"
      ]
     },
     "execution_count": 323,
     "metadata": {},
     "output_type": "execute_result"
    }
   ],
   "source": [
    "bucket.rsplit(\",\",3)"
   ]
  },
  {
   "cell_type": "code",
   "execution_count": 325,
   "id": "37ce0987-d8e1-45c1-9208-bbcc7d556760",
   "metadata": {},
   "outputs": [
    {
     "data": {
      "text/plain": [
       "['Bread', 'Chicken', 'Egg', 'Milk,Soya,Wheat,Chocolates']"
      ]
     },
     "execution_count": 325,
     "metadata": {},
     "output_type": "execute_result"
    }
   ],
   "source": [
    "bucket.split(\",\",3)"
   ]
  },
  {
   "cell_type": "code",
   "execution_count": 327,
   "id": "5215c5f6-ed0e-4286-a18a-51e6b5cb2faf",
   "metadata": {},
   "outputs": [
    {
     "data": {
      "text/plain": [
       "'upGradupGrad'"
      ]
     },
     "execution_count": 327,
     "metadata": {},
     "output_type": "execute_result"
    }
   ],
   "source": [
    "'upGrad' * 2"
   ]
  },
  {
   "cell_type": "code",
   "execution_count": 329,
   "id": "66b969ac-b6da-4cd0-af4a-f3824b5c079d",
   "metadata": {},
   "outputs": [
    {
     "data": {
      "text/plain": [
       "'Bread,Chicken,Egg,Milk,Soya,Wheat,Chocolates'"
      ]
     },
     "execution_count": 329,
     "metadata": {},
     "output_type": "execute_result"
    }
   ],
   "source": [
    "bucket"
   ]
  },
  {
   "cell_type": "code",
   "execution_count": 331,
   "id": "b297a681-fe71-49ab-afe1-f20d27173ab2",
   "metadata": {},
   "outputs": [
    {
     "data": {
      "text/plain": [
       "['Bread', 'Chicken', 'Egg', 'Milk', 'Soya', 'Wheat', 'Chocolates']"
      ]
     },
     "execution_count": 331,
     "metadata": {},
     "output_type": "execute_result"
    }
   ],
   "source": [
    "bucket.rsplit(\",\",-3)"
   ]
  },
  {
   "cell_type": "code",
   "execution_count": 342,
   "id": "92c6883f-36bf-4c06-8b6e-c12a37282507",
   "metadata": {},
   "outputs": [
    {
     "data": {
      "text/plain": [
       "\u001b[0;31mSignature:\u001b[0m \u001b[0mbucket\u001b[0m\u001b[0;34m.\u001b[0m\u001b[0msplit\u001b[0m\u001b[0;34m(\u001b[0m\u001b[0msep\u001b[0m\u001b[0;34m=\u001b[0m\u001b[0;32mNone\u001b[0m\u001b[0;34m,\u001b[0m \u001b[0mmaxsplit\u001b[0m\u001b[0;34m=\u001b[0m\u001b[0;34m-\u001b[0m\u001b[0;36m1\u001b[0m\u001b[0;34m)\u001b[0m\u001b[0;34m\u001b[0m\u001b[0;34m\u001b[0m\u001b[0m\n",
       "\u001b[0;31mDocstring:\u001b[0m\n",
       "Return a list of the substrings in the string, using sep as the separator string.\n",
       "\n",
       "  sep\n",
       "    The separator used to split the string.\n",
       "\n",
       "    When set to None (the default value), will split on any whitespace\n",
       "    character (including \\n \\r \\t \\f and spaces) and will discard\n",
       "    empty strings from the result.\n",
       "  maxsplit\n",
       "    Maximum number of splits.\n",
       "    -1 (the default value) means no limit.\n",
       "\n",
       "Splitting starts at the front of the string and works to the end.\n",
       "\n",
       "Note, str.split() is mainly useful for data that has been intentionally\n",
       "delimited.  With natural text that includes punctuation, consider using\n",
       "the regular expression module.\n",
       "\u001b[0;31mType:\u001b[0m      builtin_function_or_method"
      ]
     },
     "metadata": {},
     "output_type": "display_data"
    }
   ],
   "source": [
    "bucket.split?"
   ]
  },
  {
   "cell_type": "code",
   "execution_count": 344,
   "id": "1fbbbab3-b400-4a29-bce9-5a09303a1123",
   "metadata": {},
   "outputs": [
    {
     "data": {
      "text/plain": [
       "'Bread,Chicken,Egg,Milk,Soya,Wheat,Chocolates'"
      ]
     },
     "execution_count": 344,
     "metadata": {},
     "output_type": "execute_result"
    }
   ],
   "source": [
    "bucket"
   ]
  },
  {
   "cell_type": "code",
   "execution_count": 346,
   "id": "f37536c2-35b5-494a-a2a4-4eea01f5e16e",
   "metadata": {},
   "outputs": [
    {
     "data": {
      "text/plain": [
       "['Bread', 'Chicken', 'Egg', 'Milk', 'Soya', 'Wheat', 'Chocolates']"
      ]
     },
     "execution_count": 346,
     "metadata": {},
     "output_type": "execute_result"
    }
   ],
   "source": [
    "bucket.split(\",\")"
   ]
  },
  {
   "cell_type": "code",
   "execution_count": 348,
   "id": "1c07268f-af40-423b-b605-3272ed0c3f74",
   "metadata": {},
   "outputs": [
    {
     "data": {
      "text/plain": [
       "['Bread,Chicken,Egg,Milk,Soya,Wheat,Chocolates']"
      ]
     },
     "execution_count": 348,
     "metadata": {},
     "output_type": "execute_result"
    }
   ],
   "source": [
    "bucket.split(\"#\")"
   ]
  },
  {
   "cell_type": "code",
   "execution_count": 350,
   "id": "0e53f735-e1dc-4061-93e6-3227f1bc4da3",
   "metadata": {},
   "outputs": [
    {
     "data": {
      "text/plain": [
       "'Som|||||Kumar|||||||Singh'"
      ]
     },
     "execution_count": 350,
     "metadata": {},
     "output_type": "execute_result"
    }
   ],
   "source": [
    "name"
   ]
  },
  {
   "cell_type": "code",
   "execution_count": 352,
   "id": "a10c9351-2c52-49d5-b788-133bf9df0eab",
   "metadata": {},
   "outputs": [
    {
     "data": {
      "text/plain": [
       "['Som|||||Kumar|||||||Singh']"
      ]
     },
     "execution_count": 352,
     "metadata": {},
     "output_type": "execute_result"
    }
   ],
   "source": [
    "name.split(\"#\")"
   ]
  },
  {
   "cell_type": "code",
   "execution_count": 354,
   "id": "c0289e07-dd4c-46da-91fb-01e92be7d0bf",
   "metadata": {},
   "outputs": [
    {
     "data": {
      "text/plain": [
       "'Return a capitalized version of the string.More specifically, make the first character have upper case and the rest lower case.'"
      ]
     },
     "execution_count": 354,
     "metadata": {},
     "output_type": "execute_result"
    }
   ],
   "source": [
    "data"
   ]
  },
  {
   "cell_type": "code",
   "execution_count": 358,
   "id": "8a3f833c-b58a-47c9-b3ce-7c96f4dd8fc2",
   "metadata": {},
   "outputs": [],
   "source": [
    "newdata = data.replace(\" \",\"-\")"
   ]
  },
  {
   "cell_type": "code",
   "execution_count": 360,
   "id": "befd5c7a-f0bc-426f-9ca5-793250af20c4",
   "metadata": {},
   "outputs": [
    {
     "data": {
      "text/plain": [
       "'Return-a-capitalized-version-of-the-string.More-specifically,-make-the-first-character-have-upper-case-and-the-rest-lower-case.'"
      ]
     },
     "execution_count": 360,
     "metadata": {},
     "output_type": "execute_result"
    }
   ],
   "source": [
    "newdata"
   ]
  },
  {
   "cell_type": "code",
   "execution_count": 364,
   "id": "42f7f0c7-ab82-4d4a-bd54-2786191a0cf5",
   "metadata": {},
   "outputs": [
    {
     "name": "stdout",
     "output_type": "stream",
     "text": [
      "['Return', 'a', 'capitalized', 'version', 'of', 'the', 'string.More', 'specifically,', 'make', 'the', 'first', 'character', 'have', 'upper', 'case', 'and', 'the', 'rest', 'lower', 'case.']\n"
     ]
    }
   ],
   "source": [
    "print(newdata.split(\"-\"))"
   ]
  },
  {
   "cell_type": "code",
   "execution_count": 366,
   "id": "1efc3ec1-daf0-4fad-a595-b509e42b6266",
   "metadata": {},
   "outputs": [
    {
     "data": {
      "text/plain": [
       "'*****'"
      ]
     },
     "execution_count": 366,
     "metadata": {},
     "output_type": "execute_result"
    }
   ],
   "source": [
    "\"*\" * 5"
   ]
  },
  {
   "cell_type": "markdown",
   "id": "0d6d9d88-1a08-4533-9f9e-129f1ffe813c",
   "metadata": {},
   "source": [
    "### Home Task"
   ]
  },
  {
   "cell_type": "code",
   "execution_count": 374,
   "id": "83cb0d2e-1e3e-41fc-8943-89e7ce3073fd",
   "metadata": {},
   "outputs": [
    {
     "name": "stdin",
     "output_type": "stream",
     "text": [
      "Enter your email:  par.pandey@gmail.com\n"
     ]
    },
    {
     "name": "stdout",
     "output_type": "stream",
     "text": [
      "par.pandey@gmail.com\n"
     ]
    }
   ],
   "source": [
    "email = input(\"Enter your email: \")\n",
    "print(email)"
   ]
  },
  {
   "cell_type": "code",
   "execution_count": 376,
   "id": "bce60fd0-7578-4b51-ae9e-ea37e4a15063",
   "metadata": {},
   "outputs": [
    {
     "data": {
      "text/plain": [
       "'par.pandey@gmail.com'"
      ]
     },
     "execution_count": 376,
     "metadata": {},
     "output_type": "execute_result"
    }
   ],
   "source": [
    "email"
   ]
  },
  {
   "cell_type": "code",
   "execution_count": null,
   "id": "254147d9-dd57-4070-a631-e0078d053f7d",
   "metadata": {},
   "outputs": [],
   "source": [
    "# p********y@g****.com"
   ]
  },
  {
   "cell_type": "code",
   "execution_count": 380,
   "id": "d2b37d41-89ac-401b-9758-9ad100e41ecf",
   "metadata": {},
   "outputs": [],
   "source": [
    "# \"abc@yahoo.co.in\""
   ]
  },
  {
   "cell_type": "code",
   "execution_count": null,
   "id": "91a43c2c-be30-4759-a9a2-ceb6078dc438",
   "metadata": {},
   "outputs": [],
   "source": [
    "# a*c@y*******.in"
   ]
  },
  {
   "cell_type": "code",
   "execution_count": 382,
   "id": "e673dd07-2949-48ec-ac70-295bd978b184",
   "metadata": {},
   "outputs": [
    {
     "data": {
      "text/plain": [
       "'satish.kumar@rediffmail.com'"
      ]
     },
     "execution_count": 382,
     "metadata": {},
     "output_type": "execute_result"
    }
   ],
   "source": [
    "\"satish.kumar@rediffmail.com\""
   ]
  },
  {
   "cell_type": "markdown",
   "id": "e37f1046-8e54-46fe-8864-d16236bdaa35",
   "metadata": {},
   "source": [
    "### partition, rpartition, lstrip, rstrip, strip, join, swapcase"
   ]
  },
  {
   "cell_type": "markdown",
   "id": "4878c794-0798-4f78-8269-272a96705f0e",
   "metadata": {},
   "source": [
    "# partiton and rpartition\n",
    "\n",
    "partition: this function return always 3 items within the tuple, you can partition your data based on any char."
   ]
  },
  {
   "cell_type": "code",
   "execution_count": 390,
   "id": "ad8b8be6-45e2-4b3f-9959-09a1dd26b769",
   "metadata": {},
   "outputs": [
    {
     "data": {
      "text/plain": [
       "'Bread,Chicken,Egg,Milk,Soya,Wheat,Chocolates'"
      ]
     },
     "execution_count": 390,
     "metadata": {},
     "output_type": "execute_result"
    }
   ],
   "source": [
    "bucket"
   ]
  },
  {
   "cell_type": "code",
   "execution_count": 392,
   "id": "3b47513a-dc17-492a-a048-dbb7897e5889",
   "metadata": {},
   "outputs": [
    {
     "data": {
      "text/plain": [
       "('Bread', ',', 'Chicken,Egg,Milk,Soya,Wheat,Chocolates')"
      ]
     },
     "execution_count": 392,
     "metadata": {},
     "output_type": "execute_result"
    }
   ],
   "source": [
    "bucket.partition(\",\")"
   ]
  },
  {
   "cell_type": "code",
   "execution_count": 394,
   "id": "20f253f5-9f3f-48c5-beb3-d31e87efb183",
   "metadata": {},
   "outputs": [
    {
     "data": {
      "text/plain": [
       "'Som|||||Kumar|||||||Singh'"
      ]
     },
     "execution_count": 394,
     "metadata": {},
     "output_type": "execute_result"
    }
   ],
   "source": [
    "name"
   ]
  },
  {
   "cell_type": "code",
   "execution_count": 396,
   "id": "396e9179-628c-4885-bf57-4c68c9c8d3e5",
   "metadata": {},
   "outputs": [
    {
     "data": {
      "text/plain": [
       "('Som|||||', 'K', 'umar|||||||Singh')"
      ]
     },
     "execution_count": 396,
     "metadata": {},
     "output_type": "execute_result"
    }
   ],
   "source": [
    "name.partition(\"K\")"
   ]
  },
  {
   "cell_type": "code",
   "execution_count": 398,
   "id": "31b15dcf-7c39-4d8b-9e91-617099a56445",
   "metadata": {},
   "outputs": [
    {
     "data": {
      "text/plain": [
       "('Som|||||Kumar|||||||', 'S', 'ingh')"
      ]
     },
     "execution_count": 398,
     "metadata": {},
     "output_type": "execute_result"
    }
   ],
   "source": [
    "name.rpartition(\"S\")"
   ]
  },
  {
   "cell_type": "code",
   "execution_count": 400,
   "id": "1459cf3e-c378-4f07-9013-4586ffcf8c17",
   "metadata": {},
   "outputs": [
    {
     "data": {
      "text/plain": [
       "'Som|||||Kumar|||||||Singh'"
      ]
     },
     "execution_count": 400,
     "metadata": {},
     "output_type": "execute_result"
    }
   ],
   "source": [
    "name"
   ]
  },
  {
   "cell_type": "code",
   "execution_count": 402,
   "id": "39c90cca-acf5-42d5-9dca-368858200482",
   "metadata": {},
   "outputs": [
    {
     "data": {
      "text/plain": [
       "('Som|||||Kumar|||||||Singh', '', '')"
      ]
     },
     "execution_count": 402,
     "metadata": {},
     "output_type": "execute_result"
    }
   ],
   "source": [
    "name.partition(\"@\")"
   ]
  },
  {
   "cell_type": "code",
   "execution_count": 404,
   "id": "8d2c1221-ad57-4b96-9769-f4ac53b15d4d",
   "metadata": {},
   "outputs": [],
   "source": [
    "name = \"AbhisheakSaraswat\""
   ]
  },
  {
   "cell_type": "code",
   "execution_count": 406,
   "id": "dda892f8-9522-4542-9e69-c0350f2d5579",
   "metadata": {},
   "outputs": [
    {
     "data": {
      "text/plain": [
       "'aBHISHEAKsARASWAT'"
      ]
     },
     "execution_count": 406,
     "metadata": {},
     "output_type": "execute_result"
    }
   ],
   "source": [
    "name.swapcase() # change to upper to lower and vice-versa"
   ]
  },
  {
   "cell_type": "code",
   "execution_count": 408,
   "id": "194b7981-7805-4eb0-b533-b7a0830b8cdb",
   "metadata": {},
   "outputs": [],
   "source": [
    "# lstrip: strip the data from the left side by default based on space\n",
    "# rstrip: strip the data from the right side by default based on space\n",
    "# strip: strip the data from the both side by default based on space"
   ]
  },
  {
   "cell_type": "code",
   "execution_count": 410,
   "id": "b3706295-8df5-4f0b-8d94-05b1e1c6a871",
   "metadata": {},
   "outputs": [],
   "source": [
    "data1 = \"   Abhisheak Saraswat    \""
   ]
  },
  {
   "cell_type": "code",
   "execution_count": 412,
   "id": "32f101b2-6e77-4303-b76b-5c8567a60fb3",
   "metadata": {},
   "outputs": [
    {
     "data": {
      "text/plain": [
       "'Abhisheak Saraswat'"
      ]
     },
     "execution_count": 412,
     "metadata": {},
     "output_type": "execute_result"
    }
   ],
   "source": [
    "data1.strip()"
   ]
  },
  {
   "cell_type": "code",
   "execution_count": 414,
   "id": "04ad440d-7374-4a84-9ed2-7a785589cd27",
   "metadata": {},
   "outputs": [
    {
     "data": {
      "text/plain": [
       "'Abhisheak Saraswat    '"
      ]
     },
     "execution_count": 414,
     "metadata": {},
     "output_type": "execute_result"
    }
   ],
   "source": [
    "data1.lstrip()"
   ]
  },
  {
   "cell_type": "code",
   "execution_count": 416,
   "id": "0e4fc4ba-2668-407e-a7a9-e8a688d10178",
   "metadata": {},
   "outputs": [
    {
     "data": {
      "text/plain": [
       "'   Abhisheak Saraswat'"
      ]
     },
     "execution_count": 416,
     "metadata": {},
     "output_type": "execute_result"
    }
   ],
   "source": [
    "data1.rstrip()"
   ]
  },
  {
   "cell_type": "code",
   "execution_count": 418,
   "id": "c8f7b1d1-d31d-4958-8917-8ae0fd32f8f3",
   "metadata": {},
   "outputs": [],
   "source": [
    "data2 = \"!!!Abhisheak!!!!!!\""
   ]
  },
  {
   "cell_type": "code",
   "execution_count": 420,
   "id": "18e22fdb-11f9-4e64-a355-5610db730332",
   "metadata": {},
   "outputs": [
    {
     "data": {
      "text/plain": [
       "'!!!Abhisheak'"
      ]
     },
     "execution_count": 420,
     "metadata": {},
     "output_type": "execute_result"
    }
   ],
   "source": [
    "data2.rstrip(\"!\")"
   ]
  },
  {
   "cell_type": "code",
   "execution_count": 422,
   "id": "c1040ec0-6144-4c46-9cb5-c6629adae98d",
   "metadata": {},
   "outputs": [
    {
     "data": {
      "text/plain": [
       "'Abhisheak'"
      ]
     },
     "execution_count": 422,
     "metadata": {},
     "output_type": "execute_result"
    }
   ],
   "source": [
    "data2.strip(\"!\")"
   ]
  },
  {
   "cell_type": "code",
   "execution_count": 424,
   "id": "2febd2fb-f98d-4947-bb8a-202d6684da42",
   "metadata": {},
   "outputs": [
    {
     "data": {
      "text/plain": [
       "'Bread,Chicken,Egg,Milk,Soya,Wheat,Chocolates'"
      ]
     },
     "execution_count": 424,
     "metadata": {},
     "output_type": "execute_result"
    }
   ],
   "source": [
    "bucket"
   ]
  },
  {
   "cell_type": "code",
   "execution_count": 426,
   "id": "0d94f88d-d460-4bbb-9938-a5066da88e4f",
   "metadata": {},
   "outputs": [
    {
     "data": {
      "text/plain": [
       "['Bread', 'Chicken', 'Egg', 'Milk', 'Soya', 'Wheat', 'Chocolates']"
      ]
     },
     "execution_count": 426,
     "metadata": {},
     "output_type": "execute_result"
    }
   ],
   "source": [
    "bucket.split(\",\")"
   ]
  },
  {
   "cell_type": "code",
   "execution_count": 428,
   "id": "a68b894d-fc72-46c0-bee6-3d4a16cc8021",
   "metadata": {},
   "outputs": [
    {
     "data": {
      "text/plain": [
       "'Bread.Chicken.Egg.Milk.Soya.Wheat.Chocolates'"
      ]
     },
     "execution_count": 428,
     "metadata": {},
     "output_type": "execute_result"
    }
   ],
   "source": [
    "\".\".join(bucket.split(\",\"))"
   ]
  },
  {
   "cell_type": "code",
   "execution_count": 430,
   "id": "f0f71031-f36a-422c-a409-e81d2bac5530",
   "metadata": {},
   "outputs": [
    {
     "data": {
      "text/plain": [
       "'Bread-Chicken-Egg-Milk-Soya-Wheat-Chocolates'"
      ]
     },
     "execution_count": 430,
     "metadata": {},
     "output_type": "execute_result"
    }
   ],
   "source": [
    "\"-\".join(bucket.split(\",\"))"
   ]
  },
  {
   "cell_type": "code",
   "execution_count": 432,
   "id": "ab6f6308-32fd-4f8d-96d1-0d51042ab3f2",
   "metadata": {},
   "outputs": [
    {
     "data": {
      "text/plain": [
       "'BreadChickenEggMilkSoyaWheatChocolates'"
      ]
     },
     "execution_count": 432,
     "metadata": {},
     "output_type": "execute_result"
    }
   ],
   "source": [
    "\"\".join(bucket.split(\",\"))"
   ]
  },
  {
   "cell_type": "code",
   "execution_count": 434,
   "id": "c8e7051a-aab6-4d4d-81db-b9b1d8c6110e",
   "metadata": {},
   "outputs": [
    {
     "data": {
      "text/plain": [
       "'Ankit-Kumar'"
      ]
     },
     "execution_count": 434,
     "metadata": {},
     "output_type": "execute_result"
    }
   ],
   "source": [
    "\"-\".join([\"Ankit\",\"Kumar\"])"
   ]
  },
  {
   "cell_type": "code",
   "execution_count": null,
   "id": "d1432be6-a473-4a58-aaab-cbbbeb71fcbf",
   "metadata": {},
   "outputs": [],
   "source": []
  },
  {
   "cell_type": "code",
   "execution_count": null,
   "id": "ccfc374c-ce71-43f9-88af-444d1f7f74a2",
   "metadata": {},
   "outputs": [],
   "source": []
  },
  {
   "cell_type": "code",
   "execution_count": null,
   "id": "23864483-e8ee-418a-b043-6f4d145b9e30",
   "metadata": {},
   "outputs": [],
   "source": []
  },
  {
   "cell_type": "code",
   "execution_count": null,
   "id": "c5ae44fb-97e9-46a1-9514-2b1caed0274c",
   "metadata": {},
   "outputs": [],
   "source": []
  },
  {
   "cell_type": "code",
   "execution_count": null,
   "id": "9484cf26-b88a-4aff-bc59-6b801e38b7a7",
   "metadata": {},
   "outputs": [],
   "source": []
  },
  {
   "cell_type": "code",
   "execution_count": null,
   "id": "b00e8398-2d5b-4028-b632-3fcd2eb7b463",
   "metadata": {},
   "outputs": [],
   "source": []
  },
  {
   "cell_type": "code",
   "execution_count": null,
   "id": "08fd1899-cfcc-43c9-bf1b-762eb11ddf58",
   "metadata": {},
   "outputs": [],
   "source": []
  },
  {
   "cell_type": "code",
   "execution_count": null,
   "id": "21860787-4950-4c73-bc5a-c8625743e60b",
   "metadata": {},
   "outputs": [],
   "source": []
  },
  {
   "cell_type": "code",
   "execution_count": null,
   "id": "db66d780-5f88-4239-bc74-fe4b1dad9f7c",
   "metadata": {},
   "outputs": [],
   "source": []
  },
  {
   "cell_type": "code",
   "execution_count": null,
   "id": "8240c12c-9d1d-48df-8c24-0f2101c80988",
   "metadata": {},
   "outputs": [],
   "source": []
  },
  {
   "cell_type": "code",
   "execution_count": null,
   "id": "fa316b4e-f2a5-4fa1-824d-14ca50088704",
   "metadata": {},
   "outputs": [],
   "source": []
  },
  {
   "cell_type": "code",
   "execution_count": null,
   "id": "ffaa45d0-bed0-4a8d-8849-305b01c6dc3b",
   "metadata": {},
   "outputs": [],
   "source": []
  },
  {
   "cell_type": "code",
   "execution_count": null,
   "id": "b652e356-0572-4678-9f49-2b651c6cdce0",
   "metadata": {},
   "outputs": [],
   "source": []
  },
  {
   "cell_type": "code",
   "execution_count": null,
   "id": "8d8514ac-9447-46a1-a641-1314c6914b59",
   "metadata": {},
   "outputs": [],
   "source": []
  },
  {
   "cell_type": "code",
   "execution_count": null,
   "id": "d1ab3422-415a-4c0e-adda-db2550f9b70f",
   "metadata": {},
   "outputs": [],
   "source": []
  },
  {
   "cell_type": "code",
   "execution_count": null,
   "id": "e9b8de2c-3521-4b06-8beb-16a8c0eb0ecc",
   "metadata": {},
   "outputs": [],
   "source": []
  },
  {
   "cell_type": "code",
   "execution_count": null,
   "id": "a915bb88-cc16-414c-ac6c-54512b0c73e3",
   "metadata": {},
   "outputs": [],
   "source": []
  },
  {
   "cell_type": "code",
   "execution_count": null,
   "id": "146fcade-fdcd-4f4f-ba99-a03870db16ce",
   "metadata": {},
   "outputs": [],
   "source": []
  },
  {
   "cell_type": "code",
   "execution_count": null,
   "id": "0921e762-1df7-4115-bfcf-4be7dc43dedc",
   "metadata": {},
   "outputs": [],
   "source": []
  },
  {
   "cell_type": "code",
   "execution_count": null,
   "id": "dc9b6467-4f8b-42a8-9267-b0899797e2c6",
   "metadata": {},
   "outputs": [],
   "source": []
  },
  {
   "cell_type": "code",
   "execution_count": null,
   "id": "a890ca5c-7713-4ddc-a842-26030b6dc433",
   "metadata": {},
   "outputs": [],
   "source": []
  },
  {
   "cell_type": "code",
   "execution_count": null,
   "id": "2ba2b14b-056f-4545-a689-42b72beefe9d",
   "metadata": {},
   "outputs": [],
   "source": []
  },
  {
   "cell_type": "code",
   "execution_count": null,
   "id": "5133d84d-6c45-4f07-8a69-b9cbd6e877d6",
   "metadata": {},
   "outputs": [],
   "source": []
  },
  {
   "cell_type": "code",
   "execution_count": null,
   "id": "3a616929-8dfe-4c3e-9def-8f7ccdf21192",
   "metadata": {},
   "outputs": [],
   "source": []
  },
  {
   "cell_type": "code",
   "execution_count": null,
   "id": "fd83a845-d038-4bf7-a31a-e964a1fb024d",
   "metadata": {},
   "outputs": [],
   "source": []
  },
  {
   "cell_type": "code",
   "execution_count": null,
   "id": "27031681-1cf7-47e7-8fa3-0c9df0acce45",
   "metadata": {},
   "outputs": [],
   "source": []
  },
  {
   "cell_type": "code",
   "execution_count": null,
   "id": "d399590b-e37c-4922-af5c-d13b918eb3be",
   "metadata": {},
   "outputs": [],
   "source": []
  },
  {
   "cell_type": "code",
   "execution_count": null,
   "id": "3167ffbd-9e8c-4e6c-af7b-7f9e8f785427",
   "metadata": {},
   "outputs": [],
   "source": []
  },
  {
   "cell_type": "code",
   "execution_count": null,
   "id": "c70282f7-ce8e-4ecc-97d0-ce1a40d7bae6",
   "metadata": {},
   "outputs": [],
   "source": []
  },
  {
   "cell_type": "code",
   "execution_count": null,
   "id": "913850cc-8265-4b13-84b7-53eb381f922e",
   "metadata": {},
   "outputs": [],
   "source": []
  },
  {
   "cell_type": "code",
   "execution_count": null,
   "id": "2f4c1d4a-a6a5-4a8e-a5f6-8f75dc935ac8",
   "metadata": {},
   "outputs": [],
   "source": []
  },
  {
   "cell_type": "code",
   "execution_count": null,
   "id": "7580350d-4462-4115-aea8-560b16b23295",
   "metadata": {},
   "outputs": [],
   "source": []
  },
  {
   "cell_type": "code",
   "execution_count": null,
   "id": "4d73edd8-1f32-41a1-a940-1cf1e1667b9a",
   "metadata": {},
   "outputs": [],
   "source": []
  },
  {
   "cell_type": "code",
   "execution_count": null,
   "id": "417b8098-b151-435b-b521-f6d4ad880d36",
   "metadata": {},
   "outputs": [],
   "source": []
  },
  {
   "cell_type": "code",
   "execution_count": null,
   "id": "4ff85611-7140-4795-bd44-5becd6ac995c",
   "metadata": {},
   "outputs": [],
   "source": []
  },
  {
   "cell_type": "code",
   "execution_count": null,
   "id": "44c028de-b386-4b76-8a9a-b1c09dd98aea",
   "metadata": {},
   "outputs": [],
   "source": []
  },
  {
   "cell_type": "code",
   "execution_count": null,
   "id": "2180015c-5fae-4023-a3a6-20e0a4c31c9c",
   "metadata": {},
   "outputs": [],
   "source": []
  },
  {
   "cell_type": "code",
   "execution_count": null,
   "id": "c1fc7ac2-01cf-4281-834f-4502e0276cc2",
   "metadata": {},
   "outputs": [],
   "source": []
  },
  {
   "cell_type": "code",
   "execution_count": null,
   "id": "e4ab22ea-496f-4e80-a035-afcb0f21d80d",
   "metadata": {},
   "outputs": [],
   "source": []
  },
  {
   "cell_type": "code",
   "execution_count": null,
   "id": "5596ba18-4091-46a9-9357-e02706ea0bd0",
   "metadata": {},
   "outputs": [],
   "source": []
  },
  {
   "cell_type": "code",
   "execution_count": null,
   "id": "a2f06b23-b4d8-41cf-86e3-a9d2035b59ab",
   "metadata": {},
   "outputs": [],
   "source": []
  },
  {
   "cell_type": "code",
   "execution_count": null,
   "id": "aad6950a-7be0-4380-a6ad-dcae3625567d",
   "metadata": {},
   "outputs": [],
   "source": []
  },
  {
   "cell_type": "code",
   "execution_count": null,
   "id": "e20e4875-f8d6-4225-b6d1-d56c28c9fd70",
   "metadata": {},
   "outputs": [],
   "source": []
  },
  {
   "cell_type": "code",
   "execution_count": null,
   "id": "dc6c5583-7db8-4a57-9e2f-959f300d6ad6",
   "metadata": {},
   "outputs": [],
   "source": []
  },
  {
   "cell_type": "code",
   "execution_count": null,
   "id": "d7aef97d-48a8-407d-8b0b-9b85d71e71bd",
   "metadata": {},
   "outputs": [],
   "source": []
  },
  {
   "cell_type": "code",
   "execution_count": null,
   "id": "ec651fae-3f7a-4020-b4f0-515581638aaa",
   "metadata": {},
   "outputs": [],
   "source": []
  },
  {
   "cell_type": "code",
   "execution_count": null,
   "id": "fd631e14-df6f-4db0-af11-4272e5ceef2d",
   "metadata": {},
   "outputs": [],
   "source": []
  },
  {
   "cell_type": "code",
   "execution_count": null,
   "id": "1e4bc43a-537a-47bc-b228-b8f751a5f766",
   "metadata": {},
   "outputs": [],
   "source": []
  },
  {
   "cell_type": "code",
   "execution_count": null,
   "id": "d263cead-71ac-4c2d-bff2-554c1ec618df",
   "metadata": {},
   "outputs": [],
   "source": []
  },
  {
   "cell_type": "code",
   "execution_count": null,
   "id": "0e602a3d-a2e1-45a6-9a6b-3c2cc6c359be",
   "metadata": {},
   "outputs": [],
   "source": []
  },
  {
   "cell_type": "code",
   "execution_count": null,
   "id": "572403d6-e0ba-4397-8c46-60b2663eda21",
   "metadata": {},
   "outputs": [],
   "source": []
  },
  {
   "cell_type": "code",
   "execution_count": null,
   "id": "c091df9d-0634-4185-b1e4-73759ec5ac93",
   "metadata": {},
   "outputs": [],
   "source": []
  },
  {
   "cell_type": "code",
   "execution_count": null,
   "id": "598a4b29-a16a-4691-92cc-851aa9037cfe",
   "metadata": {},
   "outputs": [],
   "source": []
  },
  {
   "cell_type": "code",
   "execution_count": null,
   "id": "6d89c2da-00b9-410e-bb7e-eab52f7eecbe",
   "metadata": {},
   "outputs": [],
   "source": []
  },
  {
   "cell_type": "code",
   "execution_count": null,
   "id": "9db2a0eb-4551-4af8-9ef2-ececcad15bbe",
   "metadata": {},
   "outputs": [],
   "source": []
  },
  {
   "cell_type": "code",
   "execution_count": null,
   "id": "2b18bb60-ffe3-4305-8c25-80a242b1aef6",
   "metadata": {},
   "outputs": [],
   "source": []
  },
  {
   "cell_type": "code",
   "execution_count": null,
   "id": "6dddd824-1dc2-4c3c-ab10-fa84e8cbe425",
   "metadata": {},
   "outputs": [],
   "source": []
  },
  {
   "cell_type": "code",
   "execution_count": null,
   "id": "3846d3bc-6a0b-4e5d-8a56-0f8af92f67e1",
   "metadata": {},
   "outputs": [],
   "source": []
  },
  {
   "cell_type": "code",
   "execution_count": null,
   "id": "10f19c47-8480-4fbb-8a45-72dc603e4e87",
   "metadata": {},
   "outputs": [],
   "source": []
  },
  {
   "cell_type": "code",
   "execution_count": null,
   "id": "ef7cc3fb-250b-4fcf-8603-e9222138352e",
   "metadata": {},
   "outputs": [],
   "source": []
  },
  {
   "cell_type": "code",
   "execution_count": null,
   "id": "49133714-1890-4e84-b43f-277732ffeb51",
   "metadata": {},
   "outputs": [],
   "source": []
  },
  {
   "cell_type": "code",
   "execution_count": null,
   "id": "55d97ba4-19b0-4c4f-96ae-a09173cf789b",
   "metadata": {},
   "outputs": [],
   "source": []
  },
  {
   "cell_type": "code",
   "execution_count": null,
   "id": "cb8c1929-fc98-4015-8f39-c346743e3ee5",
   "metadata": {},
   "outputs": [],
   "source": []
  },
  {
   "cell_type": "code",
   "execution_count": null,
   "id": "724174df-5ade-4ab5-a6ee-3ea1459c79e9",
   "metadata": {},
   "outputs": [],
   "source": []
  },
  {
   "cell_type": "code",
   "execution_count": null,
   "id": "2bb4f7de-bf56-4bb6-87cf-5fa9ff5c0d41",
   "metadata": {},
   "outputs": [],
   "source": []
  },
  {
   "cell_type": "code",
   "execution_count": null,
   "id": "05814942-1a40-4160-be3f-5fd8db8edb09",
   "metadata": {},
   "outputs": [],
   "source": []
  },
  {
   "cell_type": "code",
   "execution_count": null,
   "id": "4a8cdd4e-55a1-4b89-92d9-52665202e2a2",
   "metadata": {},
   "outputs": [],
   "source": []
  },
  {
   "cell_type": "code",
   "execution_count": null,
   "id": "f6533bdb-5446-4393-ae61-3b25b86268c6",
   "metadata": {},
   "outputs": [],
   "source": []
  },
  {
   "cell_type": "code",
   "execution_count": null,
   "id": "f70e58be-33e9-46ff-a475-f2dd92f77352",
   "metadata": {},
   "outputs": [],
   "source": []
  },
  {
   "cell_type": "code",
   "execution_count": null,
   "id": "84cd9beb-7652-4ee9-9265-ecf6e3219a8b",
   "metadata": {},
   "outputs": [],
   "source": []
  },
  {
   "cell_type": "code",
   "execution_count": null,
   "id": "b07df862-d2ff-4b04-a767-acf471df745c",
   "metadata": {},
   "outputs": [],
   "source": []
  },
  {
   "cell_type": "code",
   "execution_count": null,
   "id": "c5fff70c-0e6f-4e20-acc6-142583717557",
   "metadata": {},
   "outputs": [],
   "source": []
  },
  {
   "cell_type": "code",
   "execution_count": null,
   "id": "74f3a50e-5101-4825-a0f2-514bc0514a01",
   "metadata": {},
   "outputs": [],
   "source": []
  },
  {
   "cell_type": "code",
   "execution_count": null,
   "id": "219d55ea-0b25-4283-be25-06444d7aa7cf",
   "metadata": {},
   "outputs": [],
   "source": []
  },
  {
   "cell_type": "code",
   "execution_count": null,
   "id": "d358bb9d-1227-4dd2-9da1-114552af61bf",
   "metadata": {},
   "outputs": [],
   "source": []
  },
  {
   "cell_type": "code",
   "execution_count": null,
   "id": "903e022f-4f00-44c9-aa12-5f82f4321c4d",
   "metadata": {},
   "outputs": [],
   "source": []
  },
  {
   "cell_type": "code",
   "execution_count": null,
   "id": "730f479f-b6b0-439c-8dc7-9da0c7684575",
   "metadata": {},
   "outputs": [],
   "source": []
  },
  {
   "cell_type": "code",
   "execution_count": null,
   "id": "27b70f7a-786b-4ea9-9671-929430ab5293",
   "metadata": {},
   "outputs": [],
   "source": []
  },
  {
   "cell_type": "code",
   "execution_count": null,
   "id": "8813e36e-365a-40bf-9ae2-3fb4d151af7e",
   "metadata": {},
   "outputs": [],
   "source": []
  },
  {
   "cell_type": "code",
   "execution_count": null,
   "id": "346516a1-ca3c-4aba-95ab-69d89bb0761e",
   "metadata": {},
   "outputs": [],
   "source": []
  },
  {
   "cell_type": "code",
   "execution_count": null,
   "id": "b8585152-caae-4ad9-b677-2f0e90e02766",
   "metadata": {},
   "outputs": [],
   "source": []
  },
  {
   "cell_type": "code",
   "execution_count": null,
   "id": "a2f22430-7d21-44df-bd05-2db642aea2d1",
   "metadata": {},
   "outputs": [],
   "source": []
  },
  {
   "cell_type": "code",
   "execution_count": null,
   "id": "3cda36d3-e2ca-410e-afe4-6e9e418e44ea",
   "metadata": {},
   "outputs": [],
   "source": []
  },
  {
   "cell_type": "code",
   "execution_count": null,
   "id": "ec8591f2-eca0-46a6-970b-eb3adb94c0b2",
   "metadata": {},
   "outputs": [],
   "source": []
  }
 ],
 "metadata": {
  "kernelspec": {
   "display_name": "Python [conda env:base] *",
   "language": "python",
   "name": "conda-base-py"
  },
  "language_info": {
   "codemirror_mode": {
    "name": "ipython",
    "version": 3
   },
   "file_extension": ".py",
   "mimetype": "text/x-python",
   "name": "python",
   "nbconvert_exporter": "python",
   "pygments_lexer": "ipython3",
   "version": "3.12.7"
  }
 },
 "nbformat": 4,
 "nbformat_minor": 5
}
